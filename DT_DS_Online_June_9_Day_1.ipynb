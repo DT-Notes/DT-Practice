{
 "cells": [
  {
   "cell_type": "markdown",
   "id": "f018d657",
   "metadata": {},
   "source": [
    "# Introduction to Python Programming - H1"
   ]
  },
  {
   "cell_type": "markdown",
   "id": "6a729cc1",
   "metadata": {},
   "source": [
    "## Introduction to Python Programming - H2"
   ]
  },
  {
   "cell_type": "markdown",
   "id": "31d9b83c",
   "metadata": {},
   "source": [
    "### Introduction to Python Programming - H3"
   ]
  },
  {
   "cell_type": "markdown",
   "id": "e4d2f4bf",
   "metadata": {},
   "source": [
    "#### Introduction to Python Programming - H4"
   ]
  },
  {
   "cell_type": "markdown",
   "id": "a428ea3a",
   "metadata": {},
   "source": [
    "### Features of Python Programming\n",
    "\n",
    "1. Python is **Open- Source** Programming language\n",
    "2. Python is *Dynamically typed* Language\n",
    "3. Python is ***platform Independent*** Language\n",
    "4. Python **Interpreter based Language**\n",
    "5. Python is **Object Oriented Programming** language\n",
    "6. Python have **Exception Handling Techniques**\n",
    "7. Python allows Programmers to write fewer lines of code when compared to other programming languages"
   ]
  },
  {
   "cell_type": "code",
   "execution_count": 1,
   "id": "607a77d5",
   "metadata": {},
   "outputs": [
    {
     "name": "stdout",
     "output_type": "stream",
     "text": [
      "Hello all , Welcome to Datateach.ai\n"
     ]
    }
   ],
   "source": [
    "print('Hello all , Welcome to Datateach.ai')"
   ]
  },
  {
   "cell_type": "markdown",
   "id": "d457c4e6",
   "metadata": {},
   "source": [
    "### Keywords"
   ]
  },
  {
   "cell_type": "markdown",
   "id": "ced21ded",
   "metadata": {},
   "source": [
    "1. Keywords are **Reserved Words** which have Special Meaning\n",
    "2. Keywords are used to write Meaningful Instructions \n",
    "3. Keywords Should not be used a variable Names"
   ]
  },
  {
   "cell_type": "code",
   "execution_count": 1,
   "id": "69961f9d",
   "metadata": {},
   "outputs": [
    {
     "name": "stdout",
     "output_type": "stream",
     "text": [
      "['False', 'None', 'True', 'and', 'as', 'assert', 'async', 'await', 'break', 'class', 'continue', 'def', 'del', 'elif', 'else', 'except', 'finally', 'for', 'from', 'global', 'if', 'import', 'in', 'is', 'lambda', 'nonlocal', 'not', 'or', 'pass', 'raise', 'return', 'try', 'while', 'with', 'yield']\n"
     ]
    }
   ],
   "source": [
    "import keyword\n",
    "print(keyword.kwlist)"
   ]
  },
  {
   "cell_type": "code",
   "execution_count": 2,
   "id": "7c1c4071",
   "metadata": {},
   "outputs": [
    {
     "name": "stdout",
     "output_type": "stream",
     "text": [
      "35\n"
     ]
    }
   ],
   "source": [
    "print(len(keyword.kwlist))"
   ]
  },
  {
   "cell_type": "markdown",
   "id": "eb6a9285",
   "metadata": {},
   "source": [
    "### Identifiers"
   ]
  },
  {
   "cell_type": "raw",
   "id": "86f6e897",
   "metadata": {},
   "source": [
    "Name of a Variable / module / function / object / class is called Identifier"
   ]
  },
  {
   "cell_type": "markdown",
   "id": "95a9db17",
   "metadata": {},
   "source": [
    "#### Identifier Name Rules"
   ]
  },
  {
   "cell_type": "markdown",
   "id": "69a6e41c",
   "metadata": {},
   "source": [
    "1. Identifiers Should only contain Alphanumerics and an underscore ( _ )\n",
    "2. Indentifiers should only start with a character or an underscore\n",
    "3. Keywords should not be used as Identifiers\n",
    "4. White space is not allowed in Identifiers"
   ]
  },
  {
   "cell_type": "markdown",
   "id": "0ccd9ea6",
   "metadata": {},
   "source": [
    "#### Comments"
   ]
  },
  {
   "cell_type": "raw",
   "id": "8b801a24",
   "metadata": {},
   "source": [
    "In python comments starts with # . Whatever we write after # will be considered as comments"
   ]
  },
  {
   "cell_type": "code",
   "execution_count": 3,
   "id": "0f3496f5",
   "metadata": {},
   "outputs": [],
   "source": [
    "# this is cooment line"
   ]
  },
  {
   "cell_type": "code",
   "execution_count": 4,
   "id": "3048a6bb",
   "metadata": {},
   "outputs": [],
   "source": [
    "# Comments in Python "
   ]
  },
  {
   "cell_type": "code",
   "execution_count": 5,
   "id": "7a92e3d1",
   "metadata": {},
   "outputs": [],
   "source": [
    "area = 89 # valid "
   ]
  },
  {
   "cell_type": "code",
   "execution_count": 6,
   "id": "652415f0",
   "metadata": {},
   "outputs": [],
   "source": [
    "Area = 78 # valid"
   ]
  },
  {
   "cell_type": "code",
   "execution_count": 7,
   "id": "a6182a0a",
   "metadata": {},
   "outputs": [],
   "source": [
    "Area5 = 45 # valid\n"
   ]
  },
  {
   "cell_type": "code",
   "execution_count": 8,
   "id": "340e01a0",
   "metadata": {},
   "outputs": [],
   "source": [
    "Area_4 = 34 # valid "
   ]
  },
  {
   "cell_type": "code",
   "execution_count": 9,
   "id": "2d6b14e1",
   "metadata": {},
   "outputs": [
    {
     "ename": "SyntaxError",
     "evalue": "invalid decimal literal (3700743886.py, line 1)",
     "output_type": "error",
     "traceback": [
      "\u001b[0;36m  Cell \u001b[0;32mIn[9], line 1\u001b[0;36m\u001b[0m\n\u001b[0;31m    4area = 67 # invalid\u001b[0m\n\u001b[0m    ^\u001b[0m\n\u001b[0;31mSyntaxError\u001b[0m\u001b[0;31m:\u001b[0m invalid decimal literal\n"
     ]
    }
   ],
   "source": [
    "4area = 67 # invalid "
   ]
  },
  {
   "cell_type": "code",
   "execution_count": 10,
   "id": "ac3a6306",
   "metadata": {},
   "outputs": [],
   "source": [
    "_area = 89 # valid"
   ]
  },
  {
   "cell_type": "code",
   "execution_count": 11,
   "id": "eb6e9559",
   "metadata": {},
   "outputs": [],
   "source": [
    "_a = 23 # valid"
   ]
  },
  {
   "cell_type": "code",
   "execution_count": 13,
   "id": "f4183427",
   "metadata": {},
   "outputs": [
    {
     "ename": "SyntaxError",
     "evalue": "invalid syntax (2816956920.py, line 1)",
     "output_type": "error",
     "traceback": [
      "\u001b[0;36m  Cell \u001b[0;32mIn[13], line 1\u001b[0;36m\u001b[0m\n\u001b[0;31m    break = 67 # invalid\u001b[0m\n\u001b[0m          ^\u001b[0m\n\u001b[0;31mSyntaxError\u001b[0m\u001b[0;31m:\u001b[0m invalid syntax\n"
     ]
    }
   ],
   "source": [
    "break = 67 # invalid"
   ]
  },
  {
   "cell_type": "code",
   "execution_count": 14,
   "id": "cafad64f",
   "metadata": {},
   "outputs": [
    {
     "ename": "SyntaxError",
     "evalue": "invalid syntax (1723829863.py, line 1)",
     "output_type": "error",
     "traceback": [
      "\u001b[0;36m  Cell \u001b[0;32mIn[14], line 1\u001b[0;36m\u001b[0m\n\u001b[0;31m    if = 45 # invalid\u001b[0m\n\u001b[0m       ^\u001b[0m\n\u001b[0;31mSyntaxError\u001b[0m\u001b[0;31m:\u001b[0m invalid syntax\n"
     ]
    }
   ],
   "source": [
    "if = 45 # invalid"
   ]
  },
  {
   "cell_type": "code",
   "execution_count": 15,
   "id": "5a37276a",
   "metadata": {},
   "outputs": [
    {
     "ename": "SyntaxError",
     "evalue": "invalid syntax (3752400858.py, line 1)",
     "output_type": "error",
     "traceback": [
      "\u001b[0;36m  Cell \u001b[0;32mIn[15], line 1\u001b[0;36m\u001b[0m\n\u001b[0;31m    area width = 67 # invalid\u001b[0m\n\u001b[0m         ^\u001b[0m\n\u001b[0;31mSyntaxError\u001b[0m\u001b[0;31m:\u001b[0m invalid syntax\n"
     ]
    }
   ],
   "source": [
    "area width = 67 # invalid "
   ]
  },
  {
   "cell_type": "code",
   "execution_count": 16,
   "id": "c0ded687",
   "metadata": {},
   "outputs": [],
   "source": [
    "area_width = 67 # valid"
   ]
  },
  {
   "cell_type": "markdown",
   "id": "09e989ed",
   "metadata": {},
   "source": [
    "#### variables"
   ]
  },
  {
   "cell_type": "raw",
   "id": "a09d3fa8",
   "metadata": {},
   "source": [
    "variable is Data Container which stores a Value .\n",
    "Variable may be a shorter names like a, b , k , x or more descriptive name like area , width ,data ..."
   ]
  },
  {
   "cell_type": "code",
   "execution_count": 17,
   "id": "26357721",
   "metadata": {},
   "outputs": [],
   "source": [
    "a = 20 "
   ]
  },
  {
   "cell_type": "code",
   "execution_count": 18,
   "id": "b60d0f31",
   "metadata": {},
   "outputs": [
    {
     "data": {
      "text/plain": [
       "20"
      ]
     },
     "execution_count": 18,
     "metadata": {},
     "output_type": "execute_result"
    }
   ],
   "source": [
    "a"
   ]
  },
  {
   "cell_type": "code",
   "execution_count": 19,
   "id": "1a33373e",
   "metadata": {},
   "outputs": [],
   "source": [
    "b = 45 "
   ]
  },
  {
   "cell_type": "code",
   "execution_count": 20,
   "id": "959d2274",
   "metadata": {},
   "outputs": [
    {
     "data": {
      "text/plain": [
       "45"
      ]
     },
     "execution_count": 20,
     "metadata": {},
     "output_type": "execute_result"
    }
   ],
   "source": [
    "b"
   ]
  },
  {
   "cell_type": "code",
   "execution_count": 21,
   "id": "d2f466cc",
   "metadata": {},
   "outputs": [],
   "source": [
    "area = 78 "
   ]
  },
  {
   "cell_type": "code",
   "execution_count": 22,
   "id": "4ac5ecdf",
   "metadata": {},
   "outputs": [
    {
     "data": {
      "text/plain": [
       "78"
      ]
     },
     "execution_count": 22,
     "metadata": {},
     "output_type": "execute_result"
    }
   ],
   "source": [
    "area "
   ]
  },
  {
   "cell_type": "code",
   "execution_count": 23,
   "id": "32cc7e5b",
   "metadata": {},
   "outputs": [],
   "source": [
    "area_width = 89 "
   ]
  },
  {
   "cell_type": "code",
   "execution_count": 24,
   "id": "7af0b44c",
   "metadata": {},
   "outputs": [],
   "source": [
    "a = 45 "
   ]
  },
  {
   "cell_type": "code",
   "execution_count": 25,
   "id": "9367ab44",
   "metadata": {},
   "outputs": [
    {
     "name": "stdout",
     "output_type": "stream",
     "text": [
      "45\n"
     ]
    }
   ],
   "source": [
    "print(a)"
   ]
  },
  {
   "cell_type": "code",
   "execution_count": 26,
   "id": "86dc066e",
   "metadata": {},
   "outputs": [],
   "source": [
    "a = 56"
   ]
  },
  {
   "cell_type": "code",
   "execution_count": 27,
   "id": "dd425727",
   "metadata": {},
   "outputs": [
    {
     "name": "stdout",
     "output_type": "stream",
     "text": [
      "56\n"
     ]
    }
   ],
   "source": [
    "print(a)"
   ]
  },
  {
   "cell_type": "code",
   "execution_count": 28,
   "id": "1b9cd012",
   "metadata": {},
   "outputs": [],
   "source": [
    "a, b, c = 10, 20, 30 "
   ]
  },
  {
   "cell_type": "code",
   "execution_count": 29,
   "id": "ba26c3ac",
   "metadata": {},
   "outputs": [
    {
     "data": {
      "text/plain": [
       "(10, 20, 30)"
      ]
     },
     "execution_count": 29,
     "metadata": {},
     "output_type": "execute_result"
    }
   ],
   "source": [
    "a,b,c"
   ]
  },
  {
   "cell_type": "code",
   "execution_count": 30,
   "id": "5bcf76d5",
   "metadata": {},
   "outputs": [],
   "source": [
    "a = b = c = 45"
   ]
  },
  {
   "cell_type": "code",
   "execution_count": 31,
   "id": "d1a56e70",
   "metadata": {},
   "outputs": [
    {
     "data": {
      "text/plain": [
       "(45, 45, 45)"
      ]
     },
     "execution_count": 31,
     "metadata": {},
     "output_type": "execute_result"
    }
   ],
   "source": [
    "a,b,c"
   ]
  },
  {
   "cell_type": "markdown",
   "id": "faee6eff",
   "metadata": {},
   "source": [
    "## Data Types \n",
    "\n",
    "1. **Numeric**\n",
    "    1. Integer\n",
    "    2. Float \n",
    "    3. Complex \n",
    "2. **Sequence**\n",
    "    1. String\n",
    "    2. List \n",
    "    3. Tuple\n",
    "3. **Text**\n",
    "    1. String\n",
    "4. **Set**\n",
    "    1. Set \n",
    "5. **Boolean**\n",
    "    1. True\n",
    "    2. False\n",
    "6. **Dictionary**\n",
    "    1. Dictionary"
   ]
  },
  {
   "cell_type": "markdown",
   "id": "c01ddca8",
   "metadata": {},
   "source": [
    "#### Numeric Data Types\n",
    "1. Integer"
   ]
  },
  {
   "cell_type": "code",
   "execution_count": 32,
   "id": "89beb0d5",
   "metadata": {},
   "outputs": [],
   "source": [
    "a = 10 \n",
    "b = -67 \n",
    "c = 678938436463"
   ]
  },
  {
   "cell_type": "code",
   "execution_count": 33,
   "id": "1a7fc86c",
   "metadata": {},
   "outputs": [
    {
     "data": {
      "text/plain": [
       "int"
      ]
     },
     "execution_count": 33,
     "metadata": {},
     "output_type": "execute_result"
    }
   ],
   "source": [
    "type(a) # type() is a method which returns data type of a variable "
   ]
  },
  {
   "cell_type": "code",
   "execution_count": 34,
   "id": "94f8376f",
   "metadata": {},
   "outputs": [
    {
     "data": {
      "text/plain": [
       "int"
      ]
     },
     "execution_count": 34,
     "metadata": {},
     "output_type": "execute_result"
    }
   ],
   "source": [
    "type(b)"
   ]
  },
  {
   "cell_type": "code",
   "execution_count": 35,
   "id": "2aa691e9",
   "metadata": {},
   "outputs": [
    {
     "data": {
      "text/plain": [
       "int"
      ]
     },
     "execution_count": 35,
     "metadata": {},
     "output_type": "execute_result"
    }
   ],
   "source": [
    "type(c)"
   ]
  },
  {
   "cell_type": "code",
   "execution_count": 36,
   "id": "371415f2",
   "metadata": {},
   "outputs": [
    {
     "name": "stdout",
     "output_type": "stream",
     "text": [
      "<class 'int'>\n"
     ]
    }
   ],
   "source": [
    "print(type(a))"
   ]
  },
  {
   "cell_type": "code",
   "execution_count": 37,
   "id": "0972aa12",
   "metadata": {},
   "outputs": [
    {
     "name": "stdout",
     "output_type": "stream",
     "text": [
      "<class 'int'>\n"
     ]
    }
   ],
   "source": [
    "print(type(b))"
   ]
  },
  {
   "cell_type": "code",
   "execution_count": 38,
   "id": "ab3cdba4",
   "metadata": {},
   "outputs": [
    {
     "name": "stdout",
     "output_type": "stream",
     "text": [
      "The data Type of a variable a is :  <class 'int'>\n",
      "The data Type of a variable b is :  <class 'int'>\n",
      "The data Type of a variable c is :  <class 'int'>\n"
     ]
    }
   ],
   "source": [
    "print('The data Type of a variable a is : ',type(a))\n",
    "print('The data Type of a variable b is : ',type(b))\n",
    "print('The data Type of a variable c is : ',type(c))"
   ]
  },
  {
   "cell_type": "code",
   "execution_count": 39,
   "id": "5f36998d",
   "metadata": {},
   "outputs": [],
   "source": [
    "# float \n",
    "a = 34.78\n",
    "b = -90.67\n",
    "c = 3.89644326277282"
   ]
  },
  {
   "cell_type": "code",
   "execution_count": 40,
   "id": "319e8e75",
   "metadata": {},
   "outputs": [
    {
     "name": "stdout",
     "output_type": "stream",
     "text": [
      "The data Type of a variable a is :  <class 'float'>\n",
      "The data Type of a variable b is :  <class 'float'>\n",
      "The data Type of a variable c is :  <class 'float'>\n"
     ]
    }
   ],
   "source": [
    "print('The data Type of a variable a is : ',type(a))\n",
    "print('The data Type of a variable b is : ',type(b))\n",
    "print('The data Type of a variable c is : ',type(c))"
   ]
  },
  {
   "cell_type": "code",
   "execution_count": 41,
   "id": "d9532575",
   "metadata": {},
   "outputs": [],
   "source": [
    "a = 3+9j\n",
    "b = -7-4j\n",
    "c = -5j"
   ]
  },
  {
   "cell_type": "code",
   "execution_count": 42,
   "id": "ca16eea9",
   "metadata": {},
   "outputs": [
    {
     "name": "stdout",
     "output_type": "stream",
     "text": [
      "The data Type of a variable a is :  <class 'complex'>\n",
      "The data Type of a variable b is :  <class 'complex'>\n",
      "The data Type of a variable c is :  <class 'complex'>\n"
     ]
    }
   ],
   "source": [
    "print('The data Type of a variable a is : ',type(a))\n",
    "print('The data Type of a variable b is : ',type(b))\n",
    "print('The data Type of a variable c is : ',type(c))"
   ]
  },
  {
   "cell_type": "markdown",
   "id": "0ae265c1",
   "metadata": {},
   "source": [
    "## Type Conversion"
   ]
  },
  {
   "cell_type": "raw",
   "id": "871127e5",
   "metadata": {},
   "source": [
    "Type Conversion:\n",
    "It is a process of converting data type of a variable to another data type\n",
    "\n",
    "1. Integer - Float \n",
    "2. Integer - String \n",
    "3. Float - Integer\n",
    "4. Float - String \n",
    "5. String - integer (** if string is equal to any numeric value of base 10)\n",
    "6. String - Float (** if string is equal to any numeric value of base 10)"
   ]
  },
  {
   "cell_type": "code",
   "execution_count": 43,
   "id": "4e8288b9",
   "metadata": {},
   "outputs": [
    {
     "name": "stdout",
     "output_type": "stream",
     "text": [
      "20 <class 'int'>\n"
     ]
    }
   ],
   "source": [
    "# Integer to float \n",
    "a = 20 \n",
    "print(a,type(a))"
   ]
  },
  {
   "cell_type": "code",
   "execution_count": 44,
   "id": "246e09ed",
   "metadata": {},
   "outputs": [
    {
     "data": {
      "text/plain": [
       "20.0"
      ]
     },
     "execution_count": 44,
     "metadata": {},
     "output_type": "execute_result"
    }
   ],
   "source": [
    "float(a)"
   ]
  },
  {
   "cell_type": "code",
   "execution_count": 45,
   "id": "48c0703d",
   "metadata": {},
   "outputs": [
    {
     "name": "stdout",
     "output_type": "stream",
     "text": [
      "20.0 <class 'float'>\n"
     ]
    }
   ],
   "source": [
    "b = float(a)\n",
    "print(b,type(b))"
   ]
  },
  {
   "cell_type": "code",
   "execution_count": 46,
   "id": "5764dac3",
   "metadata": {},
   "outputs": [],
   "source": [
    "# Integer to string "
   ]
  },
  {
   "cell_type": "code",
   "execution_count": 47,
   "id": "294815d1",
   "metadata": {},
   "outputs": [
    {
     "data": {
      "text/plain": [
       "20"
      ]
     },
     "execution_count": 47,
     "metadata": {},
     "output_type": "execute_result"
    }
   ],
   "source": [
    "a"
   ]
  },
  {
   "cell_type": "code",
   "execution_count": 48,
   "id": "7420c788",
   "metadata": {},
   "outputs": [
    {
     "data": {
      "text/plain": [
       "'20'"
      ]
     },
     "execution_count": 48,
     "metadata": {},
     "output_type": "execute_result"
    }
   ],
   "source": [
    "str(a)"
   ]
  },
  {
   "cell_type": "code",
   "execution_count": 49,
   "id": "c34ef244",
   "metadata": {},
   "outputs": [],
   "source": [
    "#float to integer \n",
    "a = 56.89"
   ]
  },
  {
   "cell_type": "code",
   "execution_count": 50,
   "id": "55ab027b",
   "metadata": {},
   "outputs": [
    {
     "name": "stdout",
     "output_type": "stream",
     "text": [
      "56.89 <class 'float'>\n"
     ]
    }
   ],
   "source": [
    "print(a,type(a))"
   ]
  },
  {
   "cell_type": "code",
   "execution_count": 51,
   "id": "8769e3a8",
   "metadata": {},
   "outputs": [
    {
     "data": {
      "text/plain": [
       "56"
      ]
     },
     "execution_count": 51,
     "metadata": {},
     "output_type": "execute_result"
    }
   ],
   "source": [
    "int(a)"
   ]
  },
  {
   "cell_type": "code",
   "execution_count": 52,
   "id": "031de1f6",
   "metadata": {},
   "outputs": [
    {
     "data": {
      "text/plain": [
       "56.89"
      ]
     },
     "execution_count": 52,
     "metadata": {},
     "output_type": "execute_result"
    }
   ],
   "source": [
    "a"
   ]
  },
  {
   "cell_type": "code",
   "execution_count": 53,
   "id": "cb06d8a1",
   "metadata": {},
   "outputs": [
    {
     "data": {
      "text/plain": [
       "'56.89'"
      ]
     },
     "execution_count": 53,
     "metadata": {},
     "output_type": "execute_result"
    }
   ],
   "source": [
    "str(a)"
   ]
  },
  {
   "cell_type": "code",
   "execution_count": 54,
   "id": "8563ca09",
   "metadata": {},
   "outputs": [],
   "source": [
    "#string to integer \n",
    "#if string is equal to a numeric of base 10 \n",
    "\n",
    "a = 'python'"
   ]
  },
  {
   "cell_type": "code",
   "execution_count": 55,
   "id": "37cd793c",
   "metadata": {},
   "outputs": [
    {
     "ename": "ValueError",
     "evalue": "invalid literal for int() with base 10: 'python'",
     "output_type": "error",
     "traceback": [
      "\u001b[0;31m---------------------------------------------------------------------------\u001b[0m",
      "\u001b[0;31mValueError\u001b[0m                                Traceback (most recent call last)",
      "Cell \u001b[0;32mIn[55], line 1\u001b[0m\n\u001b[0;32m----> 1\u001b[0m \u001b[38;5;28;43mint\u001b[39;49m\u001b[43m(\u001b[49m\u001b[43ma\u001b[49m\u001b[43m)\u001b[49m\n",
      "\u001b[0;31mValueError\u001b[0m: invalid literal for int() with base 10: 'python'"
     ]
    }
   ],
   "source": [
    "int(a)"
   ]
  },
  {
   "cell_type": "code",
   "execution_count": 56,
   "id": "231260c3",
   "metadata": {},
   "outputs": [
    {
     "name": "stdout",
     "output_type": "stream",
     "text": [
      "20 <class 'str'>\n"
     ]
    }
   ],
   "source": [
    "a = '20'\n",
    "print(a,type(a))"
   ]
  },
  {
   "cell_type": "code",
   "execution_count": 57,
   "id": "c085aca5",
   "metadata": {},
   "outputs": [
    {
     "data": {
      "text/plain": [
       "20"
      ]
     },
     "execution_count": 57,
     "metadata": {},
     "output_type": "execute_result"
    }
   ],
   "source": [
    "int(a)"
   ]
  },
  {
   "cell_type": "code",
   "execution_count": 58,
   "id": "cb4dfbb9",
   "metadata": {},
   "outputs": [
    {
     "data": {
      "text/plain": [
       "20.0"
      ]
     },
     "execution_count": 58,
     "metadata": {},
     "output_type": "execute_result"
    }
   ],
   "source": [
    "float(a)"
   ]
  },
  {
   "cell_type": "markdown",
   "id": "68a03c6a",
   "metadata": {},
   "source": [
    "## Operators\n",
    "\n",
    "1. **Arithmetic Operators**\n",
    "    1. Addition ( + )\n",
    "    2. Subtraction ( - )\n",
    "    3. Multiplication ( * )\n",
    "    4. Division ( / )\n",
    "    5. Floor Division ( // )\n",
    "    6. Modulus ( % )\n",
    "    7. Exponentation( ** )\n",
    "2. **Assignment Operators**\n",
    "    1. Assignment Operators ( = )\n",
    "3. **Relationship Operators(or) Comparision Operators**\n",
    "4. **Logical Operators**\n",
    "5. **Membership Operators**\n",
    "6. **Identity Operators**\n",
    "7. **Bitwise Operators**"
   ]
  },
  {
   "cell_type": "markdown",
   "id": "a559d191",
   "metadata": {},
   "source": [
    "#### Arithmetic Operators"
   ]
  },
  {
   "cell_type": "code",
   "execution_count": 59,
   "id": "1e854c14",
   "metadata": {},
   "outputs": [
    {
     "data": {
      "text/plain": [
       "13"
      ]
     },
     "execution_count": 59,
     "metadata": {},
     "output_type": "execute_result"
    }
   ],
   "source": [
    "# addition \n",
    "a = 10 \n",
    "b = 3\n",
    "a + b\n"
   ]
  },
  {
   "cell_type": "code",
   "execution_count": 60,
   "id": "3c08c2a1",
   "metadata": {},
   "outputs": [
    {
     "data": {
      "text/plain": [
       "7"
      ]
     },
     "execution_count": 60,
     "metadata": {},
     "output_type": "execute_result"
    }
   ],
   "source": [
    "#subtraction\n",
    "a - b"
   ]
  },
  {
   "cell_type": "code",
   "execution_count": 61,
   "id": "ac63150c",
   "metadata": {},
   "outputs": [
    {
     "data": {
      "text/plain": [
       "30"
      ]
     },
     "execution_count": 61,
     "metadata": {},
     "output_type": "execute_result"
    }
   ],
   "source": [
    "# multiplication \n",
    "a * b"
   ]
  },
  {
   "cell_type": "code",
   "execution_count": 62,
   "id": "483b2950",
   "metadata": {},
   "outputs": [
    {
     "data": {
      "text/plain": [
       "3.3333333333333335"
      ]
     },
     "execution_count": 62,
     "metadata": {},
     "output_type": "execute_result"
    }
   ],
   "source": [
    "# Division \n",
    "a / b "
   ]
  },
  {
   "cell_type": "code",
   "execution_count": 63,
   "id": "d353eb2c",
   "metadata": {},
   "outputs": [
    {
     "data": {
      "text/plain": [
       "3"
      ]
     },
     "execution_count": 63,
     "metadata": {},
     "output_type": "execute_result"
    }
   ],
   "source": [
    "#floor Division (integer Division)\n",
    "a // b"
   ]
  },
  {
   "cell_type": "code",
   "execution_count": 64,
   "id": "c9f440e2",
   "metadata": {},
   "outputs": [
    {
     "data": {
      "text/plain": [
       "1"
      ]
     },
     "execution_count": 64,
     "metadata": {},
     "output_type": "execute_result"
    }
   ],
   "source": [
    "# Modulus ( Returns remainder of a division)\n",
    "a % b "
   ]
  },
  {
   "cell_type": "code",
   "execution_count": 65,
   "id": "f8af0814",
   "metadata": {},
   "outputs": [
    {
     "data": {
      "text/plain": [
       "1000"
      ]
     },
     "execution_count": 65,
     "metadata": {},
     "output_type": "execute_result"
    }
   ],
   "source": [
    "#exponentation (power of)\n",
    "a ** b"
   ]
  },
  {
   "cell_type": "markdown",
   "id": "f67ab0e9",
   "metadata": {},
   "source": [
    "### Assignment Operators"
   ]
  },
  {
   "cell_type": "raw",
   "id": "e60f7d5f",
   "metadata": {},
   "source": [
    "Assignment operator is used assign values to the variables\n",
    "\n",
    "a = 34 \n",
    "b = 78 "
   ]
  },
  {
   "cell_type": "code",
   "execution_count": 66,
   "id": "ff13cb38",
   "metadata": {},
   "outputs": [],
   "source": [
    "a = 10 "
   ]
  },
  {
   "cell_type": "code",
   "execution_count": 67,
   "id": "5770c028",
   "metadata": {},
   "outputs": [],
   "source": [
    "a += 3 # a = a+3"
   ]
  },
  {
   "cell_type": "code",
   "execution_count": 68,
   "id": "f83106a7",
   "metadata": {},
   "outputs": [
    {
     "data": {
      "text/plain": [
       "13"
      ]
     },
     "execution_count": 68,
     "metadata": {},
     "output_type": "execute_result"
    }
   ],
   "source": [
    "a"
   ]
  },
  {
   "cell_type": "code",
   "execution_count": 69,
   "id": "1509205c",
   "metadata": {},
   "outputs": [],
   "source": [
    "a -= 3"
   ]
  },
  {
   "cell_type": "code",
   "execution_count": 70,
   "id": "dd66ed6f",
   "metadata": {},
   "outputs": [
    {
     "data": {
      "text/plain": [
       "10"
      ]
     },
     "execution_count": 70,
     "metadata": {},
     "output_type": "execute_result"
    }
   ],
   "source": [
    "a"
   ]
  },
  {
   "cell_type": "code",
   "execution_count": 71,
   "id": "01c9a539",
   "metadata": {},
   "outputs": [],
   "source": [
    "a *= 3 "
   ]
  },
  {
   "cell_type": "code",
   "execution_count": 72,
   "id": "bbf18e69",
   "metadata": {},
   "outputs": [
    {
     "data": {
      "text/plain": [
       "30"
      ]
     },
     "execution_count": 72,
     "metadata": {},
     "output_type": "execute_result"
    }
   ],
   "source": [
    "a"
   ]
  },
  {
   "cell_type": "markdown",
   "id": "eff36138",
   "metadata": {},
   "source": [
    "#### Comparision Operators\n",
    "\n",
    "1. **Greater than**\n",
    "2. **Less Than**\n",
    "3. **Greater Than or equal to**\n",
    "4. **Less than or equal to**\n",
    "5. **Equal to**\n",
    "6. **Not Equal to**"
   ]
  },
  {
   "cell_type": "code",
   "execution_count": 73,
   "id": "39c60d84",
   "metadata": {},
   "outputs": [
    {
     "data": {
      "text/plain": [
       "True"
      ]
     },
     "execution_count": 73,
     "metadata": {},
     "output_type": "execute_result"
    }
   ],
   "source": [
    "a = 30 \n",
    "b = 20 \n",
    "\n",
    "a > b "
   ]
  },
  {
   "cell_type": "code",
   "execution_count": 74,
   "id": "241471c3",
   "metadata": {},
   "outputs": [
    {
     "data": {
      "text/plain": [
       "False"
      ]
     },
     "execution_count": 74,
     "metadata": {},
     "output_type": "execute_result"
    }
   ],
   "source": [
    "b > a"
   ]
  },
  {
   "cell_type": "code",
   "execution_count": 75,
   "id": "ecca0945",
   "metadata": {},
   "outputs": [
    {
     "data": {
      "text/plain": [
       "True"
      ]
     },
     "execution_count": 75,
     "metadata": {},
     "output_type": "execute_result"
    }
   ],
   "source": [
    "a = 34\n",
    "b = 34 \n",
    "\n",
    "a >= b "
   ]
  },
  {
   "cell_type": "code",
   "execution_count": 76,
   "id": "ea280abb",
   "metadata": {},
   "outputs": [
    {
     "data": {
      "text/plain": [
       "True"
      ]
     },
     "execution_count": 76,
     "metadata": {},
     "output_type": "execute_result"
    }
   ],
   "source": [
    "a <= b"
   ]
  },
  {
   "cell_type": "code",
   "execution_count": 77,
   "id": "c71a9013",
   "metadata": {},
   "outputs": [
    {
     "data": {
      "text/plain": [
       "True"
      ]
     },
     "execution_count": 77,
     "metadata": {},
     "output_type": "execute_result"
    }
   ],
   "source": [
    "10 == 10 "
   ]
  },
  {
   "cell_type": "code",
   "execution_count": 78,
   "id": "cb93d0c1",
   "metadata": {},
   "outputs": [
    {
     "data": {
      "text/plain": [
       "False"
      ]
     },
     "execution_count": 78,
     "metadata": {},
     "output_type": "execute_result"
    }
   ],
   "source": [
    "23 == 34"
   ]
  },
  {
   "cell_type": "code",
   "execution_count": 79,
   "id": "767f87f2",
   "metadata": {},
   "outputs": [
    {
     "data": {
      "text/plain": [
       "True"
      ]
     },
     "execution_count": 79,
     "metadata": {},
     "output_type": "execute_result"
    }
   ],
   "source": [
    "a == b"
   ]
  },
  {
   "cell_type": "code",
   "execution_count": 80,
   "id": "4c9292b1",
   "metadata": {},
   "outputs": [
    {
     "data": {
      "text/plain": [
       "True"
      ]
     },
     "execution_count": 80,
     "metadata": {},
     "output_type": "execute_result"
    }
   ],
   "source": [
    "a = 34 \n",
    "b = 56 \n",
    "\n",
    "a != b "
   ]
  },
  {
   "cell_type": "code",
   "execution_count": 81,
   "id": "b1c3a132",
   "metadata": {},
   "outputs": [
    {
     "data": {
      "text/plain": [
       "False"
      ]
     },
     "execution_count": 81,
     "metadata": {},
     "output_type": "execute_result"
    }
   ],
   "source": [
    "10 != 10 "
   ]
  },
  {
   "cell_type": "markdown",
   "id": "e7f0201e",
   "metadata": {},
   "source": [
    "### Logical Operators\n",
    "\n",
    "1. **Logical and**\n",
    "2. **Logical or**\n",
    "3. **Logical not**"
   ]
  },
  {
   "cell_type": "raw",
   "id": "641d9e2d",
   "metadata": {},
   "source": [
    "Logical and returns TRUE if both statements are TRUE , False Otherwise\n",
    "\n",
    "St1.     St2    Result \n",
    "\n",
    "True     True.  True \n",
    "True     False  False \n",
    "False.   True   False \n",
    "False.   False  False"
   ]
  },
  {
   "cell_type": "code",
   "execution_count": 82,
   "id": "0f8755f1",
   "metadata": {},
   "outputs": [],
   "source": [
    "a = 23 \n",
    "b = 45 "
   ]
  },
  {
   "cell_type": "code",
   "execution_count": 84,
   "id": "a046a823",
   "metadata": {},
   "outputs": [
    {
     "data": {
      "text/plain": [
       "True"
      ]
     },
     "execution_count": 84,
     "metadata": {},
     "output_type": "execute_result"
    }
   ],
   "source": [
    "a > 20 and b > 23 # true and true "
   ]
  },
  {
   "cell_type": "code",
   "execution_count": 85,
   "id": "c8498cee",
   "metadata": {},
   "outputs": [
    {
     "data": {
      "text/plain": [
       "False"
      ]
     },
     "execution_count": 85,
     "metadata": {},
     "output_type": "execute_result"
    }
   ],
   "source": [
    "a > 20 and b > 50 # true and False"
   ]
  },
  {
   "cell_type": "code",
   "execution_count": 86,
   "id": "283da9a4",
   "metadata": {},
   "outputs": [
    {
     "data": {
      "text/plain": [
       "False"
      ]
     },
     "execution_count": 86,
     "metadata": {},
     "output_type": "execute_result"
    }
   ],
   "source": [
    "a > 45 and a < 50 # false and true "
   ]
  },
  {
   "cell_type": "code",
   "execution_count": 87,
   "id": "72d5d07d",
   "metadata": {},
   "outputs": [
    {
     "data": {
      "text/plain": [
       "False"
      ]
     },
     "execution_count": 87,
     "metadata": {},
     "output_type": "execute_result"
    }
   ],
   "source": [
    "a > 45 and b > 45 # false and false"
   ]
  },
  {
   "cell_type": "markdown",
   "id": "a890140e",
   "metadata": {},
   "source": [
    "#### logical or "
   ]
  },
  {
   "cell_type": "raw",
   "id": "aab1c627",
   "metadata": {},
   "source": [
    "It returns TRUE if one of the statement is TRUE \n",
    "\n",
    "\n",
    "St1.     St2    Result \n",
    "\n",
    "True     True.  True \n",
    "True     False  True \n",
    "False.   True   True  \n",
    "False.   False  False\n"
   ]
  },
  {
   "cell_type": "code",
   "execution_count": 88,
   "id": "eee086c0",
   "metadata": {},
   "outputs": [
    {
     "data": {
      "text/plain": [
       "True"
      ]
     },
     "execution_count": 88,
     "metadata": {},
     "output_type": "execute_result"
    }
   ],
   "source": [
    "a > 20 or  b > 23 # true or  true "
   ]
  },
  {
   "cell_type": "code",
   "execution_count": 89,
   "id": "56490351",
   "metadata": {},
   "outputs": [
    {
     "data": {
      "text/plain": [
       "True"
      ]
     },
     "execution_count": 89,
     "metadata": {},
     "output_type": "execute_result"
    }
   ],
   "source": [
    "a > 20 or b > 50 # true or False"
   ]
  },
  {
   "cell_type": "code",
   "execution_count": 90,
   "id": "0e2b39a2",
   "metadata": {},
   "outputs": [
    {
     "data": {
      "text/plain": [
       "True"
      ]
     },
     "execution_count": 90,
     "metadata": {},
     "output_type": "execute_result"
    }
   ],
   "source": [
    "a > 45 or  a < 50 # false or  true "
   ]
  },
  {
   "cell_type": "code",
   "execution_count": 91,
   "id": "e7325eb8",
   "metadata": {},
   "outputs": [
    {
     "data": {
      "text/plain": [
       "False"
      ]
     },
     "execution_count": 91,
     "metadata": {},
     "output_type": "execute_result"
    }
   ],
   "source": [
    "a > 45 or b > 45 # false or false"
   ]
  },
  {
   "cell_type": "markdown",
   "id": "0333e0f3",
   "metadata": {},
   "source": [
    "#### Logical not "
   ]
  },
  {
   "cell_type": "raw",
   "id": "f13ac3f3",
   "metadata": {},
   "source": [
    "It returns reverse of a result "
   ]
  },
  {
   "cell_type": "code",
   "execution_count": 92,
   "id": "d2bebede",
   "metadata": {},
   "outputs": [
    {
     "data": {
      "text/plain": [
       "True"
      ]
     },
     "execution_count": 92,
     "metadata": {},
     "output_type": "execute_result"
    }
   ],
   "source": [
    "not(12 > 34)"
   ]
  },
  {
   "cell_type": "code",
   "execution_count": 93,
   "id": "69d6a8c1",
   "metadata": {},
   "outputs": [
    {
     "data": {
      "text/plain": [
       "False"
      ]
     },
     "execution_count": 93,
     "metadata": {},
     "output_type": "execute_result"
    }
   ],
   "source": [
    "not(20 > 5)"
   ]
  },
  {
   "cell_type": "markdown",
   "id": "ef80a200",
   "metadata": {},
   "source": [
    "### Membership operators"
   ]
  },
  {
   "cell_type": "raw",
   "id": "fcb3ccbe",
   "metadata": {},
   "source": [
    "Membership operators in python are used to test if a sequence (string,list, tuple,set) contains a specific values .\n",
    "\n",
    "1. in : Returns true if the value is found in the sequence ,False otherwise\n",
    "\n",
    "2. Not in : Returns True if the value is not found in the sequence , Flase otherwise "
   ]
  },
  {
   "cell_type": "code",
   "execution_count": 95,
   "id": "95df5b98",
   "metadata": {},
   "outputs": [],
   "source": [
    "a = 'python is good programming language'"
   ]
  },
  {
   "cell_type": "code",
   "execution_count": 96,
   "id": "41033dbb",
   "metadata": {},
   "outputs": [
    {
     "data": {
      "text/plain": [
       "True"
      ]
     },
     "execution_count": 96,
     "metadata": {},
     "output_type": "execute_result"
    }
   ],
   "source": [
    "'python' in a "
   ]
  },
  {
   "cell_type": "code",
   "execution_count": 97,
   "id": "f5a9cd31",
   "metadata": {},
   "outputs": [
    {
     "data": {
      "text/plain": [
       "False"
      ]
     },
     "execution_count": 97,
     "metadata": {},
     "output_type": "execute_result"
    }
   ],
   "source": [
    "'java' in a"
   ]
  },
  {
   "cell_type": "code",
   "execution_count": 98,
   "id": "7b78e90b",
   "metadata": {},
   "outputs": [
    {
     "data": {
      "text/plain": [
       "True"
      ]
     },
     "execution_count": 98,
     "metadata": {},
     "output_type": "execute_result"
    }
   ],
   "source": [
    "a = [34,6,7,8,21]\n",
    "21 in a"
   ]
  },
  {
   "cell_type": "code",
   "execution_count": 99,
   "id": "927aca5a",
   "metadata": {},
   "outputs": [
    {
     "data": {
      "text/plain": [
       "[34, 6, 7, 8, 21]"
      ]
     },
     "execution_count": 99,
     "metadata": {},
     "output_type": "execute_result"
    }
   ],
   "source": [
    "a"
   ]
  },
  {
   "cell_type": "code",
   "execution_count": 101,
   "id": "20f9f206",
   "metadata": {},
   "outputs": [
    {
     "data": {
      "text/plain": [
       "True"
      ]
     },
     "execution_count": 101,
     "metadata": {},
     "output_type": "execute_result"
    }
   ],
   "source": [
    "45 not in a"
   ]
  },
  {
   "cell_type": "code",
   "execution_count": 102,
   "id": "b722df8d",
   "metadata": {},
   "outputs": [
    {
     "data": {
      "text/plain": [
       "False"
      ]
     },
     "execution_count": 102,
     "metadata": {},
     "output_type": "execute_result"
    }
   ],
   "source": [
    "6 not in a "
   ]
  },
  {
   "cell_type": "code",
   "execution_count": 103,
   "id": "15b1d658",
   "metadata": {},
   "outputs": [
    {
     "data": {
      "text/plain": [
       "True"
      ]
     },
     "execution_count": 103,
     "metadata": {},
     "output_type": "execute_result"
    }
   ],
   "source": [
    "'java' not in a "
   ]
  },
  {
   "cell_type": "markdown",
   "id": "5ff0236e",
   "metadata": {},
   "source": [
    "'python' not in a "
   ]
  },
  {
   "cell_type": "code",
   "execution_count": 105,
   "id": "b6a7f331",
   "metadata": {},
   "outputs": [
    {
     "data": {
      "text/plain": [
       "[34, 6, 7, 8, 21]"
      ]
     },
     "execution_count": 105,
     "metadata": {},
     "output_type": "execute_result"
    }
   ],
   "source": [
    "a"
   ]
  },
  {
   "cell_type": "code",
   "execution_count": 106,
   "id": "12473946",
   "metadata": {},
   "outputs": [
    {
     "data": {
      "text/plain": [
       "False"
      ]
     },
     "execution_count": 106,
     "metadata": {},
     "output_type": "execute_result"
    }
   ],
   "source": [
    "a = 'python is good programming language'\n",
    "'python' not in a "
   ]
  },
  {
   "cell_type": "markdown",
   "id": "07aaf25f",
   "metadata": {},
   "source": [
    "### Identity Operators"
   ]
  },
  {
   "cell_type": "raw",
   "id": "82d425ad",
   "metadata": {},
   "source": [
    "Identity operators are used to compare memory locations of two objects.\n",
    "They check if two variables refer to the same object in memory\n",
    "\n",
    "1. is : Returns True if both variables point to the same object , False Otherwise\n",
    "\n",
    "2. is not : Returns True if both variables do not point to the same object , False otherwise"
   ]
  },
  {
   "cell_type": "code",
   "execution_count": 107,
   "id": "22f85c69",
   "metadata": {},
   "outputs": [],
   "source": [
    "a = 10 "
   ]
  },
  {
   "cell_type": "code",
   "execution_count": 108,
   "id": "0ffb3797",
   "metadata": {},
   "outputs": [
    {
     "data": {
      "text/plain": [
       "4312941072"
      ]
     },
     "execution_count": 108,
     "metadata": {},
     "output_type": "execute_result"
    }
   ],
   "source": [
    "id(a)"
   ]
  },
  {
   "cell_type": "code",
   "execution_count": 109,
   "id": "d51f969e",
   "metadata": {},
   "outputs": [],
   "source": [
    "b = 10 "
   ]
  },
  {
   "cell_type": "code",
   "execution_count": 110,
   "id": "253e5564",
   "metadata": {},
   "outputs": [
    {
     "data": {
      "text/plain": [
       "4312941072"
      ]
     },
     "execution_count": 110,
     "metadata": {},
     "output_type": "execute_result"
    }
   ],
   "source": [
    "id(b)"
   ]
  },
  {
   "cell_type": "code",
   "execution_count": 111,
   "id": "abe996c2",
   "metadata": {},
   "outputs": [
    {
     "data": {
      "text/plain": [
       "True"
      ]
     },
     "execution_count": 111,
     "metadata": {},
     "output_type": "execute_result"
    }
   ],
   "source": [
    "a is b "
   ]
  },
  {
   "cell_type": "code",
   "execution_count": 112,
   "id": "019cbfb5",
   "metadata": {},
   "outputs": [],
   "source": [
    "a = 456 \n",
    "b = 456"
   ]
  },
  {
   "cell_type": "code",
   "execution_count": 113,
   "id": "cbc9bf5f",
   "metadata": {},
   "outputs": [
    {
     "data": {
      "text/plain": [
       "False"
      ]
     },
     "execution_count": 113,
     "metadata": {},
     "output_type": "execute_result"
    }
   ],
   "source": [
    "a is b "
   ]
  },
  {
   "cell_type": "code",
   "execution_count": 114,
   "id": "e5f8169b",
   "metadata": {},
   "outputs": [
    {
     "data": {
      "text/plain": [
       "4392529744"
      ]
     },
     "execution_count": 114,
     "metadata": {},
     "output_type": "execute_result"
    }
   ],
   "source": [
    "id(a)"
   ]
  },
  {
   "cell_type": "code",
   "execution_count": 115,
   "id": "7b0cc028",
   "metadata": {},
   "outputs": [
    {
     "data": {
      "text/plain": [
       "4392532528"
      ]
     },
     "execution_count": 115,
     "metadata": {},
     "output_type": "execute_result"
    }
   ],
   "source": [
    "id(b)"
   ]
  },
  {
   "cell_type": "code",
   "execution_count": 116,
   "id": "8f236b79",
   "metadata": {},
   "outputs": [
    {
     "data": {
      "text/plain": [
       "True"
      ]
     },
     "execution_count": 116,
     "metadata": {},
     "output_type": "execute_result"
    }
   ],
   "source": [
    "a is not b "
   ]
  },
  {
   "cell_type": "code",
   "execution_count": 117,
   "id": "e73c1b5c",
   "metadata": {},
   "outputs": [],
   "source": [
    "a , b = 456, 456"
   ]
  },
  {
   "cell_type": "code",
   "execution_count": 118,
   "id": "bed0dfc7",
   "metadata": {},
   "outputs": [
    {
     "data": {
      "text/plain": [
       "4392532144"
      ]
     },
     "execution_count": 118,
     "metadata": {},
     "output_type": "execute_result"
    }
   ],
   "source": [
    "id(a)"
   ]
  },
  {
   "cell_type": "code",
   "execution_count": 119,
   "id": "11a926a0",
   "metadata": {},
   "outputs": [
    {
     "data": {
      "text/plain": [
       "4392532144"
      ]
     },
     "execution_count": 119,
     "metadata": {},
     "output_type": "execute_result"
    }
   ],
   "source": [
    "id(b)"
   ]
  },
  {
   "cell_type": "code",
   "execution_count": 120,
   "id": "ff10c45f",
   "metadata": {},
   "outputs": [
    {
     "data": {
      "text/plain": [
       "True"
      ]
     },
     "execution_count": 120,
     "metadata": {},
     "output_type": "execute_result"
    }
   ],
   "source": [
    "a is b "
   ]
  },
  {
   "cell_type": "code",
   "execution_count": 121,
   "id": "9b378939",
   "metadata": {},
   "outputs": [
    {
     "data": {
      "text/plain": [
       "False"
      ]
     },
     "execution_count": 121,
     "metadata": {},
     "output_type": "execute_result"
    }
   ],
   "source": [
    "a = 4567\n",
    "b = 4567\n",
    "a is b "
   ]
  },
  {
   "cell_type": "code",
   "execution_count": 122,
   "id": "a8a0a7f3",
   "metadata": {},
   "outputs": [
    {
     "data": {
      "text/plain": [
       "4392531344"
      ]
     },
     "execution_count": 122,
     "metadata": {},
     "output_type": "execute_result"
    }
   ],
   "source": [
    "id(a)"
   ]
  },
  {
   "cell_type": "code",
   "execution_count": 123,
   "id": "c660f60a",
   "metadata": {},
   "outputs": [
    {
     "data": {
      "text/plain": [
       "4392531888"
      ]
     },
     "execution_count": 123,
     "metadata": {},
     "output_type": "execute_result"
    }
   ],
   "source": [
    "id(b)"
   ]
  },
  {
   "cell_type": "code",
   "execution_count": 124,
   "id": "c04c4679",
   "metadata": {},
   "outputs": [],
   "source": [
    "a , b = 4567,4567"
   ]
  },
  {
   "cell_type": "code",
   "execution_count": 125,
   "id": "5df73c87",
   "metadata": {},
   "outputs": [
    {
     "data": {
      "text/plain": [
       "(4392529712, 4392529712)"
      ]
     },
     "execution_count": 125,
     "metadata": {},
     "output_type": "execute_result"
    }
   ],
   "source": [
    "id(a),id(b)"
   ]
  },
  {
   "cell_type": "markdown",
   "id": "b8b40cd4",
   "metadata": {},
   "source": [
    "## Bitwise Operators"
   ]
  },
  {
   "cell_type": "raw",
   "id": "555b7746",
   "metadata": {},
   "source": [
    "Bitwise Operators:\n",
    "\n",
    "Bitwise Operators Performs operation on Binary Data.\n",
    "\n",
    "Bitwise Operators:\n",
    "\n",
    "1. Bitwise and\n",
    "2. Bitwise or\n",
    "3. Bitwise not\n",
    "4. Bitwise XOR\n",
    "5. Bitwise Left Shift \n",
    "6. Bitwise Right Shift"
   ]
  },
  {
   "cell_type": "code",
   "execution_count": 126,
   "id": "03bef1a8",
   "metadata": {},
   "outputs": [],
   "source": [
    "a = 4"
   ]
  },
  {
   "cell_type": "code",
   "execution_count": 127,
   "id": "6018f81d",
   "metadata": {},
   "outputs": [
    {
     "data": {
      "text/plain": [
       "'0b100'"
      ]
     },
     "execution_count": 127,
     "metadata": {},
     "output_type": "execute_result"
    }
   ],
   "source": [
    "bin(a)"
   ]
  },
  {
   "cell_type": "markdown",
   "id": "696e27c9",
   "metadata": {},
   "source": [
    "#### Bitwise and ( & )\n",
    "1. Returns 1 if both bits are 1"
   ]
  },
  {
   "cell_type": "code",
   "execution_count": 128,
   "id": "07113b43",
   "metadata": {},
   "outputs": [],
   "source": [
    "a = 2\n",
    "b = 3"
   ]
  },
  {
   "cell_type": "code",
   "execution_count": 129,
   "id": "6fca97dc",
   "metadata": {},
   "outputs": [
    {
     "data": {
      "text/plain": [
       "2"
      ]
     },
     "execution_count": 129,
     "metadata": {},
     "output_type": "execute_result"
    }
   ],
   "source": [
    "a & b"
   ]
  },
  {
   "cell_type": "code",
   "execution_count": 130,
   "id": "ae7cfcea",
   "metadata": {},
   "outputs": [
    {
     "data": {
      "text/plain": [
       "'0b10'"
      ]
     },
     "execution_count": 130,
     "metadata": {},
     "output_type": "execute_result"
    }
   ],
   "source": [
    "bin(a)"
   ]
  },
  {
   "cell_type": "code",
   "execution_count": 131,
   "id": "0759ebcd",
   "metadata": {},
   "outputs": [
    {
     "data": {
      "text/plain": [
       "'0b11'"
      ]
     },
     "execution_count": 131,
     "metadata": {},
     "output_type": "execute_result"
    }
   ],
   "source": [
    "bin(b)"
   ]
  },
  {
   "cell_type": "code",
   "execution_count": 132,
   "id": "f68cca64",
   "metadata": {},
   "outputs": [
    {
     "data": {
      "text/plain": [
       "2"
      ]
     },
     "execution_count": 132,
     "metadata": {},
     "output_type": "execute_result"
    }
   ],
   "source": [
    "a & b"
   ]
  },
  {
   "cell_type": "markdown",
   "id": "4b38b72a",
   "metadata": {},
   "source": [
    "#### Bitwise or ( | )\n",
    "\n",
    "1. Returns 1 , if one of the bits is 1 "
   ]
  },
  {
   "cell_type": "code",
   "execution_count": 133,
   "id": "bf0d5c1a",
   "metadata": {},
   "outputs": [],
   "source": [
    "a = 4\n",
    "b = 5"
   ]
  },
  {
   "cell_type": "code",
   "execution_count": 134,
   "id": "57cfa61c",
   "metadata": {},
   "outputs": [
    {
     "data": {
      "text/plain": [
       "5"
      ]
     },
     "execution_count": 134,
     "metadata": {},
     "output_type": "execute_result"
    }
   ],
   "source": [
    "a | b"
   ]
  },
  {
   "cell_type": "code",
   "execution_count": 135,
   "id": "06ed073f",
   "metadata": {},
   "outputs": [
    {
     "data": {
      "text/plain": [
       "7"
      ]
     },
     "execution_count": 135,
     "metadata": {},
     "output_type": "execute_result"
    }
   ],
   "source": [
    "5 | 7"
   ]
  },
  {
   "cell_type": "markdown",
   "id": "27810ee0",
   "metadata": {},
   "source": [
    "#### Bitwise Not ( ~ )"
   ]
  },
  {
   "cell_type": "code",
   "execution_count": 136,
   "id": "4dd8fe1f",
   "metadata": {},
   "outputs": [],
   "source": [
    "a = 2"
   ]
  },
  {
   "cell_type": "code",
   "execution_count": 137,
   "id": "61fc97b9",
   "metadata": {},
   "outputs": [
    {
     "data": {
      "text/plain": [
       "-3"
      ]
     },
     "execution_count": 137,
     "metadata": {},
     "output_type": "execute_result"
    }
   ],
   "source": [
    "~a"
   ]
  },
  {
   "cell_type": "code",
   "execution_count": 138,
   "id": "922d0c22",
   "metadata": {},
   "outputs": [
    {
     "data": {
      "text/plain": [
       "-8"
      ]
     },
     "execution_count": 138,
     "metadata": {},
     "output_type": "execute_result"
    }
   ],
   "source": [
    "b = 7 \n",
    "~b"
   ]
  },
  {
   "cell_type": "code",
   "execution_count": 139,
   "id": "23b10e8f",
   "metadata": {},
   "outputs": [],
   "source": [
    "# -(n+1) - n is number"
   ]
  },
  {
   "cell_type": "code",
   "execution_count": 140,
   "id": "b5a5a87f",
   "metadata": {},
   "outputs": [
    {
     "data": {
      "text/plain": [
       "-5"
      ]
     },
     "execution_count": 140,
     "metadata": {},
     "output_type": "execute_result"
    }
   ],
   "source": [
    "a = 4 \n",
    "\n",
    "~(a) # -(n+1)"
   ]
  },
  {
   "cell_type": "markdown",
   "id": "d6d530bf",
   "metadata": {},
   "source": [
    "#### Bitwise XOR ( ^ ) - Exclusive or"
   ]
  },
  {
   "cell_type": "code",
   "execution_count": 141,
   "id": "e024074c",
   "metadata": {},
   "outputs": [],
   "source": [
    "a = 7 \n",
    "b = 8 "
   ]
  },
  {
   "cell_type": "code",
   "execution_count": 142,
   "id": "79434752",
   "metadata": {},
   "outputs": [
    {
     "data": {
      "text/plain": [
       "15"
      ]
     },
     "execution_count": 142,
     "metadata": {},
     "output_type": "execute_result"
    }
   ],
   "source": [
    "a ^ b"
   ]
  },
  {
   "cell_type": "code",
   "execution_count": 143,
   "id": "69419db9",
   "metadata": {},
   "outputs": [
    {
     "data": {
      "text/plain": [
       "1"
      ]
     },
     "execution_count": 143,
     "metadata": {},
     "output_type": "execute_result"
    }
   ],
   "source": [
    "2 ^ 3"
   ]
  },
  {
   "cell_type": "markdown",
   "id": "f83b064c",
   "metadata": {},
   "source": [
    "#### Bitwise Left Shift ( << ) - Shift bits to the left side"
   ]
  },
  {
   "cell_type": "code",
   "execution_count": 144,
   "id": "8ba215ac",
   "metadata": {},
   "outputs": [],
   "source": [
    "a = 8"
   ]
  },
  {
   "cell_type": "code",
   "execution_count": 145,
   "id": "cc8b0ed5",
   "metadata": {},
   "outputs": [
    {
     "data": {
      "text/plain": [
       "'0b1000'"
      ]
     },
     "execution_count": 145,
     "metadata": {},
     "output_type": "execute_result"
    }
   ],
   "source": [
    "bin(a)"
   ]
  },
  {
   "cell_type": "code",
   "execution_count": 146,
   "id": "d96a91f5",
   "metadata": {},
   "outputs": [
    {
     "data": {
      "text/plain": [
       "32"
      ]
     },
     "execution_count": 146,
     "metadata": {},
     "output_type": "execute_result"
    }
   ],
   "source": [
    "a << 2"
   ]
  },
  {
   "cell_type": "code",
   "execution_count": 147,
   "id": "05a1fbc1",
   "metadata": {},
   "outputs": [
    {
     "data": {
      "text/plain": [
       "12"
      ]
     },
     "execution_count": 147,
     "metadata": {},
     "output_type": "execute_result"
    }
   ],
   "source": [
    "3 << 2"
   ]
  },
  {
   "cell_type": "markdown",
   "id": "efb13888",
   "metadata": {},
   "source": [
    "#### Bitwise Right shift ( > >)"
   ]
  },
  {
   "cell_type": "code",
   "execution_count": 148,
   "id": "d62a6646",
   "metadata": {},
   "outputs": [],
   "source": [
    "a = 6"
   ]
  },
  {
   "cell_type": "code",
   "execution_count": 149,
   "id": "16dc1247",
   "metadata": {},
   "outputs": [
    {
     "data": {
      "text/plain": [
       "'0b110'"
      ]
     },
     "execution_count": 149,
     "metadata": {},
     "output_type": "execute_result"
    }
   ],
   "source": [
    "bin(a)"
   ]
  },
  {
   "cell_type": "code",
   "execution_count": 150,
   "id": "4db0ce3d",
   "metadata": {},
   "outputs": [
    {
     "data": {
      "text/plain": [
       "1"
      ]
     },
     "execution_count": 150,
     "metadata": {},
     "output_type": "execute_result"
    }
   ],
   "source": [
    "a >> 2"
   ]
  },
  {
   "cell_type": "code",
   "execution_count": 151,
   "id": "0421418b",
   "metadata": {},
   "outputs": [
    {
     "data": {
      "text/plain": [
       "0"
      ]
     },
     "execution_count": 151,
     "metadata": {},
     "output_type": "execute_result"
    }
   ],
   "source": [
    "a >> 3"
   ]
  },
  {
   "cell_type": "markdown",
   "id": "7491c971",
   "metadata": {},
   "source": [
    "# Strings"
   ]
  },
  {
   "cell_type": "raw",
   "id": "dbd0845c",
   "metadata": {},
   "source": [
    "1. String is a collection of character (or) sequence of characters written with ' ' (or) \" \" (or) ''' '''\n",
    "2. String is Immutable\n",
    "3. String can be treated as an array"
   ]
  },
  {
   "cell_type": "code",
   "execution_count": 152,
   "id": "e15ee559",
   "metadata": {},
   "outputs": [],
   "source": [
    "a = 'python'"
   ]
  },
  {
   "cell_type": "code",
   "execution_count": 153,
   "id": "08f60dfc",
   "metadata": {},
   "outputs": [
    {
     "data": {
      "text/plain": [
       "str"
      ]
     },
     "execution_count": 153,
     "metadata": {},
     "output_type": "execute_result"
    }
   ],
   "source": [
    "type(a)"
   ]
  },
  {
   "cell_type": "code",
   "execution_count": 154,
   "id": "3154f9db",
   "metadata": {},
   "outputs": [],
   "source": [
    "a = \"programming\""
   ]
  },
  {
   "cell_type": "code",
   "execution_count": 155,
   "id": "e0a0b140",
   "metadata": {},
   "outputs": [
    {
     "data": {
      "text/plain": [
       "str"
      ]
     },
     "execution_count": 155,
     "metadata": {},
     "output_type": "execute_result"
    }
   ],
   "source": [
    "type(a)"
   ]
  },
  {
   "cell_type": "code",
   "execution_count": 156,
   "id": "bb105a6c",
   "metadata": {},
   "outputs": [],
   "source": [
    "data = 'python is good'"
   ]
  },
  {
   "cell_type": "code",
   "execution_count": 157,
   "id": "81f6ac38",
   "metadata": {},
   "outputs": [],
   "source": [
    "# string addition "
   ]
  },
  {
   "cell_type": "code",
   "execution_count": 158,
   "id": "cec11567",
   "metadata": {},
   "outputs": [],
   "source": [
    "a = 'Data'\n",
    "b = 'Science'"
   ]
  },
  {
   "cell_type": "code",
   "execution_count": 159,
   "id": "313c1711",
   "metadata": {},
   "outputs": [
    {
     "data": {
      "text/plain": [
       "'DataScience'"
      ]
     },
     "execution_count": 159,
     "metadata": {},
     "output_type": "execute_result"
    }
   ],
   "source": [
    "a + b"
   ]
  },
  {
   "cell_type": "code",
   "execution_count": 160,
   "id": "20c8c197",
   "metadata": {},
   "outputs": [
    {
     "data": {
      "text/plain": [
       "'Data Science'"
      ]
     },
     "execution_count": 160,
     "metadata": {},
     "output_type": "execute_result"
    }
   ],
   "source": [
    "a + ' ' + b"
   ]
  },
  {
   "cell_type": "code",
   "execution_count": 162,
   "id": "6eea2472",
   "metadata": {},
   "outputs": [
    {
     "data": {
      "text/plain": [
       "'DataTeach Hyderabad'"
      ]
     },
     "execution_count": 162,
     "metadata": {},
     "output_type": "execute_result"
    }
   ],
   "source": [
    "'DataTeach' + ' ' + 'Hyderabad'"
   ]
  },
  {
   "cell_type": "code",
   "execution_count": 163,
   "id": "1377c9f6",
   "metadata": {},
   "outputs": [],
   "source": [
    "# string multiplication"
   ]
  },
  {
   "cell_type": "code",
   "execution_count": 165,
   "id": "44a302ba",
   "metadata": {},
   "outputs": [
    {
     "data": {
      "text/plain": [
       "'DataTeach DataTeach DataTeach '"
      ]
     },
     "execution_count": 165,
     "metadata": {},
     "output_type": "execute_result"
    }
   ],
   "source": [
    "'DataTeach ' * 3"
   ]
  },
  {
   "cell_type": "code",
   "execution_count": 166,
   "id": "1705e893",
   "metadata": {},
   "outputs": [
    {
     "data": {
      "text/plain": [
       "'satya satya satya satya satya satya satya satya satya satya '"
      ]
     },
     "execution_count": 166,
     "metadata": {},
     "output_type": "execute_result"
    }
   ],
   "source": [
    "'satya ' * 10 "
   ]
  },
  {
   "cell_type": "code",
   "execution_count": 167,
   "id": "e3bd71e1",
   "metadata": {},
   "outputs": [],
   "source": [
    "a = 'Data Science'"
   ]
  },
  {
   "cell_type": "code",
   "execution_count": 168,
   "id": "e2ddcf4b",
   "metadata": {},
   "outputs": [
    {
     "name": "stdout",
     "output_type": "stream",
     "text": [
      "Data Science\n"
     ]
    }
   ],
   "source": [
    "print(a)"
   ]
  },
  {
   "cell_type": "code",
   "execution_count": 169,
   "id": "0532a0bf",
   "metadata": {},
   "outputs": [],
   "source": [
    "a = '@567data'"
   ]
  },
  {
   "cell_type": "code",
   "execution_count": 170,
   "id": "81724c58",
   "metadata": {},
   "outputs": [
    {
     "data": {
      "text/plain": [
       "str"
      ]
     },
     "execution_count": 170,
     "metadata": {},
     "output_type": "execute_result"
    }
   ],
   "source": [
    "type(a)"
   ]
  },
  {
   "cell_type": "markdown",
   "id": "5e74efa8",
   "metadata": {},
   "source": [
    "#### String as an array"
   ]
  },
  {
   "cell_type": "raw",
   "id": "dc285259",
   "metadata": {},
   "source": [
    "1. String can be treated as an array\n",
    "2. String characters can be accessed by referring to their index values\n",
    "\n",
    "Syntax: String [ index ]\n",
    "\n",
    "Ex : a[0]"
   ]
  },
  {
   "cell_type": "code",
   "execution_count": 171,
   "id": "33fea5e6",
   "metadata": {},
   "outputs": [],
   "source": [
    "a = 'programming'"
   ]
  },
  {
   "cell_type": "code",
   "execution_count": 172,
   "id": "fdff70a3",
   "metadata": {},
   "outputs": [
    {
     "data": {
      "text/plain": [
       "'p'"
      ]
     },
     "execution_count": 172,
     "metadata": {},
     "output_type": "execute_result"
    }
   ],
   "source": [
    "a[0]"
   ]
  },
  {
   "cell_type": "code",
   "execution_count": 173,
   "id": "0efe544c",
   "metadata": {},
   "outputs": [
    {
     "data": {
      "text/plain": [
       "'r'"
      ]
     },
     "execution_count": 173,
     "metadata": {},
     "output_type": "execute_result"
    }
   ],
   "source": [
    "a[1]"
   ]
  },
  {
   "cell_type": "code",
   "execution_count": 174,
   "id": "43c99c4c",
   "metadata": {},
   "outputs": [
    {
     "data": {
      "text/plain": [
       "'g'"
      ]
     },
     "execution_count": 174,
     "metadata": {},
     "output_type": "execute_result"
    }
   ],
   "source": [
    "a[-1]"
   ]
  },
  {
   "cell_type": "code",
   "execution_count": 175,
   "id": "9969c19c",
   "metadata": {},
   "outputs": [
    {
     "data": {
      "text/plain": [
       "'m'"
      ]
     },
     "execution_count": 175,
     "metadata": {},
     "output_type": "execute_result"
    }
   ],
   "source": [
    "a[-4]"
   ]
  },
  {
   "cell_type": "markdown",
   "id": "cc792b5b",
   "metadata": {},
   "source": [
    "### String Slicing"
   ]
  },
  {
   "cell_type": "raw",
   "id": "6a78ef1e",
   "metadata": {},
   "source": [
    "String Slicing : Accessing a part or portion of a string by referring to range of index\n",
    "\n",
    "Syntax:  String [ Start_index: End_Index]\n",
    "\n",
    "note: End index is not included"
   ]
  },
  {
   "cell_type": "code",
   "execution_count": 176,
   "id": "370d7427",
   "metadata": {},
   "outputs": [],
   "source": [
    "a = 'programming'"
   ]
  },
  {
   "cell_type": "code",
   "execution_count": 177,
   "id": "cca532e3",
   "metadata": {},
   "outputs": [
    {
     "data": {
      "text/plain": [
       "'pro'"
      ]
     },
     "execution_count": 177,
     "metadata": {},
     "output_type": "execute_result"
    }
   ],
   "source": [
    "a[0:3]"
   ]
  },
  {
   "cell_type": "code",
   "execution_count": 178,
   "id": "ab49bf64",
   "metadata": {},
   "outputs": [
    {
     "data": {
      "text/plain": [
       "'progr'"
      ]
     },
     "execution_count": 178,
     "metadata": {},
     "output_type": "execute_result"
    }
   ],
   "source": [
    "a[0:5]"
   ]
  },
  {
   "cell_type": "code",
   "execution_count": 179,
   "id": "1ef2acf9",
   "metadata": {},
   "outputs": [
    {
     "data": {
      "text/plain": [
       "'gra'"
      ]
     },
     "execution_count": 179,
     "metadata": {},
     "output_type": "execute_result"
    }
   ],
   "source": [
    "a[3:6]"
   ]
  },
  {
   "cell_type": "code",
   "execution_count": 180,
   "id": "fdea2977",
   "metadata": {},
   "outputs": [
    {
     "data": {
      "text/plain": [
       "'amming'"
      ]
     },
     "execution_count": 180,
     "metadata": {},
     "output_type": "execute_result"
    }
   ],
   "source": [
    "a[5:]"
   ]
  },
  {
   "cell_type": "code",
   "execution_count": 181,
   "id": "81d4eeab",
   "metadata": {},
   "outputs": [
    {
     "data": {
      "text/plain": [
       "'rogr'"
      ]
     },
     "execution_count": 181,
     "metadata": {},
     "output_type": "execute_result"
    }
   ],
   "source": [
    "a[-10:-6]"
   ]
  },
  {
   "cell_type": "code",
   "execution_count": 182,
   "id": "31db4982",
   "metadata": {},
   "outputs": [],
   "source": [
    "a = 'programming'"
   ]
  },
  {
   "cell_type": "code",
   "execution_count": 184,
   "id": "7c838403",
   "metadata": {},
   "outputs": [
    {
     "data": {
      "text/plain": [
       "'pro'"
      ]
     },
     "execution_count": 184,
     "metadata": {},
     "output_type": "execute_result"
    }
   ],
   "source": [
    "a[0:3]"
   ]
  },
  {
   "cell_type": "code",
   "execution_count": 187,
   "id": "21a8136f",
   "metadata": {},
   "outputs": [
    {
     "data": {
      "text/plain": [
       "'pro'"
      ]
     },
     "execution_count": 187,
     "metadata": {},
     "output_type": "execute_result"
    }
   ],
   "source": [
    "a[:3] # a[0:3]"
   ]
  },
  {
   "cell_type": "code",
   "execution_count": 188,
   "id": "e6959024",
   "metadata": {},
   "outputs": [
    {
     "data": {
      "text/plain": [
       "'programming'"
      ]
     },
     "execution_count": 188,
     "metadata": {},
     "output_type": "execute_result"
    }
   ],
   "source": [
    "a[:]"
   ]
  },
  {
   "cell_type": "code",
   "execution_count": 189,
   "id": "df526ec5",
   "metadata": {},
   "outputs": [
    {
     "data": {
      "text/plain": [
       "'programming'"
      ]
     },
     "execution_count": 189,
     "metadata": {},
     "output_type": "execute_result"
    }
   ],
   "source": [
    "a[::]"
   ]
  },
  {
   "cell_type": "code",
   "execution_count": 190,
   "id": "16910e2b",
   "metadata": {},
   "outputs": [
    {
     "data": {
      "text/plain": [
       "'gnimmargorp'"
      ]
     },
     "execution_count": 190,
     "metadata": {},
     "output_type": "execute_result"
    }
   ],
   "source": [
    "a[::-1]"
   ]
  },
  {
   "cell_type": "code",
   "execution_count": 192,
   "id": "068f070d",
   "metadata": {},
   "outputs": [
    {
     "data": {
      "text/plain": [
       "'ing'"
      ]
     },
     "execution_count": 192,
     "metadata": {},
     "output_type": "execute_result"
    }
   ],
   "source": [
    "#last 3 characters \n",
    "a[-3:]"
   ]
  },
  {
   "cell_type": "code",
   "execution_count": 195,
   "id": "cc6c092f",
   "metadata": {},
   "outputs": [
    {
     "data": {
      "text/plain": [
       "'ing'"
      ]
     },
     "execution_count": 195,
     "metadata": {},
     "output_type": "execute_result"
    }
   ],
   "source": [
    "a[-3:]"
   ]
  },
  {
   "cell_type": "code",
   "execution_count": 196,
   "id": "dcfbc556",
   "metadata": {},
   "outputs": [],
   "source": [
    "#access first 3 characters "
   ]
  },
  {
   "cell_type": "code",
   "execution_count": 197,
   "id": "70d97e17",
   "metadata": {},
   "outputs": [
    {
     "data": {
      "text/plain": [
       "'pro'"
      ]
     },
     "execution_count": 197,
     "metadata": {},
     "output_type": "execute_result"
    }
   ],
   "source": [
    "a[:3]"
   ]
  },
  {
   "cell_type": "code",
   "execution_count": 198,
   "id": "b49b7841",
   "metadata": {},
   "outputs": [
    {
     "data": {
      "text/plain": [
       "'progr'"
      ]
     },
     "execution_count": 198,
     "metadata": {},
     "output_type": "execute_result"
    }
   ],
   "source": [
    "a[:5]"
   ]
  },
  {
   "cell_type": "code",
   "execution_count": 199,
   "id": "8814ca2a",
   "metadata": {},
   "outputs": [
    {
     "data": {
      "text/plain": [
       "'programming'"
      ]
     },
     "execution_count": 199,
     "metadata": {},
     "output_type": "execute_result"
    }
   ],
   "source": [
    "a"
   ]
  },
  {
   "cell_type": "code",
   "execution_count": 200,
   "id": "870df368",
   "metadata": {},
   "outputs": [
    {
     "data": {
      "text/plain": [
       "'pormi'"
      ]
     },
     "execution_count": 200,
     "metadata": {},
     "output_type": "execute_result"
    }
   ],
   "source": [
    "a[0:9:2]"
   ]
  },
  {
   "cell_type": "code",
   "execution_count": 201,
   "id": "2bff8011",
   "metadata": {},
   "outputs": [
    {
     "data": {
      "text/plain": [
       "'pgm'"
      ]
     },
     "execution_count": 201,
     "metadata": {},
     "output_type": "execute_result"
    }
   ],
   "source": [
    "a[0:9:3]"
   ]
  },
  {
   "cell_type": "code",
   "execution_count": 202,
   "id": "4bc50ebb",
   "metadata": {},
   "outputs": [
    {
     "data": {
      "text/plain": [
       "'gnimmargorp'"
      ]
     },
     "execution_count": 202,
     "metadata": {},
     "output_type": "execute_result"
    }
   ],
   "source": [
    "a[::-1]"
   ]
  },
  {
   "cell_type": "markdown",
   "id": "f0cfa389",
   "metadata": {},
   "source": [
    "## String Methods"
   ]
  },
  {
   "cell_type": "markdown",
   "id": "199f3ea6",
   "metadata": {},
   "source": [
    "### upper( )"
   ]
  },
  {
   "cell_type": "code",
   "execution_count": 203,
   "id": "23aa3481",
   "metadata": {},
   "outputs": [],
   "source": [
    "a = 'programming'"
   ]
  },
  {
   "cell_type": "code",
   "execution_count": 204,
   "id": "8fc4544f",
   "metadata": {},
   "outputs": [
    {
     "data": {
      "text/plain": [
       "'PROGRAMMING'"
      ]
     },
     "execution_count": 204,
     "metadata": {},
     "output_type": "execute_result"
    }
   ],
   "source": [
    "a.upper()"
   ]
  },
  {
   "cell_type": "code",
   "execution_count": 205,
   "id": "470f65d1",
   "metadata": {},
   "outputs": [
    {
     "name": "stdout",
     "output_type": "stream",
     "text": [
      "Help on method_descriptor:\n",
      "\n",
      "upper(self, /)\n",
      "    Return a copy of the string converted to uppercase.\n",
      "\n",
      "None\n"
     ]
    }
   ],
   "source": [
    "print(help(str.upper))"
   ]
  },
  {
   "cell_type": "markdown",
   "id": "1add0085",
   "metadata": {},
   "source": [
    "### lower ( ) "
   ]
  },
  {
   "cell_type": "code",
   "execution_count": 206,
   "id": "ea79cd9b",
   "metadata": {},
   "outputs": [],
   "source": [
    "b = 'PROGRAMMING'"
   ]
  },
  {
   "cell_type": "code",
   "execution_count": 207,
   "id": "27a4bd9e",
   "metadata": {},
   "outputs": [
    {
     "data": {
      "text/plain": [
       "'programming'"
      ]
     },
     "execution_count": 207,
     "metadata": {},
     "output_type": "execute_result"
    }
   ],
   "source": [
    "b.lower()"
   ]
  },
  {
   "cell_type": "code",
   "execution_count": 208,
   "id": "277e759c",
   "metadata": {},
   "outputs": [
    {
     "name": "stdout",
     "output_type": "stream",
     "text": [
      "Help on method_descriptor:\n",
      "\n",
      "lower(self, /)\n",
      "    Return a copy of the string converted to lowercase.\n",
      "\n",
      "None\n"
     ]
    }
   ],
   "source": [
    "print(help(str.lower))"
   ]
  },
  {
   "cell_type": "markdown",
   "id": "59e3c7ad",
   "metadata": {},
   "source": [
    "### capitalize( )"
   ]
  },
  {
   "cell_type": "code",
   "execution_count": 209,
   "id": "4a811e5f",
   "metadata": {},
   "outputs": [],
   "source": [
    "a = 'programming'"
   ]
  },
  {
   "cell_type": "code",
   "execution_count": 210,
   "id": "7d40b0f1",
   "metadata": {},
   "outputs": [
    {
     "data": {
      "text/plain": [
       "'Programming'"
      ]
     },
     "execution_count": 210,
     "metadata": {},
     "output_type": "execute_result"
    }
   ],
   "source": [
    "a.capitalize()"
   ]
  },
  {
   "cell_type": "code",
   "execution_count": 211,
   "id": "6c6580d1",
   "metadata": {},
   "outputs": [],
   "source": [
    "a = 'python is good programming language'"
   ]
  },
  {
   "cell_type": "code",
   "execution_count": 212,
   "id": "1b9f6faa",
   "metadata": {},
   "outputs": [
    {
     "data": {
      "text/plain": [
       "'Python is good programming language'"
      ]
     },
     "execution_count": 212,
     "metadata": {},
     "output_type": "execute_result"
    }
   ],
   "source": [
    "a.capitalize()"
   ]
  },
  {
   "cell_type": "code",
   "execution_count": 213,
   "id": "25c75234",
   "metadata": {},
   "outputs": [],
   "source": [
    "a = 'ProGrammInG'"
   ]
  },
  {
   "cell_type": "code",
   "execution_count": 214,
   "id": "cb9e7f1d",
   "metadata": {},
   "outputs": [
    {
     "data": {
      "text/plain": [
       "'Programming'"
      ]
     },
     "execution_count": 214,
     "metadata": {},
     "output_type": "execute_result"
    }
   ],
   "source": [
    "a.capitalize()"
   ]
  },
  {
   "cell_type": "markdown",
   "id": "40d63ad3",
   "metadata": {},
   "source": [
    "### title( )"
   ]
  },
  {
   "cell_type": "code",
   "execution_count": 215,
   "id": "58016fae",
   "metadata": {},
   "outputs": [],
   "source": [
    "a = 'python programming is good'"
   ]
  },
  {
   "cell_type": "code",
   "execution_count": 216,
   "id": "f948e88d",
   "metadata": {},
   "outputs": [
    {
     "data": {
      "text/plain": [
       "'Python Programming Is Good'"
      ]
     },
     "execution_count": 216,
     "metadata": {},
     "output_type": "execute_result"
    }
   ],
   "source": [
    "a.title()"
   ]
  },
  {
   "cell_type": "code",
   "execution_count": 217,
   "id": "f8c83373",
   "metadata": {},
   "outputs": [
    {
     "name": "stdout",
     "output_type": "stream",
     "text": [
      "Help on method_descriptor:\n",
      "\n",
      "title(self, /)\n",
      "    Return a version of the string where each word is titlecased.\n",
      "    \n",
      "    More specifically, words start with uppercased characters and all remaining\n",
      "    cased characters have lower case.\n",
      "\n",
      "None\n"
     ]
    }
   ],
   "source": [
    "print(help(str.title))"
   ]
  },
  {
   "cell_type": "markdown",
   "id": "7c311c3b",
   "metadata": {},
   "source": [
    "### startswith( )"
   ]
  },
  {
   "cell_type": "code",
   "execution_count": 218,
   "id": "32431504",
   "metadata": {},
   "outputs": [],
   "source": [
    "a = 'programming'"
   ]
  },
  {
   "cell_type": "code",
   "execution_count": 219,
   "id": "553eb659",
   "metadata": {},
   "outputs": [
    {
     "data": {
      "text/plain": [
       "True"
      ]
     },
     "execution_count": 219,
     "metadata": {},
     "output_type": "execute_result"
    }
   ],
   "source": [
    "a.startswith('pr')"
   ]
  },
  {
   "cell_type": "code",
   "execution_count": 220,
   "id": "7c6e9407",
   "metadata": {},
   "outputs": [
    {
     "data": {
      "text/plain": [
       "True"
      ]
     },
     "execution_count": 220,
     "metadata": {},
     "output_type": "execute_result"
    }
   ],
   "source": [
    "a.startswith('p')"
   ]
  },
  {
   "cell_type": "code",
   "execution_count": 221,
   "id": "59b9e20b",
   "metadata": {},
   "outputs": [
    {
     "data": {
      "text/plain": [
       "False"
      ]
     },
     "execution_count": 221,
     "metadata": {},
     "output_type": "execute_result"
    }
   ],
   "source": [
    "a.startswith('x')"
   ]
  },
  {
   "cell_type": "code",
   "execution_count": 222,
   "id": "d7dd7203",
   "metadata": {},
   "outputs": [
    {
     "name": "stdout",
     "output_type": "stream",
     "text": [
      "Help on method_descriptor:\n",
      "\n",
      "startswith(...)\n",
      "    S.startswith(prefix[, start[, end]]) -> bool\n",
      "    \n",
      "    Return True if S starts with the specified prefix, False otherwise.\n",
      "    With optional start, test S beginning at that position.\n",
      "    With optional end, stop comparing S at that position.\n",
      "    prefix can also be a tuple of strings to try.\n",
      "\n",
      "None\n"
     ]
    }
   ],
   "source": [
    "print(help(str.startswith))"
   ]
  },
  {
   "cell_type": "code",
   "execution_count": 223,
   "id": "677c7e6b",
   "metadata": {},
   "outputs": [],
   "source": [
    "a = 'python programming is good'"
   ]
  },
  {
   "cell_type": "code",
   "execution_count": 224,
   "id": "81abd981",
   "metadata": {},
   "outputs": [
    {
     "data": {
      "text/plain": [
       "True"
      ]
     },
     "execution_count": 224,
     "metadata": {},
     "output_type": "execute_result"
    }
   ],
   "source": [
    "a.startswith('python')"
   ]
  },
  {
   "cell_type": "markdown",
   "id": "e818bbe3",
   "metadata": {},
   "source": [
    "### Endswith( )"
   ]
  },
  {
   "cell_type": "code",
   "execution_count": 225,
   "id": "f59dc5f1",
   "metadata": {},
   "outputs": [
    {
     "data": {
      "text/plain": [
       "'python programming is good'"
      ]
     },
     "execution_count": 225,
     "metadata": {},
     "output_type": "execute_result"
    }
   ],
   "source": [
    "a"
   ]
  },
  {
   "cell_type": "code",
   "execution_count": 226,
   "id": "e90798ea",
   "metadata": {},
   "outputs": [
    {
     "data": {
      "text/plain": [
       "True"
      ]
     },
     "execution_count": 226,
     "metadata": {},
     "output_type": "execute_result"
    }
   ],
   "source": [
    "a.endswith('good')"
   ]
  },
  {
   "cell_type": "code",
   "execution_count": 227,
   "id": "f473bdce",
   "metadata": {},
   "outputs": [
    {
     "data": {
      "text/plain": [
       "True"
      ]
     },
     "execution_count": 227,
     "metadata": {},
     "output_type": "execute_result"
    }
   ],
   "source": [
    "a.endswith('d')"
   ]
  },
  {
   "cell_type": "code",
   "execution_count": 228,
   "id": "7fffb341",
   "metadata": {},
   "outputs": [
    {
     "data": {
      "text/plain": [
       "False"
      ]
     },
     "execution_count": 228,
     "metadata": {},
     "output_type": "execute_result"
    }
   ],
   "source": [
    "a.endswith('x')"
   ]
  },
  {
   "cell_type": "code",
   "execution_count": 229,
   "id": "19ec72ce",
   "metadata": {},
   "outputs": [
    {
     "name": "stdout",
     "output_type": "stream",
     "text": [
      "Help on method_descriptor:\n",
      "\n",
      "endswith(...)\n",
      "    S.endswith(suffix[, start[, end]]) -> bool\n",
      "    \n",
      "    Return True if S ends with the specified suffix, False otherwise.\n",
      "    With optional start, test S beginning at that position.\n",
      "    With optional end, stop comparing S at that position.\n",
      "    suffix can also be a tuple of strings to try.\n",
      "\n",
      "None\n"
     ]
    }
   ],
   "source": [
    "print(help(str.endswith))"
   ]
  },
  {
   "cell_type": "code",
   "execution_count": null,
   "id": "9578579b",
   "metadata": {},
   "outputs": [],
   "source": []
  }
 ],
 "metadata": {
  "kernelspec": {
   "display_name": "Python 3 (ipykernel)",
   "language": "python",
   "name": "python3"
  },
  "language_info": {
   "codemirror_mode": {
    "name": "ipython",
    "version": 3
   },
   "file_extension": ".py",
   "mimetype": "text/x-python",
   "name": "python",
   "nbconvert_exporter": "python",
   "pygments_lexer": "ipython3",
   "version": "3.10.9"
  }
 },
 "nbformat": 4,
 "nbformat_minor": 5
}
