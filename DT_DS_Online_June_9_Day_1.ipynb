{
 "cells": [
  {
   "cell_type": "markdown",
   "id": "f018d657",
   "metadata": {},
   "source": [
    "# Introduction to Python Programming - H1"
   ]
  },
  {
   "cell_type": "markdown",
   "id": "6a729cc1",
   "metadata": {},
   "source": [
    "## Introduction to Python Programming - H2"
   ]
  },
  {
   "cell_type": "markdown",
   "id": "31d9b83c",
   "metadata": {},
   "source": [
    "### Introduction to Python Programming - H3"
   ]
  },
  {
   "cell_type": "markdown",
   "id": "e4d2f4bf",
   "metadata": {},
   "source": [
    "#### Introduction to Python Programming - H4"
   ]
  },
  {
   "cell_type": "markdown",
   "id": "a428ea3a",
   "metadata": {},
   "source": [
    "### Features of Python Programming\n",
    "\n",
    "1. Python is **Open- Source** Programming language\n",
    "2. Python is *Dynamically typed* Language\n",
    "3. Python is ***platform Independent*** Language\n",
    "4. Python **Interpreter based Language**\n",
    "5. Python is **Object Oriented Programming** language\n",
    "6. Python have **Exception Handling Techniques**\n",
    "7. Python allows Programmers to write fewer lines of code when compared to other programming languages"
   ]
  },
  {
   "cell_type": "code",
   "execution_count": 1,
   "id": "607a77d5",
   "metadata": {},
   "outputs": [
    {
     "name": "stdout",
     "output_type": "stream",
     "text": [
      "Hello all , Welcome to Datateach.ai\n"
     ]
    }
   ],
   "source": [
    "print('Hello all , Welcome to Datateach.ai')"
   ]
  },
  {
   "cell_type": "markdown",
   "id": "d457c4e6",
   "metadata": {},
   "source": [
    "### Keywords"
   ]
  },
  {
   "cell_type": "markdown",
   "id": "ced21ded",
   "metadata": {},
   "source": [
    "1. Keywords are **Reserved Words** which have Special Meaning\n",
    "2. Keywords are used to write Meaningful Instructions \n",
    "3. Keywords Should not be used a variable Names"
   ]
  },
  {
   "cell_type": "code",
   "execution_count": 1,
   "id": "69961f9d",
   "metadata": {},
   "outputs": [
    {
     "name": "stdout",
     "output_type": "stream",
     "text": [
      "['False', 'None', 'True', 'and', 'as', 'assert', 'async', 'await', 'break', 'class', 'continue', 'def', 'del', 'elif', 'else', 'except', 'finally', 'for', 'from', 'global', 'if', 'import', 'in', 'is', 'lambda', 'nonlocal', 'not', 'or', 'pass', 'raise', 'return', 'try', 'while', 'with', 'yield']\n"
     ]
    }
   ],
   "source": [
    "import keyword\n",
    "print(keyword.kwlist)"
   ]
  },
  {
   "cell_type": "code",
   "execution_count": 2,
   "id": "7c1c4071",
   "metadata": {},
   "outputs": [
    {
     "name": "stdout",
     "output_type": "stream",
     "text": [
      "35\n"
     ]
    }
   ],
   "source": [
    "print(len(keyword.kwlist))"
   ]
  },
  {
   "cell_type": "markdown",
   "id": "eb6a9285",
   "metadata": {},
   "source": [
    "### Identifiers"
   ]
  },
  {
   "cell_type": "raw",
   "id": "86f6e897",
   "metadata": {},
   "source": [
    "Name of a Variable / module / function / object / class is called Identifier"
   ]
  },
  {
   "cell_type": "markdown",
   "id": "95a9db17",
   "metadata": {},
   "source": [
    "#### Identifier Name Rules"
   ]
  },
  {
   "cell_type": "markdown",
   "id": "69a6e41c",
   "metadata": {},
   "source": [
    "1. Identifiers Should only contain Alphanumerics and an underscore ( _ )\n",
    "2. Indentifiers should only start with a character or an underscore\n",
    "3. Keywords should not be used as Identifiers\n",
    "4. White space is not allowed in Identifiers"
   ]
  },
  {
   "cell_type": "markdown",
   "id": "0ccd9ea6",
   "metadata": {},
   "source": [
    "#### Comments"
   ]
  },
  {
   "cell_type": "raw",
   "id": "8b801a24",
   "metadata": {},
   "source": [
    "In python comments starts with # . Whatever we write after # will be considered as comments"
   ]
  },
  {
   "cell_type": "code",
   "execution_count": 3,
   "id": "0f3496f5",
   "metadata": {},
   "outputs": [],
   "source": [
    "# this is cooment line"
   ]
  },
  {
   "cell_type": "code",
   "execution_count": 4,
   "id": "3048a6bb",
   "metadata": {},
   "outputs": [],
   "source": [
    "# Comments in Python "
   ]
  },
  {
   "cell_type": "code",
   "execution_count": 5,
   "id": "7a92e3d1",
   "metadata": {},
   "outputs": [],
   "source": [
    "area = 89 # valid "
   ]
  },
  {
   "cell_type": "code",
   "execution_count": 6,
   "id": "652415f0",
   "metadata": {},
   "outputs": [],
   "source": [
    "Area = 78 # valid"
   ]
  },
  {
   "cell_type": "code",
   "execution_count": 7,
   "id": "a6182a0a",
   "metadata": {},
   "outputs": [],
   "source": [
    "Area5 = 45 # valid\n"
   ]
  },
  {
   "cell_type": "code",
   "execution_count": 8,
   "id": "340e01a0",
   "metadata": {},
   "outputs": [],
   "source": [
    "Area_4 = 34 # valid "
   ]
  },
  {
   "cell_type": "code",
   "execution_count": 9,
   "id": "2d6b14e1",
   "metadata": {},
   "outputs": [
    {
     "ename": "SyntaxError",
     "evalue": "invalid decimal literal (3700743886.py, line 1)",
     "output_type": "error",
     "traceback": [
      "\u001b[0;36m  Cell \u001b[0;32mIn[9], line 1\u001b[0;36m\u001b[0m\n\u001b[0;31m    4area = 67 # invalid\u001b[0m\n\u001b[0m    ^\u001b[0m\n\u001b[0;31mSyntaxError\u001b[0m\u001b[0;31m:\u001b[0m invalid decimal literal\n"
     ]
    }
   ],
   "source": [
    "4area = 67 # invalid "
   ]
  },
  {
   "cell_type": "code",
   "execution_count": 10,
   "id": "ac3a6306",
   "metadata": {},
   "outputs": [],
   "source": [
    "_area = 89 # valid"
   ]
  },
  {
   "cell_type": "code",
   "execution_count": 11,
   "id": "eb6e9559",
   "metadata": {},
   "outputs": [],
   "source": [
    "_a = 23 # valid"
   ]
  },
  {
   "cell_type": "code",
   "execution_count": 13,
   "id": "f4183427",
   "metadata": {},
   "outputs": [
    {
     "ename": "SyntaxError",
     "evalue": "invalid syntax (2816956920.py, line 1)",
     "output_type": "error",
     "traceback": [
      "\u001b[0;36m  Cell \u001b[0;32mIn[13], line 1\u001b[0;36m\u001b[0m\n\u001b[0;31m    break = 67 # invalid\u001b[0m\n\u001b[0m          ^\u001b[0m\n\u001b[0;31mSyntaxError\u001b[0m\u001b[0;31m:\u001b[0m invalid syntax\n"
     ]
    }
   ],
   "source": [
    "break = 67 # invalid"
   ]
  },
  {
   "cell_type": "code",
   "execution_count": 14,
   "id": "cafad64f",
   "metadata": {},
   "outputs": [
    {
     "ename": "SyntaxError",
     "evalue": "invalid syntax (1723829863.py, line 1)",
     "output_type": "error",
     "traceback": [
      "\u001b[0;36m  Cell \u001b[0;32mIn[14], line 1\u001b[0;36m\u001b[0m\n\u001b[0;31m    if = 45 # invalid\u001b[0m\n\u001b[0m       ^\u001b[0m\n\u001b[0;31mSyntaxError\u001b[0m\u001b[0;31m:\u001b[0m invalid syntax\n"
     ]
    }
   ],
   "source": [
    "if = 45 # invalid"
   ]
  },
  {
   "cell_type": "code",
   "execution_count": 15,
   "id": "5a37276a",
   "metadata": {},
   "outputs": [
    {
     "ename": "SyntaxError",
     "evalue": "invalid syntax (3752400858.py, line 1)",
     "output_type": "error",
     "traceback": [
      "\u001b[0;36m  Cell \u001b[0;32mIn[15], line 1\u001b[0;36m\u001b[0m\n\u001b[0;31m    area width = 67 # invalid\u001b[0m\n\u001b[0m         ^\u001b[0m\n\u001b[0;31mSyntaxError\u001b[0m\u001b[0;31m:\u001b[0m invalid syntax\n"
     ]
    }
   ],
   "source": [
    "area width = 67 # invalid "
   ]
  },
  {
   "cell_type": "code",
   "execution_count": 16,
   "id": "c0ded687",
   "metadata": {},
   "outputs": [],
   "source": [
    "area_width = 67 # valid"
   ]
  },
  {
   "cell_type": "markdown",
   "id": "09e989ed",
   "metadata": {},
   "source": [
    "#### variables"
   ]
  },
  {
   "cell_type": "raw",
   "id": "a09d3fa8",
   "metadata": {},
   "source": [
    "variable is Data Container which stores a Value .\n",
    "Variable may be a shorter names like a, b , k , x or more descriptive name like area , width ,data ..."
   ]
  },
  {
   "cell_type": "code",
   "execution_count": 17,
   "id": "26357721",
   "metadata": {},
   "outputs": [],
   "source": [
    "a = 20 "
   ]
  },
  {
   "cell_type": "code",
   "execution_count": 18,
   "id": "b60d0f31",
   "metadata": {},
   "outputs": [
    {
     "data": {
      "text/plain": [
       "20"
      ]
     },
     "execution_count": 18,
     "metadata": {},
     "output_type": "execute_result"
    }
   ],
   "source": [
    "a"
   ]
  },
  {
   "cell_type": "code",
   "execution_count": 19,
   "id": "1a33373e",
   "metadata": {},
   "outputs": [],
   "source": [
    "b = 45 "
   ]
  },
  {
   "cell_type": "code",
   "execution_count": 20,
   "id": "959d2274",
   "metadata": {},
   "outputs": [
    {
     "data": {
      "text/plain": [
       "45"
      ]
     },
     "execution_count": 20,
     "metadata": {},
     "output_type": "execute_result"
    }
   ],
   "source": [
    "b"
   ]
  },
  {
   "cell_type": "code",
   "execution_count": 21,
   "id": "d2f466cc",
   "metadata": {},
   "outputs": [],
   "source": [
    "area = 78 "
   ]
  },
  {
   "cell_type": "code",
   "execution_count": 22,
   "id": "4ac5ecdf",
   "metadata": {},
   "outputs": [
    {
     "data": {
      "text/plain": [
       "78"
      ]
     },
     "execution_count": 22,
     "metadata": {},
     "output_type": "execute_result"
    }
   ],
   "source": [
    "area "
   ]
  },
  {
   "cell_type": "code",
   "execution_count": 23,
   "id": "32cc7e5b",
   "metadata": {},
   "outputs": [],
   "source": [
    "area_width = 89 "
   ]
  },
  {
   "cell_type": "code",
   "execution_count": 24,
   "id": "7af0b44c",
   "metadata": {},
   "outputs": [],
   "source": [
    "a = 45 "
   ]
  },
  {
   "cell_type": "code",
   "execution_count": 25,
   "id": "9367ab44",
   "metadata": {},
   "outputs": [
    {
     "name": "stdout",
     "output_type": "stream",
     "text": [
      "45\n"
     ]
    }
   ],
   "source": [
    "print(a)"
   ]
  },
  {
   "cell_type": "code",
   "execution_count": 26,
   "id": "86dc066e",
   "metadata": {},
   "outputs": [],
   "source": [
    "a = 56"
   ]
  },
  {
   "cell_type": "code",
   "execution_count": 27,
   "id": "dd425727",
   "metadata": {},
   "outputs": [
    {
     "name": "stdout",
     "output_type": "stream",
     "text": [
      "56\n"
     ]
    }
   ],
   "source": [
    "print(a)"
   ]
  },
  {
   "cell_type": "code",
   "execution_count": 28,
   "id": "1b9cd012",
   "metadata": {},
   "outputs": [],
   "source": [
    "a, b, c = 10, 20, 30 "
   ]
  },
  {
   "cell_type": "code",
   "execution_count": 29,
   "id": "ba26c3ac",
   "metadata": {},
   "outputs": [
    {
     "data": {
      "text/plain": [
       "(10, 20, 30)"
      ]
     },
     "execution_count": 29,
     "metadata": {},
     "output_type": "execute_result"
    }
   ],
   "source": [
    "a,b,c"
   ]
  },
  {
   "cell_type": "code",
   "execution_count": 30,
   "id": "5bcf76d5",
   "metadata": {},
   "outputs": [],
   "source": [
    "a = b = c = 45"
   ]
  },
  {
   "cell_type": "code",
   "execution_count": 31,
   "id": "d1a56e70",
   "metadata": {},
   "outputs": [
    {
     "data": {
      "text/plain": [
       "(45, 45, 45)"
      ]
     },
     "execution_count": 31,
     "metadata": {},
     "output_type": "execute_result"
    }
   ],
   "source": [
    "a,b,c"
   ]
  },
  {
   "cell_type": "markdown",
   "id": "faee6eff",
   "metadata": {},
   "source": [
    "## Data Types \n",
    "\n",
    "1. **Numeric**\n",
    "    1. Integer\n",
    "    2. Float \n",
    "    3. Complex \n",
    "2. **Sequence**\n",
    "    1. String\n",
    "    2. List \n",
    "    3. Tuple\n",
    "3. **Text**\n",
    "    1. String\n",
    "4. **Set**\n",
    "    1. Set \n",
    "5. **Boolean**\n",
    "    1. True\n",
    "    2. False\n",
    "6. **Dictionary**\n",
    "    1. Dictionary"
   ]
  },
  {
   "cell_type": "markdown",
   "id": "c01ddca8",
   "metadata": {},
   "source": [
    "#### Numeric Data Types\n",
    "1. Integer"
   ]
  },
  {
   "cell_type": "code",
   "execution_count": 32,
   "id": "89beb0d5",
   "metadata": {},
   "outputs": [],
   "source": [
    "a = 10 \n",
    "b = -67 \n",
    "c = 678938436463"
   ]
  },
  {
   "cell_type": "code",
   "execution_count": 33,
   "id": "1a7fc86c",
   "metadata": {},
   "outputs": [
    {
     "data": {
      "text/plain": [
       "int"
      ]
     },
     "execution_count": 33,
     "metadata": {},
     "output_type": "execute_result"
    }
   ],
   "source": [
    "type(a) # type() is a method which returns data type of a variable "
   ]
  },
  {
   "cell_type": "code",
   "execution_count": 34,
   "id": "94f8376f",
   "metadata": {},
   "outputs": [
    {
     "data": {
      "text/plain": [
       "int"
      ]
     },
     "execution_count": 34,
     "metadata": {},
     "output_type": "execute_result"
    }
   ],
   "source": [
    "type(b)"
   ]
  },
  {
   "cell_type": "code",
   "execution_count": 35,
   "id": "2aa691e9",
   "metadata": {},
   "outputs": [
    {
     "data": {
      "text/plain": [
       "int"
      ]
     },
     "execution_count": 35,
     "metadata": {},
     "output_type": "execute_result"
    }
   ],
   "source": [
    "type(c)"
   ]
  },
  {
   "cell_type": "code",
   "execution_count": 36,
   "id": "371415f2",
   "metadata": {},
   "outputs": [
    {
     "name": "stdout",
     "output_type": "stream",
     "text": [
      "<class 'int'>\n"
     ]
    }
   ],
   "source": [
    "print(type(a))"
   ]
  },
  {
   "cell_type": "code",
   "execution_count": 37,
   "id": "0972aa12",
   "metadata": {},
   "outputs": [
    {
     "name": "stdout",
     "output_type": "stream",
     "text": [
      "<class 'int'>\n"
     ]
    }
   ],
   "source": [
    "print(type(b))"
   ]
  },
  {
   "cell_type": "code",
   "execution_count": 38,
   "id": "ab3cdba4",
   "metadata": {},
   "outputs": [
    {
     "name": "stdout",
     "output_type": "stream",
     "text": [
      "The data Type of a variable a is :  <class 'int'>\n",
      "The data Type of a variable b is :  <class 'int'>\n",
      "The data Type of a variable c is :  <class 'int'>\n"
     ]
    }
   ],
   "source": [
    "print('The data Type of a variable a is : ',type(a))\n",
    "print('The data Type of a variable b is : ',type(b))\n",
    "print('The data Type of a variable c is : ',type(c))"
   ]
  },
  {
   "cell_type": "code",
   "execution_count": 39,
   "id": "5f36998d",
   "metadata": {},
   "outputs": [],
   "source": [
    "# float \n",
    "a = 34.78\n",
    "b = -90.67\n",
    "c = 3.89644326277282"
   ]
  },
  {
   "cell_type": "code",
   "execution_count": 40,
   "id": "319e8e75",
   "metadata": {},
   "outputs": [
    {
     "name": "stdout",
     "output_type": "stream",
     "text": [
      "The data Type of a variable a is :  <class 'float'>\n",
      "The data Type of a variable b is :  <class 'float'>\n",
      "The data Type of a variable c is :  <class 'float'>\n"
     ]
    }
   ],
   "source": [
    "print('The data Type of a variable a is : ',type(a))\n",
    "print('The data Type of a variable b is : ',type(b))\n",
    "print('The data Type of a variable c is : ',type(c))"
   ]
  },
  {
   "cell_type": "code",
   "execution_count": 41,
   "id": "d9532575",
   "metadata": {},
   "outputs": [],
   "source": [
    "a = 3+9j\n",
    "b = -7-4j\n",
    "c = -5j"
   ]
  },
  {
   "cell_type": "code",
   "execution_count": 42,
   "id": "ca16eea9",
   "metadata": {},
   "outputs": [
    {
     "name": "stdout",
     "output_type": "stream",
     "text": [
      "The data Type of a variable a is :  <class 'complex'>\n",
      "The data Type of a variable b is :  <class 'complex'>\n",
      "The data Type of a variable c is :  <class 'complex'>\n"
     ]
    }
   ],
   "source": [
    "print('The data Type of a variable a is : ',type(a))\n",
    "print('The data Type of a variable b is : ',type(b))\n",
    "print('The data Type of a variable c is : ',type(c))"
   ]
  },
  {
   "cell_type": "markdown",
   "id": "0ae265c1",
   "metadata": {},
   "source": [
    "## Type Conversion"
   ]
  },
  {
   "cell_type": "raw",
   "id": "871127e5",
   "metadata": {},
   "source": [
    "Type Conversion:\n",
    "It is a process of converting data type of a variable to another data type\n",
    "\n",
    "1. Integer - Float \n",
    "2. Integer - String \n",
    "3. Float - Integer\n",
    "4. Float - String \n",
    "5. String - integer (** if string is equal to any numeric value of base 10)\n",
    "6. String - Float (** if string is equal to any numeric value of base 10)"
   ]
  },
  {
   "cell_type": "code",
   "execution_count": 43,
   "id": "4e8288b9",
   "metadata": {},
   "outputs": [
    {
     "name": "stdout",
     "output_type": "stream",
     "text": [
      "20 <class 'int'>\n"
     ]
    }
   ],
   "source": [
    "# Integer to float \n",
    "a = 20 \n",
    "print(a,type(a))"
   ]
  },
  {
   "cell_type": "code",
   "execution_count": 44,
   "id": "246e09ed",
   "metadata": {},
   "outputs": [
    {
     "data": {
      "text/plain": [
       "20.0"
      ]
     },
     "execution_count": 44,
     "metadata": {},
     "output_type": "execute_result"
    }
   ],
   "source": [
    "float(a)"
   ]
  },
  {
   "cell_type": "code",
   "execution_count": 45,
   "id": "48c0703d",
   "metadata": {},
   "outputs": [
    {
     "name": "stdout",
     "output_type": "stream",
     "text": [
      "20.0 <class 'float'>\n"
     ]
    }
   ],
   "source": [
    "b = float(a)\n",
    "print(b,type(b))"
   ]
  },
  {
   "cell_type": "code",
   "execution_count": 46,
   "id": "5764dac3",
   "metadata": {},
   "outputs": [],
   "source": [
    "# Integer to string "
   ]
  },
  {
   "cell_type": "code",
   "execution_count": 47,
   "id": "294815d1",
   "metadata": {},
   "outputs": [
    {
     "data": {
      "text/plain": [
       "20"
      ]
     },
     "execution_count": 47,
     "metadata": {},
     "output_type": "execute_result"
    }
   ],
   "source": [
    "a"
   ]
  },
  {
   "cell_type": "code",
   "execution_count": 48,
   "id": "7420c788",
   "metadata": {},
   "outputs": [
    {
     "data": {
      "text/plain": [
       "'20'"
      ]
     },
     "execution_count": 48,
     "metadata": {},
     "output_type": "execute_result"
    }
   ],
   "source": [
    "str(a)"
   ]
  },
  {
   "cell_type": "code",
   "execution_count": 49,
   "id": "c34ef244",
   "metadata": {},
   "outputs": [],
   "source": [
    "#float to integer \n",
    "a = 56.89"
   ]
  },
  {
   "cell_type": "code",
   "execution_count": 50,
   "id": "55ab027b",
   "metadata": {},
   "outputs": [
    {
     "name": "stdout",
     "output_type": "stream",
     "text": [
      "56.89 <class 'float'>\n"
     ]
    }
   ],
   "source": [
    "print(a,type(a))"
   ]
  },
  {
   "cell_type": "code",
   "execution_count": 51,
   "id": "8769e3a8",
   "metadata": {},
   "outputs": [
    {
     "data": {
      "text/plain": [
       "56"
      ]
     },
     "execution_count": 51,
     "metadata": {},
     "output_type": "execute_result"
    }
   ],
   "source": [
    "int(a)"
   ]
  },
  {
   "cell_type": "code",
   "execution_count": 52,
   "id": "031de1f6",
   "metadata": {},
   "outputs": [
    {
     "data": {
      "text/plain": [
       "56.89"
      ]
     },
     "execution_count": 52,
     "metadata": {},
     "output_type": "execute_result"
    }
   ],
   "source": [
    "a"
   ]
  },
  {
   "cell_type": "code",
   "execution_count": 53,
   "id": "cb06d8a1",
   "metadata": {},
   "outputs": [
    {
     "data": {
      "text/plain": [
       "'56.89'"
      ]
     },
     "execution_count": 53,
     "metadata": {},
     "output_type": "execute_result"
    }
   ],
   "source": [
    "str(a)"
   ]
  },
  {
   "cell_type": "code",
   "execution_count": 54,
   "id": "8563ca09",
   "metadata": {},
   "outputs": [],
   "source": [
    "#string to integer \n",
    "#if string is equal to a numeric of base 10 \n",
    "\n",
    "a = 'python'"
   ]
  },
  {
   "cell_type": "code",
   "execution_count": 55,
   "id": "37cd793c",
   "metadata": {},
   "outputs": [
    {
     "ename": "ValueError",
     "evalue": "invalid literal for int() with base 10: 'python'",
     "output_type": "error",
     "traceback": [
      "\u001b[0;31m---------------------------------------------------------------------------\u001b[0m",
      "\u001b[0;31mValueError\u001b[0m                                Traceback (most recent call last)",
      "Cell \u001b[0;32mIn[55], line 1\u001b[0m\n\u001b[0;32m----> 1\u001b[0m \u001b[38;5;28;43mint\u001b[39;49m\u001b[43m(\u001b[49m\u001b[43ma\u001b[49m\u001b[43m)\u001b[49m\n",
      "\u001b[0;31mValueError\u001b[0m: invalid literal for int() with base 10: 'python'"
     ]
    }
   ],
   "source": [
    "int(a)"
   ]
  },
  {
   "cell_type": "code",
   "execution_count": 56,
   "id": "231260c3",
   "metadata": {},
   "outputs": [
    {
     "name": "stdout",
     "output_type": "stream",
     "text": [
      "20 <class 'str'>\n"
     ]
    }
   ],
   "source": [
    "a = '20'\n",
    "print(a,type(a))"
   ]
  },
  {
   "cell_type": "code",
   "execution_count": 57,
   "id": "c085aca5",
   "metadata": {},
   "outputs": [
    {
     "data": {
      "text/plain": [
       "20"
      ]
     },
     "execution_count": 57,
     "metadata": {},
     "output_type": "execute_result"
    }
   ],
   "source": [
    "int(a)"
   ]
  },
  {
   "cell_type": "code",
   "execution_count": 58,
   "id": "cb4dfbb9",
   "metadata": {},
   "outputs": [
    {
     "data": {
      "text/plain": [
       "20.0"
      ]
     },
     "execution_count": 58,
     "metadata": {},
     "output_type": "execute_result"
    }
   ],
   "source": [
    "float(a)"
   ]
  },
  {
   "cell_type": "markdown",
   "id": "68a03c6a",
   "metadata": {},
   "source": [
    "## Operators\n",
    "\n",
    "1. **Arithmetic Operators**\n",
    "    1. Addition ( + )\n",
    "    2. Subtraction ( - )\n",
    "    3. Multiplication ( * )\n",
    "    4. Division ( / )\n",
    "    5. Floor Division ( // )\n",
    "    6. Modulus ( % )\n",
    "    7. Exponentation( ** )\n",
    "2. **Assignment Operators**\n",
    "    1. Assignment Operators ( = )\n",
    "3. **Relationship Operators(or) Comparision Operators**\n",
    "4. **Logical Operators**\n",
    "5. **Membership Operators**\n",
    "6. **Identity Operators**\n",
    "7. **Bitwise Operators**"
   ]
  },
  {
   "cell_type": "markdown",
   "id": "a559d191",
   "metadata": {},
   "source": [
    "#### Arithmetic Operators"
   ]
  },
  {
   "cell_type": "code",
   "execution_count": 59,
   "id": "1e854c14",
   "metadata": {},
   "outputs": [
    {
     "data": {
      "text/plain": [
       "13"
      ]
     },
     "execution_count": 59,
     "metadata": {},
     "output_type": "execute_result"
    }
   ],
   "source": [
    "# addition \n",
    "a = 10 \n",
    "b = 3\n",
    "a + b\n"
   ]
  },
  {
   "cell_type": "code",
   "execution_count": 60,
   "id": "3c08c2a1",
   "metadata": {},
   "outputs": [
    {
     "data": {
      "text/plain": [
       "7"
      ]
     },
     "execution_count": 60,
     "metadata": {},
     "output_type": "execute_result"
    }
   ],
   "source": [
    "#subtraction\n",
    "a - b"
   ]
  },
  {
   "cell_type": "code",
   "execution_count": 61,
   "id": "ac63150c",
   "metadata": {},
   "outputs": [
    {
     "data": {
      "text/plain": [
       "30"
      ]
     },
     "execution_count": 61,
     "metadata": {},
     "output_type": "execute_result"
    }
   ],
   "source": [
    "# multiplication \n",
    "a * b"
   ]
  },
  {
   "cell_type": "code",
   "execution_count": 62,
   "id": "483b2950",
   "metadata": {},
   "outputs": [
    {
     "data": {
      "text/plain": [
       "3.3333333333333335"
      ]
     },
     "execution_count": 62,
     "metadata": {},
     "output_type": "execute_result"
    }
   ],
   "source": [
    "# Division \n",
    "a / b "
   ]
  },
  {
   "cell_type": "code",
   "execution_count": 63,
   "id": "d353eb2c",
   "metadata": {},
   "outputs": [
    {
     "data": {
      "text/plain": [
       "3"
      ]
     },
     "execution_count": 63,
     "metadata": {},
     "output_type": "execute_result"
    }
   ],
   "source": [
    "#floor Division (integer Division)\n",
    "a // b"
   ]
  },
  {
   "cell_type": "code",
   "execution_count": 64,
   "id": "c9f440e2",
   "metadata": {},
   "outputs": [
    {
     "data": {
      "text/plain": [
       "1"
      ]
     },
     "execution_count": 64,
     "metadata": {},
     "output_type": "execute_result"
    }
   ],
   "source": [
    "# Modulus ( Returns remainder of a division)\n",
    "a % b "
   ]
  },
  {
   "cell_type": "code",
   "execution_count": 65,
   "id": "f8af0814",
   "metadata": {},
   "outputs": [
    {
     "data": {
      "text/plain": [
       "1000"
      ]
     },
     "execution_count": 65,
     "metadata": {},
     "output_type": "execute_result"
    }
   ],
   "source": [
    "#exponentation (power of)\n",
    "a ** b"
   ]
  },
  {
   "cell_type": "markdown",
   "id": "f67ab0e9",
   "metadata": {},
   "source": [
    "### Assignment Operators"
   ]
  },
  {
   "cell_type": "raw",
   "id": "e60f7d5f",
   "metadata": {},
   "source": [
    "Assignment operator is used assign values to the variables\n",
    "\n",
    "a = 34 \n",
    "b = 78 "
   ]
  },
  {
   "cell_type": "code",
   "execution_count": 66,
   "id": "ff13cb38",
   "metadata": {},
   "outputs": [],
   "source": [
    "a = 10 "
   ]
  },
  {
   "cell_type": "code",
   "execution_count": 67,
   "id": "5770c028",
   "metadata": {},
   "outputs": [],
   "source": [
    "a += 3 # a = a+3"
   ]
  },
  {
   "cell_type": "code",
   "execution_count": 68,
   "id": "f83106a7",
   "metadata": {},
   "outputs": [
    {
     "data": {
      "text/plain": [
       "13"
      ]
     },
     "execution_count": 68,
     "metadata": {},
     "output_type": "execute_result"
    }
   ],
   "source": [
    "a"
   ]
  },
  {
   "cell_type": "code",
   "execution_count": 69,
   "id": "1509205c",
   "metadata": {},
   "outputs": [],
   "source": [
    "a -= 3"
   ]
  },
  {
   "cell_type": "code",
   "execution_count": 70,
   "id": "dd66ed6f",
   "metadata": {},
   "outputs": [
    {
     "data": {
      "text/plain": [
       "10"
      ]
     },
     "execution_count": 70,
     "metadata": {},
     "output_type": "execute_result"
    }
   ],
   "source": [
    "a"
   ]
  },
  {
   "cell_type": "code",
   "execution_count": 71,
   "id": "01c9a539",
   "metadata": {},
   "outputs": [],
   "source": [
    "a *= 3 "
   ]
  },
  {
   "cell_type": "code",
   "execution_count": 72,
   "id": "bbf18e69",
   "metadata": {},
   "outputs": [
    {
     "data": {
      "text/plain": [
       "30"
      ]
     },
     "execution_count": 72,
     "metadata": {},
     "output_type": "execute_result"
    }
   ],
   "source": [
    "a"
   ]
  },
  {
   "cell_type": "code",
   "execution_count": null,
   "id": "61addd24",
   "metadata": {},
   "outputs": [],
   "source": []
  }
 ],
 "metadata": {
  "kernelspec": {
   "display_name": "Python 3 (ipykernel)",
   "language": "python",
   "name": "python3"
  },
  "language_info": {
   "codemirror_mode": {
    "name": "ipython",
    "version": 3
   },
   "file_extension": ".py",
   "mimetype": "text/x-python",
   "name": "python",
   "nbconvert_exporter": "python",
   "pygments_lexer": "ipython3",
   "version": "3.10.9"
  }
 },
 "nbformat": 4,
 "nbformat_minor": 5
}
