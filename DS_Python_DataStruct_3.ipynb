{
 "cells": [
  {
   "cell_type": "code",
   "execution_count": 1,
   "id": "17f286b2",
   "metadata": {},
   "outputs": [],
   "source": [
    "a = [1,2,3,4,5,6,7,8,9,10]"
   ]
  },
  {
   "cell_type": "code",
   "execution_count": 2,
   "id": "45d82311",
   "metadata": {},
   "outputs": [],
   "source": [
    "#write list comprehension for creating list of even numbers from a list a"
   ]
  },
  {
   "cell_type": "code",
   "execution_count": 3,
   "id": "61c174d9",
   "metadata": {},
   "outputs": [
    {
     "data": {
      "text/plain": [
       "[2, 4, 6, 8, 10]"
      ]
     },
     "execution_count": 3,
     "metadata": {},
     "output_type": "execute_result"
    }
   ],
   "source": [
    "[i for i in a if i % 2 == 0]"
   ]
  },
  {
   "cell_type": "code",
   "execution_count": 4,
   "id": "37d76f68",
   "metadata": {},
   "outputs": [
    {
     "data": {
      "text/plain": [
       "[2, 4, 6, 8, 10, 12, 14, 16, 18]"
      ]
     },
     "execution_count": 4,
     "metadata": {},
     "output_type": "execute_result"
    }
   ],
   "source": [
    "[i for i in range(1,20) if i%2 == 0]"
   ]
  },
  {
   "cell_type": "code",
   "execution_count": 5,
   "id": "cfb6f1cf",
   "metadata": {},
   "outputs": [],
   "source": [
    "# write list comprehension for creating a list squares of numbers from 1 - 10\n",
    "\n",
    "# [ 1,4,9,16,25]"
   ]
  },
  {
   "cell_type": "code",
   "execution_count": 6,
   "id": "e2a8de28",
   "metadata": {},
   "outputs": [
    {
     "data": {
      "text/plain": [
       "[1, 4, 9, 16, 25, 36, 49, 64, 81, 100]"
      ]
     },
     "execution_count": 6,
     "metadata": {},
     "output_type": "execute_result"
    }
   ],
   "source": [
    "[i**2 for i in range(1,11)]"
   ]
  },
  {
   "cell_type": "raw",
   "id": "dddc158f",
   "metadata": {},
   "source": [
    "write list comprehension to return a list of tuple of numbers and its cube from 1 - 10\n",
    "\n",
    "\n",
    "[(1,1),(2,8),(3,27),......]"
   ]
  },
  {
   "cell_type": "code",
   "execution_count": 7,
   "id": "a4b880af",
   "metadata": {},
   "outputs": [
    {
     "data": {
      "text/plain": [
       "[(1, 1),\n",
       " (2, 8),\n",
       " (3, 27),\n",
       " (4, 64),\n",
       " (5, 125),\n",
       " (6, 216),\n",
       " (7, 343),\n",
       " (8, 512),\n",
       " (9, 729)]"
      ]
     },
     "execution_count": 7,
     "metadata": {},
     "output_type": "execute_result"
    }
   ],
   "source": [
    "[(i,i**3) for i in range(1,10)]"
   ]
  },
  {
   "cell_type": "raw",
   "id": "4bd47104",
   "metadata": {},
   "source": [
    "Convert list of strings into upper case using list comprehension\n",
    "\n",
    "si: ['apple','india','bhutan',kenya']\n",
    "\n",
    "SO: ['APPLE','INDIA'...]"
   ]
  },
  {
   "cell_type": "code",
   "execution_count": 9,
   "id": "7ac839df",
   "metadata": {},
   "outputs": [
    {
     "data": {
      "text/plain": [
       "['APPLE', 'INDIA', 'BHUTAN', 'KENYA']"
      ]
     },
     "execution_count": 9,
     "metadata": {},
     "output_type": "execute_result"
    }
   ],
   "source": [
    "L = ['apple','india','bhutan','kenya']\n",
    "[i.upper() for i in L]"
   ]
  },
  {
   "cell_type": "raw",
   "id": "1ab47156",
   "metadata": {},
   "source": [
    "Get the length of each word in a given list\n",
    "\n",
    "L = ['apple','india','bhutan','kenya']\n",
    "\n",
    "op: [5,5,6,5]"
   ]
  },
  {
   "cell_type": "code",
   "execution_count": 10,
   "id": "2f98ee89",
   "metadata": {},
   "outputs": [
    {
     "data": {
      "text/plain": [
       "[5, 5, 6, 5]"
      ]
     },
     "execution_count": 10,
     "metadata": {},
     "output_type": "execute_result"
    }
   ],
   "source": [
    "[len(i) for i in L]"
   ]
  },
  {
   "cell_type": "raw",
   "id": "c7bcdba5",
   "metadata": {},
   "source": [
    "Reverse the each word in a list\n",
    "\n",
    "ip: L = ['apple','india','bhutan','kenya']\n",
    "\n",
    "op: ['elppa','aidin'....]"
   ]
  },
  {
   "cell_type": "code",
   "execution_count": 12,
   "id": "e34959ff",
   "metadata": {},
   "outputs": [
    {
     "data": {
      "text/plain": [
       "['elppa', 'aidni', 'natuhb', 'aynek']"
      ]
     },
     "execution_count": 12,
     "metadata": {},
     "output_type": "execute_result"
    }
   ],
   "source": [
    "[i[::-1] for i in L]"
   ]
  },
  {
   "cell_type": "raw",
   "id": "29ec539a",
   "metadata": {},
   "source": [
    "Replace negative numbers with 0 in a given list\n",
    "\n",
    "SI: [-2,5,-5,9,-8,-2,-9,4,7,13]\n",
    "\n",
    "SO: [0,5,0,9,0,0,0,4,7,13]"
   ]
  },
  {
   "cell_type": "code",
   "execution_count": 13,
   "id": "99422c27",
   "metadata": {},
   "outputs": [
    {
     "data": {
      "text/plain": [
       "[0, 5, 0, 9, 0, 0, 0, 4, 7, 13]"
      ]
     },
     "execution_count": 13,
     "metadata": {},
     "output_type": "execute_result"
    }
   ],
   "source": [
    "L = [-2,5,-5,9,-8,-2,-9,4,7,13]\n",
    "\n",
    "[i if i >= 0 else 0 for i in L]"
   ]
  },
  {
   "cell_type": "raw",
   "id": "aafb47fe",
   "metadata": {},
   "source": [
    "Label numbers as even or odd\n",
    "\n",
    "SI: L = [1,2,3,4,5,6,7,8]\n",
    "SO: ['odd','Even','odd','Even'....]\n"
   ]
  },
  {
   "cell_type": "code",
   "execution_count": 14,
   "id": "188d3847",
   "metadata": {},
   "outputs": [
    {
     "data": {
      "text/plain": [
       "['odd', 'even', 'odd', 'even', 'odd', 'even', 'odd', 'even', 'odd']"
      ]
     },
     "execution_count": 14,
     "metadata": {},
     "output_type": "execute_result"
    }
   ],
   "source": [
    "['even' if i % 2 == 0 else 'odd' for i in range(1,10)]"
   ]
  },
  {
   "cell_type": "raw",
   "id": "697ee34d",
   "metadata": {},
   "source": [
    "Square even numbers, cube odd numbers in a range 1 - 10\n",
    "\n",
    "[(1,1),(2,4),(3,27),(4,16)....]"
   ]
  },
  {
   "cell_type": "code",
   "execution_count": 15,
   "id": "16a709c9",
   "metadata": {},
   "outputs": [
    {
     "data": {
      "text/plain": [
       "[(1, 1),\n",
       " (2, 4),\n",
       " (3, 27),\n",
       " (4, 16),\n",
       " (5, 125),\n",
       " (6, 36),\n",
       " (7, 343),\n",
       " (8, 64),\n",
       " (9, 729)]"
      ]
     },
     "execution_count": 15,
     "metadata": {},
     "output_type": "execute_result"
    }
   ],
   "source": [
    "[(i,i**2) if i % 2 == 0 else (i,i**3) for i in range(1,10)]"
   ]
  },
  {
   "cell_type": "raw",
   "id": "e14a2f8f",
   "metadata": {},
   "source": [
    "Return a list of firsr characters in a list of strings\n",
    "\n",
    "\n",
    "L = ['apple','india','bhutan','kenya']\n",
    "\n",
    "OP: ['a','i','b','k']"
   ]
  },
  {
   "cell_type": "code",
   "execution_count": 18,
   "id": "46d1b992",
   "metadata": {},
   "outputs": [
    {
     "data": {
      "text/plain": [
       "['a', 'i', 'b', 'k']"
      ]
     },
     "execution_count": 18,
     "metadata": {},
     "output_type": "execute_result"
    }
   ],
   "source": [
    "L = ['apple','india','bhutan','kenya']\n",
    "[i[0] for i in L]"
   ]
  },
  {
   "cell_type": "markdown",
   "id": "4faf8e4d",
   "metadata": {},
   "source": [
    "### dictionary Comprehension\n",
    "\n"
   ]
  },
  {
   "cell_type": "raw",
   "id": "72176b9f",
   "metadata": {},
   "source": [
    "1. Squares of numbers from 1 - 5\n",
    "\n"
   ]
  },
  {
   "cell_type": "code",
   "execution_count": 19,
   "id": "4dfd7e06",
   "metadata": {},
   "outputs": [
    {
     "data": {
      "text/plain": [
       "{1: 1, 2: 4, 3: 9, 4: 16, 5: 25}"
      ]
     },
     "execution_count": 19,
     "metadata": {},
     "output_type": "execute_result"
    }
   ],
   "source": [
    "{i:i**2 for i in range(1,6)}"
   ]
  },
  {
   "cell_type": "raw",
   "id": "66d237c8",
   "metadata": {},
   "source": [
    "2. map lengths words\n",
    "\n",
    "L = ['apple','india','bhutan','kenya']\n",
    "\n",
    "D = {'apple':6,'India':6,....}"
   ]
  },
  {
   "cell_type": "code",
   "execution_count": 20,
   "id": "0667cf76",
   "metadata": {},
   "outputs": [
    {
     "data": {
      "text/plain": [
       "{'apple': 5, 'india': 5, 'bhutan': 6, 'kenya': 5}"
      ]
     },
     "execution_count": 20,
     "metadata": {},
     "output_type": "execute_result"
    }
   ],
   "source": [
    "{i:len(i) for i in L}"
   ]
  },
  {
   "cell_type": "raw",
   "id": "816eb708",
   "metadata": {},
   "source": [
    "3. Frequency count of letters in a word"
   ]
  },
  {
   "cell_type": "code",
   "execution_count": 24,
   "id": "1845a43f",
   "metadata": {},
   "outputs": [],
   "source": [
    "a = 'programming is good and python is popular'\n",
    "\n",
    "#{'p':3,'r':3....}"
   ]
  },
  {
   "cell_type": "code",
   "execution_count": 26,
   "id": "6e64ff15",
   "metadata": {},
   "outputs": [
    {
     "data": {
      "text/plain": [
       "{'p': 4,\n",
       " 'r': 3,\n",
       " 'o': 5,\n",
       " 'g': 3,\n",
       " 'a': 3,\n",
       " 'm': 2,\n",
       " 'i': 3,\n",
       " 'n': 3,\n",
       " ' ': 6,\n",
       " 's': 2,\n",
       " 'd': 2,\n",
       " 'y': 1,\n",
       " 't': 1,\n",
       " 'h': 1,\n",
       " 'u': 1,\n",
       " 'l': 1}"
      ]
     },
     "execution_count": 26,
     "metadata": {},
     "output_type": "execute_result"
    }
   ],
   "source": [
    "{i:a.count(i) for i in a}"
   ]
  },
  {
   "cell_type": "code",
   "execution_count": 27,
   "id": "0d41b8b5",
   "metadata": {},
   "outputs": [
    {
     "data": {
      "text/plain": [
       "{'p': 4,\n",
       " 'r': 3,\n",
       " 'o': 5,\n",
       " 'g': 3,\n",
       " 'a': 3,\n",
       " 'm': 2,\n",
       " 'i': 3,\n",
       " 'n': 3,\n",
       " 's': 2,\n",
       " 'd': 2,\n",
       " 'y': 1,\n",
       " 't': 1,\n",
       " 'h': 1,\n",
       " 'u': 1,\n",
       " 'l': 1}"
      ]
     },
     "execution_count": 27,
     "metadata": {},
     "output_type": "execute_result"
    }
   ],
   "source": [
    "{i:a.count(i) for i in a if i!= ' '}"
   ]
  },
  {
   "cell_type": "markdown",
   "id": "2a3dced4",
   "metadata": {},
   "source": [
    "### patterns"
   ]
  },
  {
   "cell_type": "raw",
   "id": "02d58ef5",
   "metadata": {},
   "source": [
    "*\n",
    "* *\n",
    "* * *\n",
    "* * * * \n",
    "\n",
    "A \n",
    "A B\n",
    "A B C\n",
    "A B C D\n",
    "\n",
    "5 4 3 2 1\n",
    "5 4 3 2\n",
    "5 4 3\n",
    "5 4 \n",
    "5"
   ]
  }
 ],
 "metadata": {
  "kernelspec": {
   "display_name": "Python 3 (ipykernel)",
   "language": "python",
   "name": "python3"
  },
  "language_info": {
   "codemirror_mode": {
    "name": "ipython",
    "version": 3
   },
   "file_extension": ".py",
   "mimetype": "text/x-python",
   "name": "python",
   "nbconvert_exporter": "python",
   "pygments_lexer": "ipython3",
   "version": "3.10.9"
  }
 },
 "nbformat": 4,
 "nbformat_minor": 5
}
