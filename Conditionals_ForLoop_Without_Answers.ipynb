{
 "cells": [
  {
   "cell_type": "markdown",
   "id": "29aa78c4",
   "metadata": {},
   "source": [
    "### 1. Check if a number is positive\n",
    "n=3"
   ]
  },
  {
   "cell_type": "code",
   "execution_count": null,
   "id": "bdb66cbc-a79a-40f2-8cf6-462f1ba414fd",
   "metadata": {},
   "outputs": [],
   "source": []
  },
  {
   "cell_type": "markdown",
   "id": "51ea7917",
   "metadata": {},
   "source": [
    "### 2. Check if a number is multiple of both 3 and 5"
   ]
  },
  {
   "cell_type": "code",
   "execution_count": null,
   "id": "c8febc87-8824-40fc-8d14-7c739e8f0ad3",
   "metadata": {},
   "outputs": [],
   "source": []
  },
  {
   "cell_type": "markdown",
   "id": "f21cbd75",
   "metadata": {},
   "source": [
    "### 3. Eligibility to vote"
   ]
  },
  {
   "cell_type": "code",
   "execution_count": null,
   "id": "bf6b460e-20c3-47c5-bbab-cbbd9f4aeed2",
   "metadata": {},
   "outputs": [],
   "source": []
  },
  {
   "cell_type": "markdown",
   "id": "f4d3993b",
   "metadata": {},
   "source": [
    "### 4. Write a program that compares two numbers and prints the largest one."
   ]
  },
  {
   "cell_type": "code",
   "execution_count": null,
   "id": "50c4abc0-becd-4139-971c-bd25fa689e0e",
   "metadata": {},
   "outputs": [],
   "source": []
  },
  {
   "cell_type": "markdown",
   "id": "95362d52",
   "metadata": {},
   "source": [
    "### 5. Check if a number is positive or negative"
   ]
  },
  {
   "cell_type": "code",
   "execution_count": null,
   "id": "87aa1059-a28e-44ee-b359-d8bd0e7f9077",
   "metadata": {},
   "outputs": [],
   "source": []
  },
  {
   "cell_type": "markdown",
   "id": "4216fd99",
   "metadata": {},
   "source": [
    "### 6. Write a Python program that takes two numbers as input and determines the sign of their difference."
   ]
  },
  {
   "cell_type": "code",
   "execution_count": null,
   "id": "056a03b0-84e6-4fca-b0b6-b35874032dea",
   "metadata": {},
   "outputs": [],
   "source": []
  },
  {
   "cell_type": "markdown",
   "id": "e772c949",
   "metadata": {},
   "source": [
    "### 7. Check if number is multiple of 7"
   ]
  },
  {
   "cell_type": "code",
   "execution_count": null,
   "id": "37d9766d-751f-44ad-bfdd-a3955418d211",
   "metadata": {},
   "outputs": [],
   "source": []
  },
  {
   "cell_type": "markdown",
   "id": "e1e1ae43",
   "metadata": {},
   "source": [
    "### 8. Write a Python program to determine if a given number is even or odd. If it’s even and greater than 10, print: \"It is even number and it is greater than 10\""
   ]
  },
  {
   "cell_type": "code",
   "execution_count": null,
   "id": "51d75ab0-0073-41fc-b7d6-6d5de6511d87",
   "metadata": {},
   "outputs": [],
   "source": []
  },
  {
   "cell_type": "markdown",
   "id": "aa999d58",
   "metadata": {},
   "source": [
    "### 9. Leap year check"
   ]
  },
  {
   "cell_type": "code",
   "execution_count": null,
   "id": "670c2180-9eb9-4aed-90a4-c847bc1b238b",
   "metadata": {},
   "outputs": [],
   "source": []
  },
  {
   "cell_type": "markdown",
   "id": "2cf8cb38",
   "metadata": {},
   "source": [
    "### 10. Write a program that checks if a number is divisible by either 3 or 5 but not both"
   ]
  },
  {
   "cell_type": "code",
   "execution_count": null,
   "id": "b73ba04c-6a50-41c4-badf-c76e0b15c4a5",
   "metadata": {},
   "outputs": [],
   "source": []
  },
  {
   "cell_type": "markdown",
   "id": "3311f576",
   "metadata": {},
   "source": [
    "### 11. Write a program that checks if a character is a vowel or consonant."
   ]
  },
  {
   "cell_type": "code",
   "execution_count": null,
   "id": "d9bd46a4-7235-474b-9ae3-171a523529c1",
   "metadata": {},
   "outputs": [],
   "source": []
  },
  {
   "cell_type": "markdown",
   "id": "8209cb52",
   "metadata": {},
   "source": [
    "### 12. Write a program to determine the largest of three numbers."
   ]
  },
  {
   "cell_type": "code",
   "execution_count": null,
   "id": "d5fc8d59-4177-4a59-95a1-c7af1b9edae1",
   "metadata": {},
   "outputs": [],
   "source": []
  },
  {
   "cell_type": "markdown",
   "id": "3442b7df",
   "metadata": {},
   "source": [
    "### 13. Write a program that checks whether a number is within a given range (10 to 50)."
   ]
  },
  {
   "cell_type": "code",
   "execution_count": null,
   "id": "bfd04f02-3d28-4203-9f5f-6d97e8a8c899",
   "metadata": {},
   "outputs": [],
   "source": []
  },
  {
   "cell_type": "markdown",
   "id": "c7674a32",
   "metadata": {},
   "source": [
    "### 14. Write a program to check whether a character is uppercase, lowercase, digit, or special symbol."
   ]
  },
  {
   "cell_type": "code",
   "execution_count": null,
   "id": "d6172ad3-961d-435d-86d6-9a7361aed2d3",
   "metadata": {},
   "outputs": [],
   "source": []
  },
  {
   "cell_type": "markdown",
   "id": "f335dc6d",
   "metadata": {},
   "source": [
    "### 15. Check whether a number is even, odd, or zero"
   ]
  },
  {
   "cell_type": "code",
   "execution_count": null,
   "id": "196d1d85-32ed-416f-a175-661b5e75c3b0",
   "metadata": {},
   "outputs": [],
   "source": []
  },
  {
   "cell_type": "markdown",
   "id": "ebfa59c9",
   "metadata": {},
   "source": [
    "### 16. Determine the grade of a student based on marks"
   ]
  },
  {
   "cell_type": "code",
   "execution_count": null,
   "id": "e9f86e87-d370-4fce-97ff-778d01262f7b",
   "metadata": {},
   "outputs": [],
   "source": []
  },
  {
   "cell_type": "markdown",
   "id": "b9e089a9",
   "metadata": {},
   "source": [
    "### 17. check weather the string is Palindrome or not"
   ]
  },
  {
   "cell_type": "code",
   "execution_count": null,
   "id": "1f491ccf-be7f-49f6-abe1-76f1d92abf0c",
   "metadata": {},
   "outputs": [],
   "source": []
  },
  {
   "cell_type": "markdown",
   "id": "ee27456a",
   "metadata": {},
   "source": [
    "### 18. reverse the string without using slicing"
   ]
  },
  {
   "cell_type": "code",
   "execution_count": null,
   "id": "f144c3c5-a1ea-4f2e-97a0-56eb85280288",
   "metadata": {},
   "outputs": [],
   "source": []
  },
  {
   "cell_type": "markdown",
   "id": "ea5e6d32",
   "metadata": {},
   "source": [
    "### 19. Display a greeting message based on time of the day (Morning, Afternoon, Evening, Night)"
   ]
  },
  {
   "cell_type": "code",
   "execution_count": null,
   "id": "cb75a1ef-a9c3-49de-b3f1-45fb17e2457b",
   "metadata": {},
   "outputs": [],
   "source": []
  },
  {
   "cell_type": "markdown",
   "id": "94a99677",
   "metadata": {},
   "source": [
    "### 20. Determine how many days are in a month (input: month number and year — handle February and leap years)"
   ]
  },
  {
   "cell_type": "code",
   "execution_count": null,
   "id": "12117280-ec53-44ac-9826-4de73dc15b5b",
   "metadata": {},
   "outputs": [],
   "source": []
  },
  {
   "cell_type": "markdown",
   "id": "3f12dff5",
   "metadata": {},
   "source": [
    "### 21. Print 1 to 5 using for loop"
   ]
  },
  {
   "cell_type": "code",
   "execution_count": null,
   "id": "fcbdb8b2-3721-4e2b-aeae-9b40e979b193",
   "metadata": {},
   "outputs": [],
   "source": []
  },
  {
   "cell_type": "markdown",
   "id": "0a0a5780",
   "metadata": {},
   "source": [
    "### 22. Sum of 1 to 10"
   ]
  },
  {
   "cell_type": "code",
   "execution_count": null,
   "id": "9c0d58c7-91dc-466b-8316-53f0b48f7081",
   "metadata": {},
   "outputs": [],
   "source": []
  },
  {
   "cell_type": "markdown",
   "id": "d2a608d0",
   "metadata": {},
   "source": [
    "### 23. Print elements of list\n",
    "l=[10,20,'rama','sita']"
   ]
  },
  {
   "cell_type": "code",
   "execution_count": null,
   "id": "acf2e03f-eef9-4efa-ad0d-f3a4921da463",
   "metadata": {},
   "outputs": [],
   "source": []
  },
  {
   "cell_type": "markdown",
   "id": "c09c72b3",
   "metadata": {},
   "source": [
    "### 24. Print characters of a string\n",
    "l='datateach'"
   ]
  },
  {
   "cell_type": "code",
   "execution_count": null,
   "id": "a3b9d674-5493-4c45-ab8d-deced13b1a41",
   "metadata": {},
   "outputs": [],
   "source": []
  },
  {
   "cell_type": "markdown",
   "id": "56f8a8fd",
   "metadata": {},
   "source": [
    "### 25. Reverse a list\n",
    "l=[10,20,30]"
   ]
  },
  {
   "cell_type": "code",
   "execution_count": null,
   "id": "329b337c-70e6-465c-8c6a-72277fb01e8f",
   "metadata": {},
   "outputs": [],
   "source": []
  },
  {
   "cell_type": "markdown",
   "id": "aef4ce0e",
   "metadata": {},
   "source": [
    "### 26. Multiplication table of 4"
   ]
  },
  {
   "cell_type": "code",
   "execution_count": null,
   "id": "1220564e-d5d0-49e3-9091-1cd349813730",
   "metadata": {},
   "outputs": [],
   "source": []
  },
  {
   "cell_type": "markdown",
   "id": "42cb3c6a",
   "metadata": {},
   "source": [
    "### 27. Even numbers 1 to 10"
   ]
  },
  {
   "cell_type": "code",
   "execution_count": null,
   "id": "d09ebae6-1fd1-4152-bc12-54182e1d0968",
   "metadata": {},
   "outputs": [],
   "source": []
  },
  {
   "cell_type": "markdown",
   "id": "7ecdf8a4",
   "metadata": {},
   "source": [
    "### 28. Sum of even numbers 1 to 10"
   ]
  },
  {
   "cell_type": "code",
   "execution_count": null,
   "id": "70510bc2-1094-46aa-9fb2-1c52bfd9b483",
   "metadata": {},
   "outputs": [],
   "source": []
  },
  {
   "cell_type": "markdown",
   "id": "4836189a",
   "metadata": {},
   "source": [
    "### 29. Squares from 1 to 10"
   ]
  },
  {
   "cell_type": "code",
   "execution_count": null,
   "id": "f84d24d3-72ce-4a6c-914a-24da943b60f1",
   "metadata": {},
   "outputs": [],
   "source": [
    "\n"
   ]
  },
  {
   "cell_type": "markdown",
   "id": "4b7e86ef",
   "metadata": {},
   "source": [
    "### 30. Count consonants in string\n",
    "n='python programming'\n",
    "output= 13"
   ]
  },
  {
   "cell_type": "code",
   "execution_count": null,
   "id": "ba4f4f99-5203-49e3-bf1e-f6780b5f313a",
   "metadata": {},
   "outputs": [],
   "source": []
  }
 ],
 "metadata": {
  "kernelspec": {
   "display_name": "Python 3 (ipykernel)",
   "language": "python",
   "name": "python3"
  },
  "language_info": {
   "codemirror_mode": {
    "name": "ipython",
    "version": 3
   },
   "file_extension": ".py",
   "mimetype": "text/x-python",
   "name": "python",
   "nbconvert_exporter": "python",
   "pygments_lexer": "ipython3",
   "version": "3.12.5"
  }
 },
 "nbformat": 4,
 "nbformat_minor": 5
}
