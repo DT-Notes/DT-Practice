{
 "cells": [
  {
   "cell_type": "markdown",
   "id": "1021488c",
   "metadata": {},
   "source": [
    "# Dictionary"
   ]
  },
  {
   "cell_type": "raw",
   "id": "4437fbe1",
   "metadata": {},
   "source": [
    "Dictionary:\n",
    "\n",
    "Dictionary is a collection of Data Items, each item is a key value Pair\n",
    "\n",
    "key : value\n",
    "\n",
    "Dictionary Items are written with { }\n",
    "\n",
    "Dictionary Item can be accessed by their key names"
   ]
  },
  {
   "cell_type": "code",
   "execution_count": 1,
   "id": "8a8cd3e6",
   "metadata": {},
   "outputs": [],
   "source": [
    "car = {'Brand':'Benz',\n",
    "      'Model':'Q5',\n",
    "      'YOM':2025,\n",
    "      'Color':'Black',\n",
    "      'Speed':300}"
   ]
  },
  {
   "cell_type": "code",
   "execution_count": 2,
   "id": "989f00f8",
   "metadata": {},
   "outputs": [
    {
     "data": {
      "text/plain": [
       "{'Brand': 'Benz', 'Model': 'Q5', 'YOM': 2025, 'Color': 'Black', 'Speed': 300}"
      ]
     },
     "execution_count": 2,
     "metadata": {},
     "output_type": "execute_result"
    }
   ],
   "source": [
    "car"
   ]
  },
  {
   "cell_type": "code",
   "execution_count": 3,
   "id": "55572624",
   "metadata": {},
   "outputs": [
    {
     "data": {
      "text/plain": [
       "'Benz'"
      ]
     },
     "execution_count": 3,
     "metadata": {},
     "output_type": "execute_result"
    }
   ],
   "source": [
    "car['Brand']"
   ]
  },
  {
   "cell_type": "code",
   "execution_count": 4,
   "id": "3ee15ea9",
   "metadata": {},
   "outputs": [
    {
     "data": {
      "text/plain": [
       "2025"
      ]
     },
     "execution_count": 4,
     "metadata": {},
     "output_type": "execute_result"
    }
   ],
   "source": [
    "car['YOM']"
   ]
  },
  {
   "cell_type": "code",
   "execution_count": 5,
   "id": "2b21d8ca",
   "metadata": {},
   "outputs": [
    {
     "data": {
      "text/plain": [
       "{'Brand': 'Benz', 'Model': 'Q5', 'YOM': 2025, 'Color': 'Black', 'Speed': 300}"
      ]
     },
     "execution_count": 5,
     "metadata": {},
     "output_type": "execute_result"
    }
   ],
   "source": [
    "car"
   ]
  },
  {
   "cell_type": "code",
   "execution_count": 6,
   "id": "c726841b",
   "metadata": {},
   "outputs": [],
   "source": [
    "car['Fuel Type'] = 'Petrol'"
   ]
  },
  {
   "cell_type": "code",
   "execution_count": 7,
   "id": "ba0a00de",
   "metadata": {},
   "outputs": [
    {
     "data": {
      "text/plain": [
       "{'Brand': 'Benz',\n",
       " 'Model': 'Q5',\n",
       " 'YOM': 2025,\n",
       " 'Color': 'Black',\n",
       " 'Speed': 300,\n",
       " 'Fuel Type': 'Petrol'}"
      ]
     },
     "execution_count": 7,
     "metadata": {},
     "output_type": "execute_result"
    }
   ],
   "source": [
    "car"
   ]
  },
  {
   "cell_type": "code",
   "execution_count": 8,
   "id": "0f746ce9",
   "metadata": {},
   "outputs": [],
   "source": [
    "#key duplication is not allowed"
   ]
  },
  {
   "cell_type": "code",
   "execution_count": 9,
   "id": "e4546d41",
   "metadata": {},
   "outputs": [],
   "source": [
    "car['Speed'] = 500"
   ]
  },
  {
   "cell_type": "code",
   "execution_count": 10,
   "id": "90df4d02",
   "metadata": {},
   "outputs": [
    {
     "data": {
      "text/plain": [
       "{'Brand': 'Benz',\n",
       " 'Model': 'Q5',\n",
       " 'YOM': 2025,\n",
       " 'Color': 'Black',\n",
       " 'Speed': 500,\n",
       " 'Fuel Type': 'Petrol'}"
      ]
     },
     "execution_count": 10,
     "metadata": {},
     "output_type": "execute_result"
    }
   ],
   "source": [
    "car"
   ]
  },
  {
   "cell_type": "markdown",
   "id": "7face2d7",
   "metadata": {},
   "source": [
    "### Dictionary Methods"
   ]
  },
  {
   "cell_type": "code",
   "execution_count": 11,
   "id": "9873a672",
   "metadata": {},
   "outputs": [
    {
     "data": {
      "text/plain": [
       "{'Brand': 'Benz',\n",
       " 'Model': 'Q5',\n",
       " 'YOM': 2025,\n",
       " 'Color': 'Black',\n",
       " 'Speed': 500,\n",
       " 'Fuel Type': 'Petrol'}"
      ]
     },
     "execution_count": 11,
     "metadata": {},
     "output_type": "execute_result"
    }
   ],
   "source": [
    "car"
   ]
  },
  {
   "cell_type": "code",
   "execution_count": 12,
   "id": "28b9fcb2",
   "metadata": {},
   "outputs": [
    {
     "data": {
      "text/plain": [
       "dict_keys(['Brand', 'Model', 'YOM', 'Color', 'Speed', 'Fuel Type'])"
      ]
     },
     "execution_count": 12,
     "metadata": {},
     "output_type": "execute_result"
    }
   ],
   "source": [
    "#keys\n",
    "\n",
    "car.keys()"
   ]
  },
  {
   "cell_type": "code",
   "execution_count": 13,
   "id": "c79d9a12",
   "metadata": {},
   "outputs": [
    {
     "data": {
      "text/plain": [
       "dict_values(['Benz', 'Q5', 2025, 'Black', 500, 'Petrol'])"
      ]
     },
     "execution_count": 13,
     "metadata": {},
     "output_type": "execute_result"
    }
   ],
   "source": [
    "# values\n",
    "\n",
    "car.values()"
   ]
  },
  {
   "cell_type": "code",
   "execution_count": 14,
   "id": "1081487a",
   "metadata": {},
   "outputs": [
    {
     "data": {
      "text/plain": [
       "dict_items([('Brand', 'Benz'), ('Model', 'Q5'), ('YOM', 2025), ('Color', 'Black'), ('Speed', 500), ('Fuel Type', 'Petrol')])"
      ]
     },
     "execution_count": 14,
     "metadata": {},
     "output_type": "execute_result"
    }
   ],
   "source": [
    "# items\n",
    "\n",
    "car.items()"
   ]
  },
  {
   "cell_type": "code",
   "execution_count": 15,
   "id": "1df4e25a",
   "metadata": {},
   "outputs": [],
   "source": [
    "# add multiple items to a dictionary"
   ]
  },
  {
   "cell_type": "code",
   "execution_count": 16,
   "id": "97139262",
   "metadata": {},
   "outputs": [
    {
     "data": {
      "text/plain": [
       "{'Brand': 'Benz',\n",
       " 'Model': 'Q5',\n",
       " 'YOM': 2025,\n",
       " 'Color': 'Black',\n",
       " 'Speed': 500,\n",
       " 'Fuel Type': 'Petrol'}"
      ]
     },
     "execution_count": 16,
     "metadata": {},
     "output_type": "execute_result"
    }
   ],
   "source": [
    "car"
   ]
  },
  {
   "cell_type": "code",
   "execution_count": 17,
   "id": "48b26ad3",
   "metadata": {},
   "outputs": [],
   "source": [
    "car.update({'Sunroof':'yes','Transmission type':'Automatic'})"
   ]
  },
  {
   "cell_type": "code",
   "execution_count": 18,
   "id": "4f80328d",
   "metadata": {},
   "outputs": [
    {
     "data": {
      "text/plain": [
       "{'Brand': 'Benz',\n",
       " 'Model': 'Q5',\n",
       " 'YOM': 2025,\n",
       " 'Color': 'Black',\n",
       " 'Speed': 500,\n",
       " 'Fuel Type': 'Petrol',\n",
       " 'Sunroof': 'yes',\n",
       " 'Transmission type': 'Automatic'}"
      ]
     },
     "execution_count": 18,
     "metadata": {},
     "output_type": "execute_result"
    }
   ],
   "source": [
    "car"
   ]
  },
  {
   "cell_type": "code",
   "execution_count": 20,
   "id": "b38d5c9f",
   "metadata": {},
   "outputs": [
    {
     "data": {
      "text/plain": [
       "'Benz'"
      ]
     },
     "execution_count": 20,
     "metadata": {},
     "output_type": "execute_result"
    }
   ],
   "source": [
    "# removing an item from a dict\n",
    "\n",
    "car.pop('Brand')"
   ]
  },
  {
   "cell_type": "code",
   "execution_count": 21,
   "id": "c4573a7e",
   "metadata": {},
   "outputs": [
    {
     "data": {
      "text/plain": [
       "{'Model': 'Q5',\n",
       " 'YOM': 2025,\n",
       " 'Color': 'Black',\n",
       " 'Speed': 500,\n",
       " 'Fuel Type': 'Petrol',\n",
       " 'Sunroof': 'yes',\n",
       " 'Transmission type': 'Automatic'}"
      ]
     },
     "execution_count": 21,
     "metadata": {},
     "output_type": "execute_result"
    }
   ],
   "source": [
    "car"
   ]
  },
  {
   "cell_type": "code",
   "execution_count": 23,
   "id": "354471e4",
   "metadata": {},
   "outputs": [
    {
     "data": {
      "text/plain": [
       "'Petrol'"
      ]
     },
     "execution_count": 23,
     "metadata": {},
     "output_type": "execute_result"
    }
   ],
   "source": [
    "car.pop('Fuel Type')"
   ]
  },
  {
   "cell_type": "code",
   "execution_count": 24,
   "id": "26fd8176",
   "metadata": {},
   "outputs": [
    {
     "data": {
      "text/plain": [
       "{'Model': 'Q5',\n",
       " 'YOM': 2025,\n",
       " 'Color': 'Black',\n",
       " 'Speed': 500,\n",
       " 'Sunroof': 'yes',\n",
       " 'Transmission type': 'Automatic'}"
      ]
     },
     "execution_count": 24,
     "metadata": {},
     "output_type": "execute_result"
    }
   ],
   "source": [
    "car"
   ]
  },
  {
   "cell_type": "code",
   "execution_count": 25,
   "id": "6c388e92",
   "metadata": {},
   "outputs": [],
   "source": [
    "# popitem( )"
   ]
  },
  {
   "cell_type": "code",
   "execution_count": 26,
   "id": "4578ab5b",
   "metadata": {},
   "outputs": [
    {
     "data": {
      "text/plain": [
       "{'Model': 'Q5',\n",
       " 'YOM': 2025,\n",
       " 'Color': 'Black',\n",
       " 'Speed': 500,\n",
       " 'Sunroof': 'yes',\n",
       " 'Transmission type': 'Automatic'}"
      ]
     },
     "execution_count": 26,
     "metadata": {},
     "output_type": "execute_result"
    }
   ],
   "source": [
    "car"
   ]
  },
  {
   "cell_type": "code",
   "execution_count": 27,
   "id": "7fade101",
   "metadata": {},
   "outputs": [
    {
     "data": {
      "text/plain": [
       "('Transmission type', 'Automatic')"
      ]
     },
     "execution_count": 27,
     "metadata": {},
     "output_type": "execute_result"
    }
   ],
   "source": [
    "car.popitem()"
   ]
  },
  {
   "cell_type": "code",
   "execution_count": 28,
   "id": "fa0031bf",
   "metadata": {},
   "outputs": [
    {
     "data": {
      "text/plain": [
       "{'Model': 'Q5', 'YOM': 2025, 'Color': 'Black', 'Speed': 500, 'Sunroof': 'yes'}"
      ]
     },
     "execution_count": 28,
     "metadata": {},
     "output_type": "execute_result"
    }
   ],
   "source": [
    "car"
   ]
  },
  {
   "cell_type": "code",
   "execution_count": 29,
   "id": "9c3e0075",
   "metadata": {},
   "outputs": [
    {
     "data": {
      "text/plain": [
       "('Sunroof', 'yes')"
      ]
     },
     "execution_count": 29,
     "metadata": {},
     "output_type": "execute_result"
    }
   ],
   "source": [
    "car.popitem()"
   ]
  },
  {
   "cell_type": "code",
   "execution_count": 30,
   "id": "2a061dfa",
   "metadata": {},
   "outputs": [
    {
     "data": {
      "text/plain": [
       "{'Model': 'Q5', 'YOM': 2025, 'Color': 'Black', 'Speed': 500}"
      ]
     },
     "execution_count": 30,
     "metadata": {},
     "output_type": "execute_result"
    }
   ],
   "source": [
    "car"
   ]
  },
  {
   "cell_type": "code",
   "execution_count": 31,
   "id": "68668980",
   "metadata": {},
   "outputs": [
    {
     "data": {
      "text/plain": [
       "2025"
      ]
     },
     "execution_count": 31,
     "metadata": {},
     "output_type": "execute_result"
    }
   ],
   "source": [
    "# get ( )\n",
    "\n",
    "car.get('YOM')"
   ]
  },
  {
   "cell_type": "code",
   "execution_count": 32,
   "id": "a30d1221",
   "metadata": {},
   "outputs": [
    {
     "data": {
      "text/plain": [
       "'Black'"
      ]
     },
     "execution_count": 32,
     "metadata": {},
     "output_type": "execute_result"
    }
   ],
   "source": [
    "car.get('Color')"
   ]
  },
  {
   "cell_type": "code",
   "execution_count": 33,
   "id": "1d7de817",
   "metadata": {},
   "outputs": [],
   "source": [
    "#copy\n",
    "\n",
    "car1 = car.copy()"
   ]
  },
  {
   "cell_type": "code",
   "execution_count": 34,
   "id": "be24b7c8",
   "metadata": {},
   "outputs": [
    {
     "data": {
      "text/plain": [
       "({'Model': 'Q5', 'YOM': 2025, 'Color': 'Black', 'Speed': 500},\n",
       " {'Model': 'Q5', 'YOM': 2025, 'Color': 'Black', 'Speed': 500})"
      ]
     },
     "execution_count": 34,
     "metadata": {},
     "output_type": "execute_result"
    }
   ],
   "source": [
    "car1, car"
   ]
  },
  {
   "cell_type": "code",
   "execution_count": 35,
   "id": "7300a40a",
   "metadata": {},
   "outputs": [],
   "source": [
    "# clear\n",
    "\n",
    "car1.clear()"
   ]
  },
  {
   "cell_type": "code",
   "execution_count": 36,
   "id": "664334e9",
   "metadata": {},
   "outputs": [
    {
     "data": {
      "text/plain": [
       "{}"
      ]
     },
     "execution_count": 36,
     "metadata": {},
     "output_type": "execute_result"
    }
   ],
   "source": [
    "car1"
   ]
  },
  {
   "cell_type": "code",
   "execution_count": 37,
   "id": "dbc4ee0b",
   "metadata": {},
   "outputs": [],
   "source": [
    "# empty dictionary\n",
    "d = {}"
   ]
  },
  {
   "cell_type": "code",
   "execution_count": 38,
   "id": "689bb700",
   "metadata": {},
   "outputs": [
    {
     "data": {
      "text/plain": [
       "dict"
      ]
     },
     "execution_count": 38,
     "metadata": {},
     "output_type": "execute_result"
    }
   ],
   "source": [
    "type(d)"
   ]
  },
  {
   "cell_type": "code",
   "execution_count": 39,
   "id": "0bfbdd4f",
   "metadata": {},
   "outputs": [],
   "source": [
    "D = dict()"
   ]
  },
  {
   "cell_type": "code",
   "execution_count": 40,
   "id": "0af4bc75",
   "metadata": {},
   "outputs": [
    {
     "data": {
      "text/plain": [
       "{}"
      ]
     },
     "execution_count": 40,
     "metadata": {},
     "output_type": "execute_result"
    }
   ],
   "source": [
    "D"
   ]
  },
  {
   "cell_type": "code",
   "execution_count": 41,
   "id": "39670acf",
   "metadata": {},
   "outputs": [
    {
     "data": {
      "text/plain": [
       "dict"
      ]
     },
     "execution_count": 41,
     "metadata": {},
     "output_type": "execute_result"
    }
   ],
   "source": [
    "type(D)"
   ]
  },
  {
   "cell_type": "code",
   "execution_count": null,
   "id": "5accff17",
   "metadata": {},
   "outputs": [],
   "source": []
  }
 ],
 "metadata": {
  "kernelspec": {
   "display_name": "Python 3 (ipykernel)",
   "language": "python",
   "name": "python3"
  },
  "language_info": {
   "codemirror_mode": {
    "name": "ipython",
    "version": 3
   },
   "file_extension": ".py",
   "mimetype": "text/x-python",
   "name": "python",
   "nbconvert_exporter": "python",
   "pygments_lexer": "ipython3",
   "version": "3.10.9"
  }
 },
 "nbformat": 4,
 "nbformat_minor": 5
}
