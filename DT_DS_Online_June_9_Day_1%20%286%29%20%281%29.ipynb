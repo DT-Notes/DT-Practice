{
 "cells": [
  {
   "cell_type": "markdown",
   "id": "f018d657",
   "metadata": {},
   "source": [
    "# Introduction to Python Programming - H1"
   ]
  },
  {
   "cell_type": "markdown",
   "id": "6a729cc1",
   "metadata": {},
   "source": [
    "## Introduction to Python Programming - H2"
   ]
  },
  {
   "cell_type": "markdown",
   "id": "31d9b83c",
   "metadata": {},
   "source": [
    "### Introduction to Python Programming - H3"
   ]
  },
  {
   "cell_type": "markdown",
   "id": "e4d2f4bf",
   "metadata": {},
   "source": [
    "#### Introduction to Python Programming - H4"
   ]
  },
  {
   "cell_type": "markdown",
   "id": "a428ea3a",
   "metadata": {},
   "source": [
    "### Features of Python Programming\n",
    "\n",
    "1. Python is **Open- Source** Programming language\n",
    "2. Python is *Dynamically typed* Language\n",
    "3. Python is ***platform Independent*** Language\n",
    "4. Python **Interpreter based Language**\n",
    "5. Python is **Object Oriented Programming** language\n",
    "6. Python have **Exception Handling Techniques**\n",
    "7. Python allows Programmers to write fewer lines of code when compared to other programming languages"
   ]
  },
  {
   "cell_type": "code",
   "execution_count": 1,
   "id": "607a77d5",
   "metadata": {},
   "outputs": [
    {
     "name": "stdout",
     "output_type": "stream",
     "text": [
      "Hello all , Welcome to Datateach.ai\n"
     ]
    }
   ],
   "source": [
    "print('Hello all , Welcome to Datateach.ai')"
   ]
  },
  {
   "cell_type": "markdown",
   "id": "d457c4e6",
   "metadata": {},
   "source": [
    "### Keywords"
   ]
  },
  {
   "cell_type": "markdown",
   "id": "ced21ded",
   "metadata": {},
   "source": [
    "1. Keywords are **Reserved Words** which have Special Meaning\n",
    "2. Keywords are used to write Meaningful Instructions \n",
    "3. Keywords Should not be used a variable Names"
   ]
  },
  {
   "cell_type": "code",
   "execution_count": 1,
   "id": "69961f9d",
   "metadata": {},
   "outputs": [
    {
     "name": "stdout",
     "output_type": "stream",
     "text": [
      "['False', 'None', 'True', 'and', 'as', 'assert', 'async', 'await', 'break', 'class', 'continue', 'def', 'del', 'elif', 'else', 'except', 'finally', 'for', 'from', 'global', 'if', 'import', 'in', 'is', 'lambda', 'nonlocal', 'not', 'or', 'pass', 'raise', 'return', 'try', 'while', 'with', 'yield']\n"
     ]
    }
   ],
   "source": [
    "import keyword\n",
    "print(keyword.kwlist)"
   ]
  },
  {
   "cell_type": "code",
   "execution_count": 2,
   "id": "7c1c4071",
   "metadata": {},
   "outputs": [
    {
     "name": "stdout",
     "output_type": "stream",
     "text": [
      "35\n"
     ]
    }
   ],
   "source": [
    "print(len(keyword.kwlist))"
   ]
  },
  {
   "cell_type": "markdown",
   "id": "eb6a9285",
   "metadata": {},
   "source": [
    "### Identifiers"
   ]
  },
  {
   "cell_type": "raw",
   "id": "86f6e897",
   "metadata": {},
   "source": [
    "Name of a Variable / module / function / object / class is called Identifier"
   ]
  },
  {
   "cell_type": "markdown",
   "id": "95a9db17",
   "metadata": {},
   "source": [
    "#### Identifier Name Rules"
   ]
  },
  {
   "cell_type": "markdown",
   "id": "69a6e41c",
   "metadata": {},
   "source": [
    "1. Identifiers Should only contain Alphanumerics and an underscore ( _ )\n",
    "2. Indentifiers should only start with a character or an underscore\n",
    "3. Keywords should not be used as Identifiers\n",
    "4. White space is not allowed in Identifiers"
   ]
  },
  {
   "cell_type": "markdown",
   "id": "0ccd9ea6",
   "metadata": {},
   "source": [
    "#### Comments"
   ]
  },
  {
   "cell_type": "raw",
   "id": "8b801a24",
   "metadata": {},
   "source": [
    "In python comments starts with # . Whatever we write after # will be considered as comments"
   ]
  },
  {
   "cell_type": "code",
   "execution_count": 3,
   "id": "0f3496f5",
   "metadata": {},
   "outputs": [],
   "source": [
    "# this is cooment line"
   ]
  },
  {
   "cell_type": "code",
   "execution_count": 4,
   "id": "3048a6bb",
   "metadata": {},
   "outputs": [],
   "source": [
    "# Comments in Python "
   ]
  },
  {
   "cell_type": "code",
   "execution_count": 5,
   "id": "7a92e3d1",
   "metadata": {},
   "outputs": [],
   "source": [
    "area = 89 # valid "
   ]
  },
  {
   "cell_type": "code",
   "execution_count": 6,
   "id": "652415f0",
   "metadata": {},
   "outputs": [],
   "source": [
    "Area = 78 # valid"
   ]
  },
  {
   "cell_type": "code",
   "execution_count": 7,
   "id": "a6182a0a",
   "metadata": {},
   "outputs": [],
   "source": [
    "Area5 = 45 # valid\n"
   ]
  },
  {
   "cell_type": "code",
   "execution_count": 8,
   "id": "340e01a0",
   "metadata": {},
   "outputs": [],
   "source": [
    "Area_4 = 34 # valid "
   ]
  },
  {
   "cell_type": "code",
   "execution_count": 9,
   "id": "2d6b14e1",
   "metadata": {},
   "outputs": [
    {
     "ename": "SyntaxError",
     "evalue": "invalid decimal literal (3700743886.py, line 1)",
     "output_type": "error",
     "traceback": [
      "\u001b[0;36m  Cell \u001b[0;32mIn[9], line 1\u001b[0;36m\u001b[0m\n\u001b[0;31m    4area = 67 # invalid\u001b[0m\n\u001b[0m    ^\u001b[0m\n\u001b[0;31mSyntaxError\u001b[0m\u001b[0;31m:\u001b[0m invalid decimal literal\n"
     ]
    }
   ],
   "source": [
    "4area = 67 # invalid "
   ]
  },
  {
   "cell_type": "code",
   "execution_count": 10,
   "id": "ac3a6306",
   "metadata": {},
   "outputs": [],
   "source": [
    "_area = 89 # valid"
   ]
  },
  {
   "cell_type": "code",
   "execution_count": 11,
   "id": "eb6e9559",
   "metadata": {},
   "outputs": [],
   "source": [
    "_a = 23 # valid"
   ]
  },
  {
   "cell_type": "code",
   "execution_count": 13,
   "id": "f4183427",
   "metadata": {},
   "outputs": [
    {
     "ename": "SyntaxError",
     "evalue": "invalid syntax (2816956920.py, line 1)",
     "output_type": "error",
     "traceback": [
      "\u001b[0;36m  Cell \u001b[0;32mIn[13], line 1\u001b[0;36m\u001b[0m\n\u001b[0;31m    break = 67 # invalid\u001b[0m\n\u001b[0m          ^\u001b[0m\n\u001b[0;31mSyntaxError\u001b[0m\u001b[0;31m:\u001b[0m invalid syntax\n"
     ]
    }
   ],
   "source": [
    "break = 67 # invalid"
   ]
  },
  {
   "cell_type": "code",
   "execution_count": 14,
   "id": "cafad64f",
   "metadata": {},
   "outputs": [
    {
     "ename": "SyntaxError",
     "evalue": "invalid syntax (1723829863.py, line 1)",
     "output_type": "error",
     "traceback": [
      "\u001b[0;36m  Cell \u001b[0;32mIn[14], line 1\u001b[0;36m\u001b[0m\n\u001b[0;31m    if = 45 # invalid\u001b[0m\n\u001b[0m       ^\u001b[0m\n\u001b[0;31mSyntaxError\u001b[0m\u001b[0;31m:\u001b[0m invalid syntax\n"
     ]
    }
   ],
   "source": [
    "if = 45 # invalid"
   ]
  },
  {
   "cell_type": "code",
   "execution_count": 15,
   "id": "5a37276a",
   "metadata": {},
   "outputs": [
    {
     "ename": "SyntaxError",
     "evalue": "invalid syntax (3752400858.py, line 1)",
     "output_type": "error",
     "traceback": [
      "\u001b[0;36m  Cell \u001b[0;32mIn[15], line 1\u001b[0;36m\u001b[0m\n\u001b[0;31m    area width = 67 # invalid\u001b[0m\n\u001b[0m         ^\u001b[0m\n\u001b[0;31mSyntaxError\u001b[0m\u001b[0;31m:\u001b[0m invalid syntax\n"
     ]
    }
   ],
   "source": [
    "area width = 67 # invalid "
   ]
  },
  {
   "cell_type": "code",
   "execution_count": 16,
   "id": "c0ded687",
   "metadata": {},
   "outputs": [],
   "source": [
    "area_width = 67 # valid"
   ]
  },
  {
   "cell_type": "markdown",
   "id": "09e989ed",
   "metadata": {},
   "source": [
    "#### variables"
   ]
  },
  {
   "cell_type": "raw",
   "id": "a09d3fa8",
   "metadata": {},
   "source": [
    "variable is Data Container which stores a Value .\n",
    "Variable may be a shorter names like a, b , k , x or more descriptive name like area , width ,data ..."
   ]
  },
  {
   "cell_type": "code",
   "execution_count": 17,
   "id": "26357721",
   "metadata": {},
   "outputs": [],
   "source": [
    "a = 20 "
   ]
  },
  {
   "cell_type": "code",
   "execution_count": 18,
   "id": "b60d0f31",
   "metadata": {},
   "outputs": [
    {
     "data": {
      "text/plain": [
       "20"
      ]
     },
     "execution_count": 18,
     "metadata": {},
     "output_type": "execute_result"
    }
   ],
   "source": [
    "a"
   ]
  },
  {
   "cell_type": "code",
   "execution_count": 19,
   "id": "1a33373e",
   "metadata": {},
   "outputs": [],
   "source": [
    "b = 45 "
   ]
  },
  {
   "cell_type": "code",
   "execution_count": 20,
   "id": "959d2274",
   "metadata": {},
   "outputs": [
    {
     "data": {
      "text/plain": [
       "45"
      ]
     },
     "execution_count": 20,
     "metadata": {},
     "output_type": "execute_result"
    }
   ],
   "source": [
    "b"
   ]
  },
  {
   "cell_type": "code",
   "execution_count": 21,
   "id": "d2f466cc",
   "metadata": {},
   "outputs": [],
   "source": [
    "area = 78 "
   ]
  },
  {
   "cell_type": "code",
   "execution_count": 22,
   "id": "4ac5ecdf",
   "metadata": {},
   "outputs": [
    {
     "data": {
      "text/plain": [
       "78"
      ]
     },
     "execution_count": 22,
     "metadata": {},
     "output_type": "execute_result"
    }
   ],
   "source": [
    "area "
   ]
  },
  {
   "cell_type": "code",
   "execution_count": 23,
   "id": "32cc7e5b",
   "metadata": {},
   "outputs": [],
   "source": [
    "area_width = 89 "
   ]
  },
  {
   "cell_type": "code",
   "execution_count": 24,
   "id": "7af0b44c",
   "metadata": {},
   "outputs": [],
   "source": [
    "a = 45 "
   ]
  },
  {
   "cell_type": "code",
   "execution_count": 25,
   "id": "9367ab44",
   "metadata": {},
   "outputs": [
    {
     "name": "stdout",
     "output_type": "stream",
     "text": [
      "45\n"
     ]
    }
   ],
   "source": [
    "print(a)"
   ]
  },
  {
   "cell_type": "code",
   "execution_count": 26,
   "id": "86dc066e",
   "metadata": {},
   "outputs": [],
   "source": [
    "a = 56"
   ]
  },
  {
   "cell_type": "code",
   "execution_count": 27,
   "id": "dd425727",
   "metadata": {},
   "outputs": [
    {
     "name": "stdout",
     "output_type": "stream",
     "text": [
      "56\n"
     ]
    }
   ],
   "source": [
    "print(a)"
   ]
  },
  {
   "cell_type": "code",
   "execution_count": 28,
   "id": "1b9cd012",
   "metadata": {},
   "outputs": [],
   "source": [
    "a, b, c = 10, 20, 30 "
   ]
  },
  {
   "cell_type": "code",
   "execution_count": 29,
   "id": "ba26c3ac",
   "metadata": {},
   "outputs": [
    {
     "data": {
      "text/plain": [
       "(10, 20, 30)"
      ]
     },
     "execution_count": 29,
     "metadata": {},
     "output_type": "execute_result"
    }
   ],
   "source": [
    "a,b,c"
   ]
  },
  {
   "cell_type": "code",
   "execution_count": 30,
   "id": "5bcf76d5",
   "metadata": {},
   "outputs": [],
   "source": [
    "a = b = c = 45"
   ]
  },
  {
   "cell_type": "code",
   "execution_count": 31,
   "id": "d1a56e70",
   "metadata": {},
   "outputs": [
    {
     "data": {
      "text/plain": [
       "(45, 45, 45)"
      ]
     },
     "execution_count": 31,
     "metadata": {},
     "output_type": "execute_result"
    }
   ],
   "source": [
    "a,b,c"
   ]
  },
  {
   "cell_type": "markdown",
   "id": "faee6eff",
   "metadata": {},
   "source": [
    "## Data Types \n",
    "\n",
    "1. **Numeric**\n",
    "    1. Integer\n",
    "    2. Float \n",
    "    3. Complex \n",
    "2. **Sequence**\n",
    "    1. String\n",
    "    2. List \n",
    "    3. Tuple\n",
    "3. **Text**\n",
    "    1. String\n",
    "4. **Set**\n",
    "    1. Set \n",
    "5. **Boolean**\n",
    "    1. True\n",
    "    2. False\n",
    "6. **Dictionary**\n",
    "    1. Dictionary"
   ]
  },
  {
   "cell_type": "markdown",
   "id": "c01ddca8",
   "metadata": {},
   "source": [
    "#### Numeric Data Types\n",
    "1. Integer"
   ]
  },
  {
   "cell_type": "code",
   "execution_count": 32,
   "id": "89beb0d5",
   "metadata": {},
   "outputs": [],
   "source": [
    "a = 10 \n",
    "b = -67 \n",
    "c = 678938436463"
   ]
  },
  {
   "cell_type": "code",
   "execution_count": 33,
   "id": "1a7fc86c",
   "metadata": {},
   "outputs": [
    {
     "data": {
      "text/plain": [
       "int"
      ]
     },
     "execution_count": 33,
     "metadata": {},
     "output_type": "execute_result"
    }
   ],
   "source": [
    "type(a) # type() is a method which returns data type of a variable "
   ]
  },
  {
   "cell_type": "code",
   "execution_count": 34,
   "id": "94f8376f",
   "metadata": {},
   "outputs": [
    {
     "data": {
      "text/plain": [
       "int"
      ]
     },
     "execution_count": 34,
     "metadata": {},
     "output_type": "execute_result"
    }
   ],
   "source": [
    "type(b)"
   ]
  },
  {
   "cell_type": "code",
   "execution_count": 35,
   "id": "2aa691e9",
   "metadata": {},
   "outputs": [
    {
     "data": {
      "text/plain": [
       "int"
      ]
     },
     "execution_count": 35,
     "metadata": {},
     "output_type": "execute_result"
    }
   ],
   "source": [
    "type(c)"
   ]
  },
  {
   "cell_type": "code",
   "execution_count": 36,
   "id": "371415f2",
   "metadata": {},
   "outputs": [
    {
     "name": "stdout",
     "output_type": "stream",
     "text": [
      "<class 'int'>\n"
     ]
    }
   ],
   "source": [
    "print(type(a))"
   ]
  },
  {
   "cell_type": "code",
   "execution_count": 37,
   "id": "0972aa12",
   "metadata": {},
   "outputs": [
    {
     "name": "stdout",
     "output_type": "stream",
     "text": [
      "<class 'int'>\n"
     ]
    }
   ],
   "source": [
    "print(type(b))"
   ]
  },
  {
   "cell_type": "code",
   "execution_count": 38,
   "id": "ab3cdba4",
   "metadata": {},
   "outputs": [
    {
     "name": "stdout",
     "output_type": "stream",
     "text": [
      "The data Type of a variable a is :  <class 'int'>\n",
      "The data Type of a variable b is :  <class 'int'>\n",
      "The data Type of a variable c is :  <class 'int'>\n"
     ]
    }
   ],
   "source": [
    "print('The data Type of a variable a is : ',type(a))\n",
    "print('The data Type of a variable b is : ',type(b))\n",
    "print('The data Type of a variable c is : ',type(c))"
   ]
  },
  {
   "cell_type": "code",
   "execution_count": 39,
   "id": "5f36998d",
   "metadata": {},
   "outputs": [],
   "source": [
    "# float \n",
    "a = 34.78\n",
    "b = -90.67\n",
    "c = 3.89644326277282"
   ]
  },
  {
   "cell_type": "code",
   "execution_count": 40,
   "id": "319e8e75",
   "metadata": {},
   "outputs": [
    {
     "name": "stdout",
     "output_type": "stream",
     "text": [
      "The data Type of a variable a is :  <class 'float'>\n",
      "The data Type of a variable b is :  <class 'float'>\n",
      "The data Type of a variable c is :  <class 'float'>\n"
     ]
    }
   ],
   "source": [
    "print('The data Type of a variable a is : ',type(a))\n",
    "print('The data Type of a variable b is : ',type(b))\n",
    "print('The data Type of a variable c is : ',type(c))"
   ]
  },
  {
   "cell_type": "code",
   "execution_count": 41,
   "id": "d9532575",
   "metadata": {},
   "outputs": [],
   "source": [
    "a = 3+9j\n",
    "b = -7-4j\n",
    "c = -5j"
   ]
  },
  {
   "cell_type": "code",
   "execution_count": 42,
   "id": "ca16eea9",
   "metadata": {},
   "outputs": [
    {
     "name": "stdout",
     "output_type": "stream",
     "text": [
      "The data Type of a variable a is :  <class 'complex'>\n",
      "The data Type of a variable b is :  <class 'complex'>\n",
      "The data Type of a variable c is :  <class 'complex'>\n"
     ]
    }
   ],
   "source": [
    "print('The data Type of a variable a is : ',type(a))\n",
    "print('The data Type of a variable b is : ',type(b))\n",
    "print('The data Type of a variable c is : ',type(c))"
   ]
  },
  {
   "cell_type": "markdown",
   "id": "0ae265c1",
   "metadata": {},
   "source": [
    "## Type Conversion"
   ]
  },
  {
   "cell_type": "raw",
   "id": "871127e5",
   "metadata": {},
   "source": [
    "Type Conversion:\n",
    "It is a process of converting data type of a variable to another data type\n",
    "\n",
    "1. Integer - Float \n",
    "2. Integer - String \n",
    "3. Float - Integer\n",
    "4. Float - String \n",
    "5. String - integer (** if string is equal to any numeric value of base 10)\n",
    "6. String - Float (** if string is equal to any numeric value of base 10)"
   ]
  },
  {
   "cell_type": "code",
   "execution_count": 43,
   "id": "4e8288b9",
   "metadata": {},
   "outputs": [
    {
     "name": "stdout",
     "output_type": "stream",
     "text": [
      "20 <class 'int'>\n"
     ]
    }
   ],
   "source": [
    "# Integer to float \n",
    "a = 20 \n",
    "print(a,type(a))"
   ]
  },
  {
   "cell_type": "code",
   "execution_count": 44,
   "id": "246e09ed",
   "metadata": {},
   "outputs": [
    {
     "data": {
      "text/plain": [
       "20.0"
      ]
     },
     "execution_count": 44,
     "metadata": {},
     "output_type": "execute_result"
    }
   ],
   "source": [
    "float(a)"
   ]
  },
  {
   "cell_type": "code",
   "execution_count": 45,
   "id": "48c0703d",
   "metadata": {},
   "outputs": [
    {
     "name": "stdout",
     "output_type": "stream",
     "text": [
      "20.0 <class 'float'>\n"
     ]
    }
   ],
   "source": [
    "b = float(a)\n",
    "print(b,type(b))"
   ]
  },
  {
   "cell_type": "code",
   "execution_count": 46,
   "id": "5764dac3",
   "metadata": {},
   "outputs": [],
   "source": [
    "# Integer to string "
   ]
  },
  {
   "cell_type": "code",
   "execution_count": 47,
   "id": "294815d1",
   "metadata": {},
   "outputs": [
    {
     "data": {
      "text/plain": [
       "20"
      ]
     },
     "execution_count": 47,
     "metadata": {},
     "output_type": "execute_result"
    }
   ],
   "source": [
    "a"
   ]
  },
  {
   "cell_type": "code",
   "execution_count": 48,
   "id": "7420c788",
   "metadata": {},
   "outputs": [
    {
     "data": {
      "text/plain": [
       "'20'"
      ]
     },
     "execution_count": 48,
     "metadata": {},
     "output_type": "execute_result"
    }
   ],
   "source": [
    "str(a)"
   ]
  },
  {
   "cell_type": "code",
   "execution_count": 49,
   "id": "c34ef244",
   "metadata": {},
   "outputs": [],
   "source": [
    "#float to integer \n",
    "a = 56.89"
   ]
  },
  {
   "cell_type": "code",
   "execution_count": 50,
   "id": "55ab027b",
   "metadata": {},
   "outputs": [
    {
     "name": "stdout",
     "output_type": "stream",
     "text": [
      "56.89 <class 'float'>\n"
     ]
    }
   ],
   "source": [
    "print(a,type(a))"
   ]
  },
  {
   "cell_type": "code",
   "execution_count": 51,
   "id": "8769e3a8",
   "metadata": {},
   "outputs": [
    {
     "data": {
      "text/plain": [
       "56"
      ]
     },
     "execution_count": 51,
     "metadata": {},
     "output_type": "execute_result"
    }
   ],
   "source": [
    "int(a)"
   ]
  },
  {
   "cell_type": "code",
   "execution_count": 52,
   "id": "031de1f6",
   "metadata": {},
   "outputs": [
    {
     "data": {
      "text/plain": [
       "56.89"
      ]
     },
     "execution_count": 52,
     "metadata": {},
     "output_type": "execute_result"
    }
   ],
   "source": [
    "a"
   ]
  },
  {
   "cell_type": "code",
   "execution_count": 53,
   "id": "cb06d8a1",
   "metadata": {},
   "outputs": [
    {
     "data": {
      "text/plain": [
       "'56.89'"
      ]
     },
     "execution_count": 53,
     "metadata": {},
     "output_type": "execute_result"
    }
   ],
   "source": [
    "str(a)"
   ]
  },
  {
   "cell_type": "code",
   "execution_count": 54,
   "id": "8563ca09",
   "metadata": {},
   "outputs": [],
   "source": [
    "#string to integer \n",
    "#if string is equal to a numeric of base 10 \n",
    "\n",
    "a = 'python'"
   ]
  },
  {
   "cell_type": "code",
   "execution_count": 55,
   "id": "37cd793c",
   "metadata": {},
   "outputs": [
    {
     "ename": "ValueError",
     "evalue": "invalid literal for int() with base 10: 'python'",
     "output_type": "error",
     "traceback": [
      "\u001b[0;31m---------------------------------------------------------------------------\u001b[0m",
      "\u001b[0;31mValueError\u001b[0m                                Traceback (most recent call last)",
      "Cell \u001b[0;32mIn[55], line 1\u001b[0m\n\u001b[0;32m----> 1\u001b[0m \u001b[38;5;28;43mint\u001b[39;49m\u001b[43m(\u001b[49m\u001b[43ma\u001b[49m\u001b[43m)\u001b[49m\n",
      "\u001b[0;31mValueError\u001b[0m: invalid literal for int() with base 10: 'python'"
     ]
    }
   ],
   "source": [
    "int(a)"
   ]
  },
  {
   "cell_type": "code",
   "execution_count": 56,
   "id": "231260c3",
   "metadata": {},
   "outputs": [
    {
     "name": "stdout",
     "output_type": "stream",
     "text": [
      "20 <class 'str'>\n"
     ]
    }
   ],
   "source": [
    "a = '20'\n",
    "print(a,type(a))"
   ]
  },
  {
   "cell_type": "code",
   "execution_count": 57,
   "id": "c085aca5",
   "metadata": {},
   "outputs": [
    {
     "data": {
      "text/plain": [
       "20"
      ]
     },
     "execution_count": 57,
     "metadata": {},
     "output_type": "execute_result"
    }
   ],
   "source": [
    "int(a)"
   ]
  },
  {
   "cell_type": "code",
   "execution_count": 58,
   "id": "cb4dfbb9",
   "metadata": {},
   "outputs": [
    {
     "data": {
      "text/plain": [
       "20.0"
      ]
     },
     "execution_count": 58,
     "metadata": {},
     "output_type": "execute_result"
    }
   ],
   "source": [
    "float(a)"
   ]
  },
  {
   "cell_type": "markdown",
   "id": "68a03c6a",
   "metadata": {},
   "source": [
    "## Operators\n",
    "\n",
    "1. **Arithmetic Operators**\n",
    "    1. Addition ( + )\n",
    "    2. Subtraction ( - )\n",
    "    3. Multiplication ( * )\n",
    "    4. Division ( / )\n",
    "    5. Floor Division ( // )\n",
    "    6. Modulus ( % )\n",
    "    7. Exponentation( ** )\n",
    "2. **Assignment Operators**\n",
    "    1. Assignment Operators ( = )\n",
    "3. **Relationship Operators(or) Comparision Operators**\n",
    "4. **Logical Operators**\n",
    "5. **Membership Operators**\n",
    "6. **Identity Operators**\n",
    "7. **Bitwise Operators**"
   ]
  },
  {
   "cell_type": "markdown",
   "id": "a559d191",
   "metadata": {},
   "source": [
    "#### Arithmetic Operators"
   ]
  },
  {
   "cell_type": "code",
   "execution_count": 59,
   "id": "1e854c14",
   "metadata": {},
   "outputs": [
    {
     "data": {
      "text/plain": [
       "13"
      ]
     },
     "execution_count": 59,
     "metadata": {},
     "output_type": "execute_result"
    }
   ],
   "source": [
    "# addition \n",
    "a = 10 \n",
    "b = 3\n",
    "a + b\n"
   ]
  },
  {
   "cell_type": "code",
   "execution_count": 60,
   "id": "3c08c2a1",
   "metadata": {},
   "outputs": [
    {
     "data": {
      "text/plain": [
       "7"
      ]
     },
     "execution_count": 60,
     "metadata": {},
     "output_type": "execute_result"
    }
   ],
   "source": [
    "#subtraction\n",
    "a - b"
   ]
  },
  {
   "cell_type": "code",
   "execution_count": 61,
   "id": "ac63150c",
   "metadata": {},
   "outputs": [
    {
     "data": {
      "text/plain": [
       "30"
      ]
     },
     "execution_count": 61,
     "metadata": {},
     "output_type": "execute_result"
    }
   ],
   "source": [
    "# multiplication \n",
    "a * b"
   ]
  },
  {
   "cell_type": "code",
   "execution_count": 62,
   "id": "483b2950",
   "metadata": {},
   "outputs": [
    {
     "data": {
      "text/plain": [
       "3.3333333333333335"
      ]
     },
     "execution_count": 62,
     "metadata": {},
     "output_type": "execute_result"
    }
   ],
   "source": [
    "# Division \n",
    "a / b "
   ]
  },
  {
   "cell_type": "code",
   "execution_count": 63,
   "id": "d353eb2c",
   "metadata": {},
   "outputs": [
    {
     "data": {
      "text/plain": [
       "3"
      ]
     },
     "execution_count": 63,
     "metadata": {},
     "output_type": "execute_result"
    }
   ],
   "source": [
    "#floor Division (integer Division)\n",
    "a // b"
   ]
  },
  {
   "cell_type": "code",
   "execution_count": 64,
   "id": "c9f440e2",
   "metadata": {},
   "outputs": [
    {
     "data": {
      "text/plain": [
       "1"
      ]
     },
     "execution_count": 64,
     "metadata": {},
     "output_type": "execute_result"
    }
   ],
   "source": [
    "# Modulus ( Returns remainder of a division)\n",
    "a % b "
   ]
  },
  {
   "cell_type": "code",
   "execution_count": 65,
   "id": "f8af0814",
   "metadata": {},
   "outputs": [
    {
     "data": {
      "text/plain": [
       "1000"
      ]
     },
     "execution_count": 65,
     "metadata": {},
     "output_type": "execute_result"
    }
   ],
   "source": [
    "#exponentation (power of)\n",
    "a ** b"
   ]
  },
  {
   "cell_type": "markdown",
   "id": "f67ab0e9",
   "metadata": {},
   "source": [
    "### Assignment Operators"
   ]
  },
  {
   "cell_type": "raw",
   "id": "e60f7d5f",
   "metadata": {},
   "source": [
    "Assignment operator is used assign values to the variables\n",
    "\n",
    "a = 34 \n",
    "b = 78 "
   ]
  },
  {
   "cell_type": "code",
   "execution_count": 66,
   "id": "ff13cb38",
   "metadata": {},
   "outputs": [],
   "source": [
    "a = 10 "
   ]
  },
  {
   "cell_type": "code",
   "execution_count": 67,
   "id": "5770c028",
   "metadata": {},
   "outputs": [],
   "source": [
    "a += 3 # a = a+3"
   ]
  },
  {
   "cell_type": "code",
   "execution_count": 68,
   "id": "f83106a7",
   "metadata": {},
   "outputs": [
    {
     "data": {
      "text/plain": [
       "13"
      ]
     },
     "execution_count": 68,
     "metadata": {},
     "output_type": "execute_result"
    }
   ],
   "source": [
    "a"
   ]
  },
  {
   "cell_type": "code",
   "execution_count": 69,
   "id": "1509205c",
   "metadata": {},
   "outputs": [],
   "source": [
    "a -= 3"
   ]
  },
  {
   "cell_type": "code",
   "execution_count": 70,
   "id": "dd66ed6f",
   "metadata": {},
   "outputs": [
    {
     "data": {
      "text/plain": [
       "10"
      ]
     },
     "execution_count": 70,
     "metadata": {},
     "output_type": "execute_result"
    }
   ],
   "source": [
    "a"
   ]
  },
  {
   "cell_type": "code",
   "execution_count": 71,
   "id": "01c9a539",
   "metadata": {},
   "outputs": [],
   "source": [
    "a *= 3 "
   ]
  },
  {
   "cell_type": "code",
   "execution_count": 72,
   "id": "bbf18e69",
   "metadata": {},
   "outputs": [
    {
     "data": {
      "text/plain": [
       "30"
      ]
     },
     "execution_count": 72,
     "metadata": {},
     "output_type": "execute_result"
    }
   ],
   "source": [
    "a"
   ]
  },
  {
   "cell_type": "markdown",
   "id": "eff36138",
   "metadata": {},
   "source": [
    "#### Comparision Operators\n",
    "\n",
    "1. **Greater than**\n",
    "2. **Less Than**\n",
    "3. **Greater Than or equal to**\n",
    "4. **Less than or equal to**\n",
    "5. **Equal to**\n",
    "6. **Not Equal to**"
   ]
  },
  {
   "cell_type": "code",
   "execution_count": 73,
   "id": "39c60d84",
   "metadata": {},
   "outputs": [
    {
     "data": {
      "text/plain": [
       "True"
      ]
     },
     "execution_count": 73,
     "metadata": {},
     "output_type": "execute_result"
    }
   ],
   "source": [
    "a = 30 \n",
    "b = 20 \n",
    "\n",
    "a > b "
   ]
  },
  {
   "cell_type": "code",
   "execution_count": 74,
   "id": "241471c3",
   "metadata": {},
   "outputs": [
    {
     "data": {
      "text/plain": [
       "False"
      ]
     },
     "execution_count": 74,
     "metadata": {},
     "output_type": "execute_result"
    }
   ],
   "source": [
    "b > a"
   ]
  },
  {
   "cell_type": "code",
   "execution_count": 75,
   "id": "ecca0945",
   "metadata": {},
   "outputs": [
    {
     "data": {
      "text/plain": [
       "True"
      ]
     },
     "execution_count": 75,
     "metadata": {},
     "output_type": "execute_result"
    }
   ],
   "source": [
    "a = 34\n",
    "b = 34 \n",
    "\n",
    "a >= b "
   ]
  },
  {
   "cell_type": "code",
   "execution_count": 76,
   "id": "ea280abb",
   "metadata": {},
   "outputs": [
    {
     "data": {
      "text/plain": [
       "True"
      ]
     },
     "execution_count": 76,
     "metadata": {},
     "output_type": "execute_result"
    }
   ],
   "source": [
    "a <= b"
   ]
  },
  {
   "cell_type": "code",
   "execution_count": 77,
   "id": "c71a9013",
   "metadata": {},
   "outputs": [
    {
     "data": {
      "text/plain": [
       "True"
      ]
     },
     "execution_count": 77,
     "metadata": {},
     "output_type": "execute_result"
    }
   ],
   "source": [
    "10 == 10 "
   ]
  },
  {
   "cell_type": "code",
   "execution_count": 78,
   "id": "cb93d0c1",
   "metadata": {},
   "outputs": [
    {
     "data": {
      "text/plain": [
       "False"
      ]
     },
     "execution_count": 78,
     "metadata": {},
     "output_type": "execute_result"
    }
   ],
   "source": [
    "23 == 34"
   ]
  },
  {
   "cell_type": "code",
   "execution_count": 79,
   "id": "767f87f2",
   "metadata": {},
   "outputs": [
    {
     "data": {
      "text/plain": [
       "True"
      ]
     },
     "execution_count": 79,
     "metadata": {},
     "output_type": "execute_result"
    }
   ],
   "source": [
    "a == b"
   ]
  },
  {
   "cell_type": "code",
   "execution_count": 80,
   "id": "4c9292b1",
   "metadata": {},
   "outputs": [
    {
     "data": {
      "text/plain": [
       "True"
      ]
     },
     "execution_count": 80,
     "metadata": {},
     "output_type": "execute_result"
    }
   ],
   "source": [
    "a = 34 \n",
    "b = 56 \n",
    "\n",
    "a != b "
   ]
  },
  {
   "cell_type": "code",
   "execution_count": 81,
   "id": "b1c3a132",
   "metadata": {},
   "outputs": [
    {
     "data": {
      "text/plain": [
       "False"
      ]
     },
     "execution_count": 81,
     "metadata": {},
     "output_type": "execute_result"
    }
   ],
   "source": [
    "10 != 10 "
   ]
  },
  {
   "cell_type": "markdown",
   "id": "e7f0201e",
   "metadata": {},
   "source": [
    "### Logical Operators\n",
    "\n",
    "1. **Logical and**\n",
    "2. **Logical or**\n",
    "3. **Logical not**"
   ]
  },
  {
   "cell_type": "raw",
   "id": "641d9e2d",
   "metadata": {},
   "source": [
    "Logical and returns TRUE if both statements are TRUE , False Otherwise\n",
    "\n",
    "St1.     St2    Result \n",
    "\n",
    "True     True.  True \n",
    "True     False  False \n",
    "False.   True   False \n",
    "False.   False  False"
   ]
  },
  {
   "cell_type": "code",
   "execution_count": 82,
   "id": "0f8755f1",
   "metadata": {},
   "outputs": [],
   "source": [
    "a = 23 \n",
    "b = 45 "
   ]
  },
  {
   "cell_type": "code",
   "execution_count": 84,
   "id": "a046a823",
   "metadata": {},
   "outputs": [
    {
     "data": {
      "text/plain": [
       "True"
      ]
     },
     "execution_count": 84,
     "metadata": {},
     "output_type": "execute_result"
    }
   ],
   "source": [
    "a > 20 and b > 23 # true and true "
   ]
  },
  {
   "cell_type": "code",
   "execution_count": 85,
   "id": "c8498cee",
   "metadata": {},
   "outputs": [
    {
     "data": {
      "text/plain": [
       "False"
      ]
     },
     "execution_count": 85,
     "metadata": {},
     "output_type": "execute_result"
    }
   ],
   "source": [
    "a > 20 and b > 50 # true and False"
   ]
  },
  {
   "cell_type": "code",
   "execution_count": 86,
   "id": "283da9a4",
   "metadata": {},
   "outputs": [
    {
     "data": {
      "text/plain": [
       "False"
      ]
     },
     "execution_count": 86,
     "metadata": {},
     "output_type": "execute_result"
    }
   ],
   "source": [
    "a > 45 and a < 50 # false and true "
   ]
  },
  {
   "cell_type": "code",
   "execution_count": 87,
   "id": "72d5d07d",
   "metadata": {},
   "outputs": [
    {
     "data": {
      "text/plain": [
       "False"
      ]
     },
     "execution_count": 87,
     "metadata": {},
     "output_type": "execute_result"
    }
   ],
   "source": [
    "a > 45 and b > 45 # false and false"
   ]
  },
  {
   "cell_type": "markdown",
   "id": "a890140e",
   "metadata": {},
   "source": [
    "#### logical or "
   ]
  },
  {
   "cell_type": "raw",
   "id": "aab1c627",
   "metadata": {},
   "source": [
    "It returns TRUE if one of the statement is TRUE \n",
    "\n",
    "\n",
    "St1.     St2    Result \n",
    "\n",
    "True     True.  True \n",
    "True     False  True \n",
    "False.   True   True  \n",
    "False.   False  False\n"
   ]
  },
  {
   "cell_type": "code",
   "execution_count": 88,
   "id": "eee086c0",
   "metadata": {},
   "outputs": [
    {
     "data": {
      "text/plain": [
       "True"
      ]
     },
     "execution_count": 88,
     "metadata": {},
     "output_type": "execute_result"
    }
   ],
   "source": [
    "a > 20 or  b > 23 # true or  true "
   ]
  },
  {
   "cell_type": "code",
   "execution_count": 89,
   "id": "56490351",
   "metadata": {},
   "outputs": [
    {
     "data": {
      "text/plain": [
       "True"
      ]
     },
     "execution_count": 89,
     "metadata": {},
     "output_type": "execute_result"
    }
   ],
   "source": [
    "a > 20 or b > 50 # true or False"
   ]
  },
  {
   "cell_type": "code",
   "execution_count": 90,
   "id": "0e2b39a2",
   "metadata": {},
   "outputs": [
    {
     "data": {
      "text/plain": [
       "True"
      ]
     },
     "execution_count": 90,
     "metadata": {},
     "output_type": "execute_result"
    }
   ],
   "source": [
    "a > 45 or  a < 50 # false or  true "
   ]
  },
  {
   "cell_type": "code",
   "execution_count": 91,
   "id": "e7325eb8",
   "metadata": {},
   "outputs": [
    {
     "data": {
      "text/plain": [
       "False"
      ]
     },
     "execution_count": 91,
     "metadata": {},
     "output_type": "execute_result"
    }
   ],
   "source": [
    "a > 45 or b > 45 # false or false"
   ]
  },
  {
   "cell_type": "markdown",
   "id": "0333e0f3",
   "metadata": {},
   "source": [
    "#### Logical not "
   ]
  },
  {
   "cell_type": "raw",
   "id": "f13ac3f3",
   "metadata": {},
   "source": [
    "It returns reverse of a result "
   ]
  },
  {
   "cell_type": "code",
   "execution_count": 92,
   "id": "d2bebede",
   "metadata": {},
   "outputs": [
    {
     "data": {
      "text/plain": [
       "True"
      ]
     },
     "execution_count": 92,
     "metadata": {},
     "output_type": "execute_result"
    }
   ],
   "source": [
    "not(12 > 34)"
   ]
  },
  {
   "cell_type": "code",
   "execution_count": 93,
   "id": "69d6a8c1",
   "metadata": {},
   "outputs": [
    {
     "data": {
      "text/plain": [
       "False"
      ]
     },
     "execution_count": 93,
     "metadata": {},
     "output_type": "execute_result"
    }
   ],
   "source": [
    "not(20 > 5)"
   ]
  },
  {
   "cell_type": "markdown",
   "id": "ef80a200",
   "metadata": {},
   "source": [
    "### Membership operators"
   ]
  },
  {
   "cell_type": "raw",
   "id": "fcb3ccbe",
   "metadata": {},
   "source": [
    "Membership operators in python are used to test if a sequence (string,list, tuple,set) contains a specific values .\n",
    "\n",
    "1. in : Returns true if the value is found in the sequence ,False otherwise\n",
    "\n",
    "2. Not in : Returns True if the value is not found in the sequence , Flase otherwise "
   ]
  },
  {
   "cell_type": "code",
   "execution_count": 95,
   "id": "95df5b98",
   "metadata": {},
   "outputs": [],
   "source": [
    "a = 'python is good programming language'"
   ]
  },
  {
   "cell_type": "code",
   "execution_count": 96,
   "id": "41033dbb",
   "metadata": {},
   "outputs": [
    {
     "data": {
      "text/plain": [
       "True"
      ]
     },
     "execution_count": 96,
     "metadata": {},
     "output_type": "execute_result"
    }
   ],
   "source": [
    "'python' in a "
   ]
  },
  {
   "cell_type": "code",
   "execution_count": 97,
   "id": "f5a9cd31",
   "metadata": {},
   "outputs": [
    {
     "data": {
      "text/plain": [
       "False"
      ]
     },
     "execution_count": 97,
     "metadata": {},
     "output_type": "execute_result"
    }
   ],
   "source": [
    "'java' in a"
   ]
  },
  {
   "cell_type": "code",
   "execution_count": 98,
   "id": "7b78e90b",
   "metadata": {},
   "outputs": [
    {
     "data": {
      "text/plain": [
       "True"
      ]
     },
     "execution_count": 98,
     "metadata": {},
     "output_type": "execute_result"
    }
   ],
   "source": [
    "a = [34,6,7,8,21]\n",
    "21 in a"
   ]
  },
  {
   "cell_type": "code",
   "execution_count": 99,
   "id": "927aca5a",
   "metadata": {},
   "outputs": [
    {
     "data": {
      "text/plain": [
       "[34, 6, 7, 8, 21]"
      ]
     },
     "execution_count": 99,
     "metadata": {},
     "output_type": "execute_result"
    }
   ],
   "source": [
    "a"
   ]
  },
  {
   "cell_type": "code",
   "execution_count": 101,
   "id": "20f9f206",
   "metadata": {},
   "outputs": [
    {
     "data": {
      "text/plain": [
       "True"
      ]
     },
     "execution_count": 101,
     "metadata": {},
     "output_type": "execute_result"
    }
   ],
   "source": [
    "45 not in a"
   ]
  },
  {
   "cell_type": "code",
   "execution_count": 102,
   "id": "b722df8d",
   "metadata": {},
   "outputs": [
    {
     "data": {
      "text/plain": [
       "False"
      ]
     },
     "execution_count": 102,
     "metadata": {},
     "output_type": "execute_result"
    }
   ],
   "source": [
    "6 not in a "
   ]
  },
  {
   "cell_type": "code",
   "execution_count": 103,
   "id": "15b1d658",
   "metadata": {},
   "outputs": [
    {
     "data": {
      "text/plain": [
       "True"
      ]
     },
     "execution_count": 103,
     "metadata": {},
     "output_type": "execute_result"
    }
   ],
   "source": [
    "'java' not in a "
   ]
  },
  {
   "cell_type": "markdown",
   "id": "5ff0236e",
   "metadata": {},
   "source": [
    "'python' not in a "
   ]
  },
  {
   "cell_type": "code",
   "execution_count": 105,
   "id": "b6a7f331",
   "metadata": {},
   "outputs": [
    {
     "data": {
      "text/plain": [
       "[34, 6, 7, 8, 21]"
      ]
     },
     "execution_count": 105,
     "metadata": {},
     "output_type": "execute_result"
    }
   ],
   "source": [
    "a"
   ]
  },
  {
   "cell_type": "code",
   "execution_count": 106,
   "id": "12473946",
   "metadata": {},
   "outputs": [
    {
     "data": {
      "text/plain": [
       "False"
      ]
     },
     "execution_count": 106,
     "metadata": {},
     "output_type": "execute_result"
    }
   ],
   "source": [
    "a = 'python is good programming language'\n",
    "'python' not in a "
   ]
  },
  {
   "cell_type": "markdown",
   "id": "07aaf25f",
   "metadata": {},
   "source": [
    "### Identity Operators"
   ]
  },
  {
   "cell_type": "raw",
   "id": "82d425ad",
   "metadata": {},
   "source": [
    "Identity operators are used to compare memory locations of two objects.\n",
    "They check if two variables refer to the same object in memory\n",
    "\n",
    "1. is : Returns True if both variables point to the same object , False Otherwise\n",
    "\n",
    "2. is not : Returns True if both variables do not point to the same object , False otherwise"
   ]
  },
  {
   "cell_type": "code",
   "execution_count": 107,
   "id": "22f85c69",
   "metadata": {},
   "outputs": [],
   "source": [
    "a = 10 "
   ]
  },
  {
   "cell_type": "code",
   "execution_count": 108,
   "id": "0ffb3797",
   "metadata": {},
   "outputs": [
    {
     "data": {
      "text/plain": [
       "4312941072"
      ]
     },
     "execution_count": 108,
     "metadata": {},
     "output_type": "execute_result"
    }
   ],
   "source": [
    "id(a)"
   ]
  },
  {
   "cell_type": "code",
   "execution_count": 109,
   "id": "d51f969e",
   "metadata": {},
   "outputs": [],
   "source": [
    "b = 10 "
   ]
  },
  {
   "cell_type": "code",
   "execution_count": 110,
   "id": "253e5564",
   "metadata": {},
   "outputs": [
    {
     "data": {
      "text/plain": [
       "4312941072"
      ]
     },
     "execution_count": 110,
     "metadata": {},
     "output_type": "execute_result"
    }
   ],
   "source": [
    "id(b)"
   ]
  },
  {
   "cell_type": "code",
   "execution_count": 111,
   "id": "abe996c2",
   "metadata": {},
   "outputs": [
    {
     "data": {
      "text/plain": [
       "True"
      ]
     },
     "execution_count": 111,
     "metadata": {},
     "output_type": "execute_result"
    }
   ],
   "source": [
    "a is b "
   ]
  },
  {
   "cell_type": "code",
   "execution_count": 112,
   "id": "019cbfb5",
   "metadata": {},
   "outputs": [],
   "source": [
    "a = 456 \n",
    "b = 456"
   ]
  },
  {
   "cell_type": "code",
   "execution_count": 113,
   "id": "cbc9bf5f",
   "metadata": {},
   "outputs": [
    {
     "data": {
      "text/plain": [
       "False"
      ]
     },
     "execution_count": 113,
     "metadata": {},
     "output_type": "execute_result"
    }
   ],
   "source": [
    "a is b "
   ]
  },
  {
   "cell_type": "code",
   "execution_count": 114,
   "id": "e5f8169b",
   "metadata": {},
   "outputs": [
    {
     "data": {
      "text/plain": [
       "4392529744"
      ]
     },
     "execution_count": 114,
     "metadata": {},
     "output_type": "execute_result"
    }
   ],
   "source": [
    "id(a)"
   ]
  },
  {
   "cell_type": "code",
   "execution_count": 115,
   "id": "7b0cc028",
   "metadata": {},
   "outputs": [
    {
     "data": {
      "text/plain": [
       "4392532528"
      ]
     },
     "execution_count": 115,
     "metadata": {},
     "output_type": "execute_result"
    }
   ],
   "source": [
    "id(b)"
   ]
  },
  {
   "cell_type": "code",
   "execution_count": 116,
   "id": "8f236b79",
   "metadata": {},
   "outputs": [
    {
     "data": {
      "text/plain": [
       "True"
      ]
     },
     "execution_count": 116,
     "metadata": {},
     "output_type": "execute_result"
    }
   ],
   "source": [
    "a is not b "
   ]
  },
  {
   "cell_type": "code",
   "execution_count": 117,
   "id": "e73c1b5c",
   "metadata": {},
   "outputs": [],
   "source": [
    "a , b = 456, 456"
   ]
  },
  {
   "cell_type": "code",
   "execution_count": 118,
   "id": "bed0dfc7",
   "metadata": {},
   "outputs": [
    {
     "data": {
      "text/plain": [
       "4392532144"
      ]
     },
     "execution_count": 118,
     "metadata": {},
     "output_type": "execute_result"
    }
   ],
   "source": [
    "id(a)"
   ]
  },
  {
   "cell_type": "code",
   "execution_count": 119,
   "id": "11a926a0",
   "metadata": {},
   "outputs": [
    {
     "data": {
      "text/plain": [
       "4392532144"
      ]
     },
     "execution_count": 119,
     "metadata": {},
     "output_type": "execute_result"
    }
   ],
   "source": [
    "id(b)"
   ]
  },
  {
   "cell_type": "code",
   "execution_count": 120,
   "id": "ff10c45f",
   "metadata": {},
   "outputs": [
    {
     "data": {
      "text/plain": [
       "True"
      ]
     },
     "execution_count": 120,
     "metadata": {},
     "output_type": "execute_result"
    }
   ],
   "source": [
    "a is b "
   ]
  },
  {
   "cell_type": "code",
   "execution_count": 121,
   "id": "9b378939",
   "metadata": {},
   "outputs": [
    {
     "data": {
      "text/plain": [
       "False"
      ]
     },
     "execution_count": 121,
     "metadata": {},
     "output_type": "execute_result"
    }
   ],
   "source": [
    "a = 4567\n",
    "b = 4567\n",
    "a is b "
   ]
  },
  {
   "cell_type": "code",
   "execution_count": 122,
   "id": "a8a0a7f3",
   "metadata": {},
   "outputs": [
    {
     "data": {
      "text/plain": [
       "4392531344"
      ]
     },
     "execution_count": 122,
     "metadata": {},
     "output_type": "execute_result"
    }
   ],
   "source": [
    "id(a)"
   ]
  },
  {
   "cell_type": "code",
   "execution_count": 123,
   "id": "c660f60a",
   "metadata": {},
   "outputs": [
    {
     "data": {
      "text/plain": [
       "4392531888"
      ]
     },
     "execution_count": 123,
     "metadata": {},
     "output_type": "execute_result"
    }
   ],
   "source": [
    "id(b)"
   ]
  },
  {
   "cell_type": "code",
   "execution_count": 124,
   "id": "c04c4679",
   "metadata": {},
   "outputs": [],
   "source": [
    "a , b = 4567,4567"
   ]
  },
  {
   "cell_type": "code",
   "execution_count": 125,
   "id": "5df73c87",
   "metadata": {},
   "outputs": [
    {
     "data": {
      "text/plain": [
       "(4392529712, 4392529712)"
      ]
     },
     "execution_count": 125,
     "metadata": {},
     "output_type": "execute_result"
    }
   ],
   "source": [
    "id(a),id(b)"
   ]
  },
  {
   "cell_type": "markdown",
   "id": "b8b40cd4",
   "metadata": {},
   "source": [
    "## Bitwise Operators"
   ]
  },
  {
   "cell_type": "raw",
   "id": "555b7746",
   "metadata": {},
   "source": [
    "Bitwise Operators:\n",
    "\n",
    "Bitwise Operators Performs operation on Binary Data.\n",
    "\n",
    "Bitwise Operators:\n",
    "\n",
    "1. Bitwise and\n",
    "2. Bitwise or\n",
    "3. Bitwise not\n",
    "4. Bitwise XOR\n",
    "5. Bitwise Left Shift \n",
    "6. Bitwise Right Shift"
   ]
  },
  {
   "cell_type": "code",
   "execution_count": 126,
   "id": "03bef1a8",
   "metadata": {},
   "outputs": [],
   "source": [
    "a = 4"
   ]
  },
  {
   "cell_type": "code",
   "execution_count": 127,
   "id": "6018f81d",
   "metadata": {},
   "outputs": [
    {
     "data": {
      "text/plain": [
       "'0b100'"
      ]
     },
     "execution_count": 127,
     "metadata": {},
     "output_type": "execute_result"
    }
   ],
   "source": [
    "bin(a)"
   ]
  },
  {
   "cell_type": "markdown",
   "id": "696e27c9",
   "metadata": {},
   "source": [
    "#### Bitwise and ( & )\n",
    "1. Returns 1 if both bits are 1"
   ]
  },
  {
   "cell_type": "code",
   "execution_count": 128,
   "id": "07113b43",
   "metadata": {},
   "outputs": [],
   "source": [
    "a = 2\n",
    "b = 3"
   ]
  },
  {
   "cell_type": "code",
   "execution_count": 129,
   "id": "6fca97dc",
   "metadata": {},
   "outputs": [
    {
     "data": {
      "text/plain": [
       "2"
      ]
     },
     "execution_count": 129,
     "metadata": {},
     "output_type": "execute_result"
    }
   ],
   "source": [
    "a & b"
   ]
  },
  {
   "cell_type": "code",
   "execution_count": 130,
   "id": "ae7cfcea",
   "metadata": {},
   "outputs": [
    {
     "data": {
      "text/plain": [
       "'0b10'"
      ]
     },
     "execution_count": 130,
     "metadata": {},
     "output_type": "execute_result"
    }
   ],
   "source": [
    "bin(a)"
   ]
  },
  {
   "cell_type": "code",
   "execution_count": 131,
   "id": "0759ebcd",
   "metadata": {},
   "outputs": [
    {
     "data": {
      "text/plain": [
       "'0b11'"
      ]
     },
     "execution_count": 131,
     "metadata": {},
     "output_type": "execute_result"
    }
   ],
   "source": [
    "bin(b)"
   ]
  },
  {
   "cell_type": "code",
   "execution_count": 132,
   "id": "f68cca64",
   "metadata": {},
   "outputs": [
    {
     "data": {
      "text/plain": [
       "2"
      ]
     },
     "execution_count": 132,
     "metadata": {},
     "output_type": "execute_result"
    }
   ],
   "source": [
    "a & b"
   ]
  },
  {
   "cell_type": "markdown",
   "id": "4b38b72a",
   "metadata": {},
   "source": [
    "#### Bitwise or ( | )\n",
    "\n",
    "1. Returns 1 , if one of the bits is 1 "
   ]
  },
  {
   "cell_type": "code",
   "execution_count": 133,
   "id": "bf0d5c1a",
   "metadata": {},
   "outputs": [],
   "source": [
    "a = 4\n",
    "b = 5"
   ]
  },
  {
   "cell_type": "code",
   "execution_count": 134,
   "id": "57cfa61c",
   "metadata": {},
   "outputs": [
    {
     "data": {
      "text/plain": [
       "5"
      ]
     },
     "execution_count": 134,
     "metadata": {},
     "output_type": "execute_result"
    }
   ],
   "source": [
    "a | b"
   ]
  },
  {
   "cell_type": "code",
   "execution_count": 135,
   "id": "06ed073f",
   "metadata": {},
   "outputs": [
    {
     "data": {
      "text/plain": [
       "7"
      ]
     },
     "execution_count": 135,
     "metadata": {},
     "output_type": "execute_result"
    }
   ],
   "source": [
    "5 | 7"
   ]
  },
  {
   "cell_type": "markdown",
   "id": "27810ee0",
   "metadata": {},
   "source": [
    "#### Bitwise Not ( ~ )"
   ]
  },
  {
   "cell_type": "code",
   "execution_count": 136,
   "id": "4dd8fe1f",
   "metadata": {},
   "outputs": [],
   "source": [
    "a = 2"
   ]
  },
  {
   "cell_type": "code",
   "execution_count": 137,
   "id": "61fc97b9",
   "metadata": {},
   "outputs": [
    {
     "data": {
      "text/plain": [
       "-3"
      ]
     },
     "execution_count": 137,
     "metadata": {},
     "output_type": "execute_result"
    }
   ],
   "source": [
    "~a"
   ]
  },
  {
   "cell_type": "code",
   "execution_count": 138,
   "id": "922d0c22",
   "metadata": {},
   "outputs": [
    {
     "data": {
      "text/plain": [
       "-8"
      ]
     },
     "execution_count": 138,
     "metadata": {},
     "output_type": "execute_result"
    }
   ],
   "source": [
    "b = 7 \n",
    "~b"
   ]
  },
  {
   "cell_type": "code",
   "execution_count": 139,
   "id": "23b10e8f",
   "metadata": {},
   "outputs": [],
   "source": [
    "# -(n+1) - n is number"
   ]
  },
  {
   "cell_type": "code",
   "execution_count": 140,
   "id": "b5a5a87f",
   "metadata": {},
   "outputs": [
    {
     "data": {
      "text/plain": [
       "-5"
      ]
     },
     "execution_count": 140,
     "metadata": {},
     "output_type": "execute_result"
    }
   ],
   "source": [
    "a = 4 \n",
    "\n",
    "~(a) # -(n+1)"
   ]
  },
  {
   "cell_type": "markdown",
   "id": "d6d530bf",
   "metadata": {},
   "source": [
    "#### Bitwise XOR ( ^ ) - Exclusive or"
   ]
  },
  {
   "cell_type": "code",
   "execution_count": 141,
   "id": "e024074c",
   "metadata": {},
   "outputs": [],
   "source": [
    "a = 7 \n",
    "b = 8 "
   ]
  },
  {
   "cell_type": "code",
   "execution_count": 142,
   "id": "79434752",
   "metadata": {},
   "outputs": [
    {
     "data": {
      "text/plain": [
       "15"
      ]
     },
     "execution_count": 142,
     "metadata": {},
     "output_type": "execute_result"
    }
   ],
   "source": [
    "a ^ b"
   ]
  },
  {
   "cell_type": "code",
   "execution_count": 143,
   "id": "69419db9",
   "metadata": {},
   "outputs": [
    {
     "data": {
      "text/plain": [
       "1"
      ]
     },
     "execution_count": 143,
     "metadata": {},
     "output_type": "execute_result"
    }
   ],
   "source": [
    "2 ^ 3"
   ]
  },
  {
   "cell_type": "markdown",
   "id": "f83b064c",
   "metadata": {},
   "source": [
    "#### Bitwise Left Shift ( << ) - Shift bits to the left side"
   ]
  },
  {
   "cell_type": "code",
   "execution_count": 144,
   "id": "8ba215ac",
   "metadata": {},
   "outputs": [],
   "source": [
    "a = 8"
   ]
  },
  {
   "cell_type": "code",
   "execution_count": 145,
   "id": "cc8b0ed5",
   "metadata": {},
   "outputs": [
    {
     "data": {
      "text/plain": [
       "'0b1000'"
      ]
     },
     "execution_count": 145,
     "metadata": {},
     "output_type": "execute_result"
    }
   ],
   "source": [
    "bin(a)"
   ]
  },
  {
   "cell_type": "code",
   "execution_count": 146,
   "id": "d96a91f5",
   "metadata": {},
   "outputs": [
    {
     "data": {
      "text/plain": [
       "32"
      ]
     },
     "execution_count": 146,
     "metadata": {},
     "output_type": "execute_result"
    }
   ],
   "source": [
    "a << 2"
   ]
  },
  {
   "cell_type": "code",
   "execution_count": 147,
   "id": "05a1fbc1",
   "metadata": {},
   "outputs": [
    {
     "data": {
      "text/plain": [
       "12"
      ]
     },
     "execution_count": 147,
     "metadata": {},
     "output_type": "execute_result"
    }
   ],
   "source": [
    "3 << 2"
   ]
  },
  {
   "cell_type": "markdown",
   "id": "efb13888",
   "metadata": {},
   "source": [
    "#### Bitwise Right shift ( > >)"
   ]
  },
  {
   "cell_type": "code",
   "execution_count": 148,
   "id": "d62a6646",
   "metadata": {},
   "outputs": [],
   "source": [
    "a = 6"
   ]
  },
  {
   "cell_type": "code",
   "execution_count": 149,
   "id": "16dc1247",
   "metadata": {},
   "outputs": [
    {
     "data": {
      "text/plain": [
       "'0b110'"
      ]
     },
     "execution_count": 149,
     "metadata": {},
     "output_type": "execute_result"
    }
   ],
   "source": [
    "bin(a)"
   ]
  },
  {
   "cell_type": "code",
   "execution_count": 150,
   "id": "4db0ce3d",
   "metadata": {},
   "outputs": [
    {
     "data": {
      "text/plain": [
       "1"
      ]
     },
     "execution_count": 150,
     "metadata": {},
     "output_type": "execute_result"
    }
   ],
   "source": [
    "a >> 2"
   ]
  },
  {
   "cell_type": "code",
   "execution_count": 151,
   "id": "0421418b",
   "metadata": {},
   "outputs": [
    {
     "data": {
      "text/plain": [
       "0"
      ]
     },
     "execution_count": 151,
     "metadata": {},
     "output_type": "execute_result"
    }
   ],
   "source": [
    "a >> 3"
   ]
  },
  {
   "cell_type": "markdown",
   "id": "7491c971",
   "metadata": {},
   "source": [
    "# Strings"
   ]
  },
  {
   "cell_type": "raw",
   "id": "dbd0845c",
   "metadata": {},
   "source": [
    "1. String is a collection of character (or) sequence of characters written with ' ' (or) \" \" (or) ''' '''\n",
    "2. String is Immutable\n",
    "3. String can be treated as an array"
   ]
  },
  {
   "cell_type": "code",
   "execution_count": 152,
   "id": "e15ee559",
   "metadata": {},
   "outputs": [],
   "source": [
    "a = 'python'"
   ]
  },
  {
   "cell_type": "code",
   "execution_count": 153,
   "id": "08f60dfc",
   "metadata": {},
   "outputs": [
    {
     "data": {
      "text/plain": [
       "str"
      ]
     },
     "execution_count": 153,
     "metadata": {},
     "output_type": "execute_result"
    }
   ],
   "source": [
    "type(a)"
   ]
  },
  {
   "cell_type": "code",
   "execution_count": 154,
   "id": "3154f9db",
   "metadata": {},
   "outputs": [],
   "source": [
    "a = \"programming\""
   ]
  },
  {
   "cell_type": "code",
   "execution_count": 155,
   "id": "e0a0b140",
   "metadata": {},
   "outputs": [
    {
     "data": {
      "text/plain": [
       "str"
      ]
     },
     "execution_count": 155,
     "metadata": {},
     "output_type": "execute_result"
    }
   ],
   "source": [
    "type(a)"
   ]
  },
  {
   "cell_type": "code",
   "execution_count": 156,
   "id": "bb105a6c",
   "metadata": {},
   "outputs": [],
   "source": [
    "data = 'python is good'"
   ]
  },
  {
   "cell_type": "code",
   "execution_count": 157,
   "id": "81f6ac38",
   "metadata": {},
   "outputs": [],
   "source": [
    "# string addition "
   ]
  },
  {
   "cell_type": "code",
   "execution_count": 158,
   "id": "cec11567",
   "metadata": {},
   "outputs": [],
   "source": [
    "a = 'Data'\n",
    "b = 'Science'"
   ]
  },
  {
   "cell_type": "code",
   "execution_count": 159,
   "id": "313c1711",
   "metadata": {},
   "outputs": [
    {
     "data": {
      "text/plain": [
       "'DataScience'"
      ]
     },
     "execution_count": 159,
     "metadata": {},
     "output_type": "execute_result"
    }
   ],
   "source": [
    "a + b"
   ]
  },
  {
   "cell_type": "code",
   "execution_count": 160,
   "id": "20c8c197",
   "metadata": {},
   "outputs": [
    {
     "data": {
      "text/plain": [
       "'Data Science'"
      ]
     },
     "execution_count": 160,
     "metadata": {},
     "output_type": "execute_result"
    }
   ],
   "source": [
    "a + ' ' + b"
   ]
  },
  {
   "cell_type": "code",
   "execution_count": 162,
   "id": "6eea2472",
   "metadata": {},
   "outputs": [
    {
     "data": {
      "text/plain": [
       "'DataTeach Hyderabad'"
      ]
     },
     "execution_count": 162,
     "metadata": {},
     "output_type": "execute_result"
    }
   ],
   "source": [
    "'DataTeach' + ' ' + 'Hyderabad'"
   ]
  },
  {
   "cell_type": "code",
   "execution_count": 163,
   "id": "1377c9f6",
   "metadata": {},
   "outputs": [],
   "source": [
    "# string multiplication"
   ]
  },
  {
   "cell_type": "code",
   "execution_count": 165,
   "id": "44a302ba",
   "metadata": {},
   "outputs": [
    {
     "data": {
      "text/plain": [
       "'DataTeach DataTeach DataTeach '"
      ]
     },
     "execution_count": 165,
     "metadata": {},
     "output_type": "execute_result"
    }
   ],
   "source": [
    "'DataTeach ' * 3"
   ]
  },
  {
   "cell_type": "code",
   "execution_count": 166,
   "id": "1705e893",
   "metadata": {},
   "outputs": [
    {
     "data": {
      "text/plain": [
       "'satya satya satya satya satya satya satya satya satya satya '"
      ]
     },
     "execution_count": 166,
     "metadata": {},
     "output_type": "execute_result"
    }
   ],
   "source": [
    "'satya ' * 10 "
   ]
  },
  {
   "cell_type": "code",
   "execution_count": 167,
   "id": "e3bd71e1",
   "metadata": {},
   "outputs": [],
   "source": [
    "a = 'Data Science'"
   ]
  },
  {
   "cell_type": "code",
   "execution_count": 168,
   "id": "e2ddcf4b",
   "metadata": {},
   "outputs": [
    {
     "name": "stdout",
     "output_type": "stream",
     "text": [
      "Data Science\n"
     ]
    }
   ],
   "source": [
    "print(a)"
   ]
  },
  {
   "cell_type": "code",
   "execution_count": 169,
   "id": "0532a0bf",
   "metadata": {},
   "outputs": [],
   "source": [
    "a = '@567data'"
   ]
  },
  {
   "cell_type": "code",
   "execution_count": 170,
   "id": "81724c58",
   "metadata": {},
   "outputs": [
    {
     "data": {
      "text/plain": [
       "str"
      ]
     },
     "execution_count": 170,
     "metadata": {},
     "output_type": "execute_result"
    }
   ],
   "source": [
    "type(a)"
   ]
  },
  {
   "cell_type": "markdown",
   "id": "5e74efa8",
   "metadata": {},
   "source": [
    "#### String as an array"
   ]
  },
  {
   "cell_type": "raw",
   "id": "dc285259",
   "metadata": {},
   "source": [
    "1. String can be treated as an array\n",
    "2. String characters can be accessed by referring to their index values\n",
    "\n",
    "Syntax: String [ index ]\n",
    "\n",
    "Ex : a[0]"
   ]
  },
  {
   "cell_type": "code",
   "execution_count": 171,
   "id": "33fea5e6",
   "metadata": {},
   "outputs": [],
   "source": [
    "a = 'programming'"
   ]
  },
  {
   "cell_type": "code",
   "execution_count": 172,
   "id": "fdff70a3",
   "metadata": {},
   "outputs": [
    {
     "data": {
      "text/plain": [
       "'p'"
      ]
     },
     "execution_count": 172,
     "metadata": {},
     "output_type": "execute_result"
    }
   ],
   "source": [
    "a[0]"
   ]
  },
  {
   "cell_type": "code",
   "execution_count": 173,
   "id": "0efe544c",
   "metadata": {},
   "outputs": [
    {
     "data": {
      "text/plain": [
       "'r'"
      ]
     },
     "execution_count": 173,
     "metadata": {},
     "output_type": "execute_result"
    }
   ],
   "source": [
    "a[1]"
   ]
  },
  {
   "cell_type": "code",
   "execution_count": 174,
   "id": "43c99c4c",
   "metadata": {},
   "outputs": [
    {
     "data": {
      "text/plain": [
       "'g'"
      ]
     },
     "execution_count": 174,
     "metadata": {},
     "output_type": "execute_result"
    }
   ],
   "source": [
    "a[-1]"
   ]
  },
  {
   "cell_type": "code",
   "execution_count": 175,
   "id": "9969c19c",
   "metadata": {},
   "outputs": [
    {
     "data": {
      "text/plain": [
       "'m'"
      ]
     },
     "execution_count": 175,
     "metadata": {},
     "output_type": "execute_result"
    }
   ],
   "source": [
    "a[-4]"
   ]
  },
  {
   "cell_type": "markdown",
   "id": "cc792b5b",
   "metadata": {},
   "source": [
    "### String Slicing"
   ]
  },
  {
   "cell_type": "raw",
   "id": "6a78ef1e",
   "metadata": {},
   "source": [
    "String Slicing : Accessing a part or portion of a string by referring to range of index\n",
    "\n",
    "Syntax:  String [ Start_index: End_Index]\n",
    "\n",
    "note: End index is not included"
   ]
  },
  {
   "cell_type": "code",
   "execution_count": 176,
   "id": "370d7427",
   "metadata": {},
   "outputs": [],
   "source": [
    "a = 'programming'"
   ]
  },
  {
   "cell_type": "code",
   "execution_count": 177,
   "id": "cca532e3",
   "metadata": {},
   "outputs": [
    {
     "data": {
      "text/plain": [
       "'pro'"
      ]
     },
     "execution_count": 177,
     "metadata": {},
     "output_type": "execute_result"
    }
   ],
   "source": [
    "a[0:3]"
   ]
  },
  {
   "cell_type": "code",
   "execution_count": 178,
   "id": "ab49bf64",
   "metadata": {},
   "outputs": [
    {
     "data": {
      "text/plain": [
       "'progr'"
      ]
     },
     "execution_count": 178,
     "metadata": {},
     "output_type": "execute_result"
    }
   ],
   "source": [
    "a[0:5]"
   ]
  },
  {
   "cell_type": "code",
   "execution_count": 179,
   "id": "1ef2acf9",
   "metadata": {},
   "outputs": [
    {
     "data": {
      "text/plain": [
       "'gra'"
      ]
     },
     "execution_count": 179,
     "metadata": {},
     "output_type": "execute_result"
    }
   ],
   "source": [
    "a[3:6]"
   ]
  },
  {
   "cell_type": "code",
   "execution_count": 180,
   "id": "fdea2977",
   "metadata": {},
   "outputs": [
    {
     "data": {
      "text/plain": [
       "'amming'"
      ]
     },
     "execution_count": 180,
     "metadata": {},
     "output_type": "execute_result"
    }
   ],
   "source": [
    "a[5:]"
   ]
  },
  {
   "cell_type": "code",
   "execution_count": 181,
   "id": "81d4eeab",
   "metadata": {},
   "outputs": [
    {
     "data": {
      "text/plain": [
       "'rogr'"
      ]
     },
     "execution_count": 181,
     "metadata": {},
     "output_type": "execute_result"
    }
   ],
   "source": [
    "a[-10:-6]"
   ]
  },
  {
   "cell_type": "code",
   "execution_count": 182,
   "id": "31db4982",
   "metadata": {},
   "outputs": [],
   "source": [
    "a = 'programming'"
   ]
  },
  {
   "cell_type": "code",
   "execution_count": 184,
   "id": "7c838403",
   "metadata": {},
   "outputs": [
    {
     "data": {
      "text/plain": [
       "'pro'"
      ]
     },
     "execution_count": 184,
     "metadata": {},
     "output_type": "execute_result"
    }
   ],
   "source": [
    "a[0:3]"
   ]
  },
  {
   "cell_type": "code",
   "execution_count": 187,
   "id": "21a8136f",
   "metadata": {},
   "outputs": [
    {
     "data": {
      "text/plain": [
       "'pro'"
      ]
     },
     "execution_count": 187,
     "metadata": {},
     "output_type": "execute_result"
    }
   ],
   "source": [
    "a[:3] # a[0:3]"
   ]
  },
  {
   "cell_type": "code",
   "execution_count": 188,
   "id": "e6959024",
   "metadata": {},
   "outputs": [
    {
     "data": {
      "text/plain": [
       "'programming'"
      ]
     },
     "execution_count": 188,
     "metadata": {},
     "output_type": "execute_result"
    }
   ],
   "source": [
    "a[:]"
   ]
  },
  {
   "cell_type": "code",
   "execution_count": 189,
   "id": "df526ec5",
   "metadata": {},
   "outputs": [
    {
     "data": {
      "text/plain": [
       "'programming'"
      ]
     },
     "execution_count": 189,
     "metadata": {},
     "output_type": "execute_result"
    }
   ],
   "source": [
    "a[::]"
   ]
  },
  {
   "cell_type": "code",
   "execution_count": 190,
   "id": "16910e2b",
   "metadata": {},
   "outputs": [
    {
     "data": {
      "text/plain": [
       "'gnimmargorp'"
      ]
     },
     "execution_count": 190,
     "metadata": {},
     "output_type": "execute_result"
    }
   ],
   "source": [
    "a[::-1]"
   ]
  },
  {
   "cell_type": "code",
   "execution_count": 192,
   "id": "068f070d",
   "metadata": {},
   "outputs": [
    {
     "data": {
      "text/plain": [
       "'ing'"
      ]
     },
     "execution_count": 192,
     "metadata": {},
     "output_type": "execute_result"
    }
   ],
   "source": [
    "#last 3 characters \n",
    "a[-3:]"
   ]
  },
  {
   "cell_type": "code",
   "execution_count": 195,
   "id": "cc6c092f",
   "metadata": {},
   "outputs": [
    {
     "data": {
      "text/plain": [
       "'ing'"
      ]
     },
     "execution_count": 195,
     "metadata": {},
     "output_type": "execute_result"
    }
   ],
   "source": [
    "a[-3:]"
   ]
  },
  {
   "cell_type": "code",
   "execution_count": 196,
   "id": "dcfbc556",
   "metadata": {},
   "outputs": [],
   "source": [
    "#access first 3 characters "
   ]
  },
  {
   "cell_type": "code",
   "execution_count": 197,
   "id": "70d97e17",
   "metadata": {},
   "outputs": [
    {
     "data": {
      "text/plain": [
       "'pro'"
      ]
     },
     "execution_count": 197,
     "metadata": {},
     "output_type": "execute_result"
    }
   ],
   "source": [
    "a[:3]"
   ]
  },
  {
   "cell_type": "code",
   "execution_count": 198,
   "id": "b49b7841",
   "metadata": {},
   "outputs": [
    {
     "data": {
      "text/plain": [
       "'progr'"
      ]
     },
     "execution_count": 198,
     "metadata": {},
     "output_type": "execute_result"
    }
   ],
   "source": [
    "a[:5]"
   ]
  },
  {
   "cell_type": "code",
   "execution_count": 199,
   "id": "8814ca2a",
   "metadata": {},
   "outputs": [
    {
     "data": {
      "text/plain": [
       "'programming'"
      ]
     },
     "execution_count": 199,
     "metadata": {},
     "output_type": "execute_result"
    }
   ],
   "source": [
    "a"
   ]
  },
  {
   "cell_type": "code",
   "execution_count": 200,
   "id": "870df368",
   "metadata": {},
   "outputs": [
    {
     "data": {
      "text/plain": [
       "'pormi'"
      ]
     },
     "execution_count": 200,
     "metadata": {},
     "output_type": "execute_result"
    }
   ],
   "source": [
    "a[0:9:2]"
   ]
  },
  {
   "cell_type": "code",
   "execution_count": 201,
   "id": "2bff8011",
   "metadata": {},
   "outputs": [
    {
     "data": {
      "text/plain": [
       "'pgm'"
      ]
     },
     "execution_count": 201,
     "metadata": {},
     "output_type": "execute_result"
    }
   ],
   "source": [
    "a[0:9:3]"
   ]
  },
  {
   "cell_type": "code",
   "execution_count": 202,
   "id": "4bc50ebb",
   "metadata": {},
   "outputs": [
    {
     "data": {
      "text/plain": [
       "'gnimmargorp'"
      ]
     },
     "execution_count": 202,
     "metadata": {},
     "output_type": "execute_result"
    }
   ],
   "source": [
    "a[::-1]"
   ]
  },
  {
   "cell_type": "markdown",
   "id": "f0cfa389",
   "metadata": {},
   "source": [
    "## String Methods"
   ]
  },
  {
   "cell_type": "markdown",
   "id": "199f3ea6",
   "metadata": {},
   "source": [
    "### upper( )"
   ]
  },
  {
   "cell_type": "code",
   "execution_count": 203,
   "id": "23aa3481",
   "metadata": {},
   "outputs": [],
   "source": [
    "a = 'programming'"
   ]
  },
  {
   "cell_type": "code",
   "execution_count": 204,
   "id": "8fc4544f",
   "metadata": {},
   "outputs": [
    {
     "data": {
      "text/plain": [
       "'PROGRAMMING'"
      ]
     },
     "execution_count": 204,
     "metadata": {},
     "output_type": "execute_result"
    }
   ],
   "source": [
    "a.upper()"
   ]
  },
  {
   "cell_type": "code",
   "execution_count": 205,
   "id": "470f65d1",
   "metadata": {},
   "outputs": [
    {
     "name": "stdout",
     "output_type": "stream",
     "text": [
      "Help on method_descriptor:\n",
      "\n",
      "upper(self, /)\n",
      "    Return a copy of the string converted to uppercase.\n",
      "\n",
      "None\n"
     ]
    }
   ],
   "source": [
    "print(help(str.upper))"
   ]
  },
  {
   "cell_type": "markdown",
   "id": "1add0085",
   "metadata": {},
   "source": [
    "### lower ( ) "
   ]
  },
  {
   "cell_type": "code",
   "execution_count": 206,
   "id": "ea79cd9b",
   "metadata": {},
   "outputs": [],
   "source": [
    "b = 'PROGRAMMING'"
   ]
  },
  {
   "cell_type": "code",
   "execution_count": 207,
   "id": "27a4bd9e",
   "metadata": {},
   "outputs": [
    {
     "data": {
      "text/plain": [
       "'programming'"
      ]
     },
     "execution_count": 207,
     "metadata": {},
     "output_type": "execute_result"
    }
   ],
   "source": [
    "b.lower()"
   ]
  },
  {
   "cell_type": "code",
   "execution_count": 208,
   "id": "277e759c",
   "metadata": {},
   "outputs": [
    {
     "name": "stdout",
     "output_type": "stream",
     "text": [
      "Help on method_descriptor:\n",
      "\n",
      "lower(self, /)\n",
      "    Return a copy of the string converted to lowercase.\n",
      "\n",
      "None\n"
     ]
    }
   ],
   "source": [
    "print(help(str.lower))"
   ]
  },
  {
   "cell_type": "markdown",
   "id": "59e3c7ad",
   "metadata": {},
   "source": [
    "### capitalize( )"
   ]
  },
  {
   "cell_type": "code",
   "execution_count": 209,
   "id": "4a811e5f",
   "metadata": {},
   "outputs": [],
   "source": [
    "a = 'programming'"
   ]
  },
  {
   "cell_type": "code",
   "execution_count": 210,
   "id": "7d40b0f1",
   "metadata": {},
   "outputs": [
    {
     "data": {
      "text/plain": [
       "'Programming'"
      ]
     },
     "execution_count": 210,
     "metadata": {},
     "output_type": "execute_result"
    }
   ],
   "source": [
    "a.capitalize()"
   ]
  },
  {
   "cell_type": "code",
   "execution_count": 211,
   "id": "6c6580d1",
   "metadata": {},
   "outputs": [],
   "source": [
    "a = 'python is good programming language'"
   ]
  },
  {
   "cell_type": "code",
   "execution_count": 212,
   "id": "1b9f6faa",
   "metadata": {},
   "outputs": [
    {
     "data": {
      "text/plain": [
       "'Python is good programming language'"
      ]
     },
     "execution_count": 212,
     "metadata": {},
     "output_type": "execute_result"
    }
   ],
   "source": [
    "a.capitalize()"
   ]
  },
  {
   "cell_type": "code",
   "execution_count": 213,
   "id": "25c75234",
   "metadata": {},
   "outputs": [],
   "source": [
    "a = 'ProGrammInG'"
   ]
  },
  {
   "cell_type": "code",
   "execution_count": 214,
   "id": "cb9e7f1d",
   "metadata": {},
   "outputs": [
    {
     "data": {
      "text/plain": [
       "'Programming'"
      ]
     },
     "execution_count": 214,
     "metadata": {},
     "output_type": "execute_result"
    }
   ],
   "source": [
    "a.capitalize()"
   ]
  },
  {
   "cell_type": "markdown",
   "id": "40d63ad3",
   "metadata": {},
   "source": [
    "### title( )"
   ]
  },
  {
   "cell_type": "code",
   "execution_count": 215,
   "id": "58016fae",
   "metadata": {},
   "outputs": [],
   "source": [
    "a = 'python programming is good'"
   ]
  },
  {
   "cell_type": "code",
   "execution_count": 216,
   "id": "f948e88d",
   "metadata": {},
   "outputs": [
    {
     "data": {
      "text/plain": [
       "'Python Programming Is Good'"
      ]
     },
     "execution_count": 216,
     "metadata": {},
     "output_type": "execute_result"
    }
   ],
   "source": [
    "a.title()"
   ]
  },
  {
   "cell_type": "code",
   "execution_count": 217,
   "id": "f8c83373",
   "metadata": {},
   "outputs": [
    {
     "name": "stdout",
     "output_type": "stream",
     "text": [
      "Help on method_descriptor:\n",
      "\n",
      "title(self, /)\n",
      "    Return a version of the string where each word is titlecased.\n",
      "    \n",
      "    More specifically, words start with uppercased characters and all remaining\n",
      "    cased characters have lower case.\n",
      "\n",
      "None\n"
     ]
    }
   ],
   "source": [
    "print(help(str.title))"
   ]
  },
  {
   "cell_type": "markdown",
   "id": "7c311c3b",
   "metadata": {},
   "source": [
    "### startswith( )"
   ]
  },
  {
   "cell_type": "code",
   "execution_count": 218,
   "id": "32431504",
   "metadata": {},
   "outputs": [],
   "source": [
    "a = 'programming'"
   ]
  },
  {
   "cell_type": "code",
   "execution_count": 219,
   "id": "553eb659",
   "metadata": {},
   "outputs": [
    {
     "data": {
      "text/plain": [
       "True"
      ]
     },
     "execution_count": 219,
     "metadata": {},
     "output_type": "execute_result"
    }
   ],
   "source": [
    "a.startswith('pr')"
   ]
  },
  {
   "cell_type": "code",
   "execution_count": 220,
   "id": "7c6e9407",
   "metadata": {},
   "outputs": [
    {
     "data": {
      "text/plain": [
       "True"
      ]
     },
     "execution_count": 220,
     "metadata": {},
     "output_type": "execute_result"
    }
   ],
   "source": [
    "a.startswith('p')"
   ]
  },
  {
   "cell_type": "code",
   "execution_count": 221,
   "id": "59b9e20b",
   "metadata": {},
   "outputs": [
    {
     "data": {
      "text/plain": [
       "False"
      ]
     },
     "execution_count": 221,
     "metadata": {},
     "output_type": "execute_result"
    }
   ],
   "source": [
    "a.startswith('x')"
   ]
  },
  {
   "cell_type": "code",
   "execution_count": 222,
   "id": "d7dd7203",
   "metadata": {},
   "outputs": [
    {
     "name": "stdout",
     "output_type": "stream",
     "text": [
      "Help on method_descriptor:\n",
      "\n",
      "startswith(...)\n",
      "    S.startswith(prefix[, start[, end]]) -> bool\n",
      "    \n",
      "    Return True if S starts with the specified prefix, False otherwise.\n",
      "    With optional start, test S beginning at that position.\n",
      "    With optional end, stop comparing S at that position.\n",
      "    prefix can also be a tuple of strings to try.\n",
      "\n",
      "None\n"
     ]
    }
   ],
   "source": [
    "print(help(str.startswith))"
   ]
  },
  {
   "cell_type": "code",
   "execution_count": 223,
   "id": "677c7e6b",
   "metadata": {},
   "outputs": [],
   "source": [
    "a = 'python programming is good'"
   ]
  },
  {
   "cell_type": "code",
   "execution_count": 224,
   "id": "81abd981",
   "metadata": {},
   "outputs": [
    {
     "data": {
      "text/plain": [
       "True"
      ]
     },
     "execution_count": 224,
     "metadata": {},
     "output_type": "execute_result"
    }
   ],
   "source": [
    "a.startswith('python')"
   ]
  },
  {
   "cell_type": "markdown",
   "id": "e818bbe3",
   "metadata": {},
   "source": [
    "### Endswith( )"
   ]
  },
  {
   "cell_type": "code",
   "execution_count": 225,
   "id": "f59dc5f1",
   "metadata": {},
   "outputs": [
    {
     "data": {
      "text/plain": [
       "'python programming is good'"
      ]
     },
     "execution_count": 225,
     "metadata": {},
     "output_type": "execute_result"
    }
   ],
   "source": [
    "a"
   ]
  },
  {
   "cell_type": "code",
   "execution_count": 226,
   "id": "e90798ea",
   "metadata": {},
   "outputs": [
    {
     "data": {
      "text/plain": [
       "True"
      ]
     },
     "execution_count": 226,
     "metadata": {},
     "output_type": "execute_result"
    }
   ],
   "source": [
    "a.endswith('good')"
   ]
  },
  {
   "cell_type": "code",
   "execution_count": 227,
   "id": "f473bdce",
   "metadata": {},
   "outputs": [
    {
     "data": {
      "text/plain": [
       "True"
      ]
     },
     "execution_count": 227,
     "metadata": {},
     "output_type": "execute_result"
    }
   ],
   "source": [
    "a.endswith('d')"
   ]
  },
  {
   "cell_type": "code",
   "execution_count": 228,
   "id": "7fffb341",
   "metadata": {},
   "outputs": [
    {
     "data": {
      "text/plain": [
       "False"
      ]
     },
     "execution_count": 228,
     "metadata": {},
     "output_type": "execute_result"
    }
   ],
   "source": [
    "a.endswith('x')"
   ]
  },
  {
   "cell_type": "code",
   "execution_count": 229,
   "id": "19ec72ce",
   "metadata": {},
   "outputs": [
    {
     "name": "stdout",
     "output_type": "stream",
     "text": [
      "Help on method_descriptor:\n",
      "\n",
      "endswith(...)\n",
      "    S.endswith(suffix[, start[, end]]) -> bool\n",
      "    \n",
      "    Return True if S ends with the specified suffix, False otherwise.\n",
      "    With optional start, test S beginning at that position.\n",
      "    With optional end, stop comparing S at that position.\n",
      "    suffix can also be a tuple of strings to try.\n",
      "\n",
      "None\n"
     ]
    }
   ],
   "source": [
    "print(help(str.endswith))"
   ]
  },
  {
   "cell_type": "code",
   "execution_count": 1,
   "id": "9578579b",
   "metadata": {},
   "outputs": [],
   "source": [
    "a = 'programming'"
   ]
  },
  {
   "cell_type": "markdown",
   "id": "69f5e066",
   "metadata": {},
   "source": [
    "#### count ( )"
   ]
  },
  {
   "cell_type": "code",
   "execution_count": 2,
   "id": "a5e569be",
   "metadata": {},
   "outputs": [
    {
     "name": "stdout",
     "output_type": "stream",
     "text": [
      "Help on method_descriptor:\n",
      "\n",
      "count(...)\n",
      "    S.count(sub[, start[, end]]) -> int\n",
      "    \n",
      "    Return the number of non-overlapping occurrences of substring sub in\n",
      "    string S[start:end].  Optional arguments start and end are\n",
      "    interpreted as in slice notation.\n",
      "\n",
      "None\n"
     ]
    }
   ],
   "source": [
    "print(help(str.count))"
   ]
  },
  {
   "cell_type": "code",
   "execution_count": 3,
   "id": "b37c9052",
   "metadata": {},
   "outputs": [],
   "source": [
    "a = 'python programming is good , python is easy , python is popular'"
   ]
  },
  {
   "cell_type": "code",
   "execution_count": 4,
   "id": "845be171",
   "metadata": {},
   "outputs": [
    {
     "data": {
      "text/plain": [
       "'python programming is good , python is easy , python is popular'"
      ]
     },
     "execution_count": 4,
     "metadata": {},
     "output_type": "execute_result"
    }
   ],
   "source": [
    "a"
   ]
  },
  {
   "cell_type": "code",
   "execution_count": 5,
   "id": "0202383c",
   "metadata": {},
   "outputs": [
    {
     "data": {
      "text/plain": [
       "3"
      ]
     },
     "execution_count": 5,
     "metadata": {},
     "output_type": "execute_result"
    }
   ],
   "source": [
    "a.count('python')"
   ]
  },
  {
   "cell_type": "code",
   "execution_count": 6,
   "id": "f90817bb",
   "metadata": {},
   "outputs": [
    {
     "data": {
      "text/plain": [
       "6"
      ]
     },
     "execution_count": 6,
     "metadata": {},
     "output_type": "execute_result"
    }
   ],
   "source": [
    "a.count('p')"
   ]
  },
  {
   "cell_type": "code",
   "execution_count": 7,
   "id": "a468a09d",
   "metadata": {},
   "outputs": [
    {
     "data": {
      "text/plain": [
       "2"
      ]
     },
     "execution_count": 7,
     "metadata": {},
     "output_type": "execute_result"
    }
   ],
   "source": [
    "a.count('m')"
   ]
  },
  {
   "cell_type": "markdown",
   "id": "99545a85",
   "metadata": {},
   "source": [
    "#### replace( )"
   ]
  },
  {
   "cell_type": "code",
   "execution_count": 8,
   "id": "8434d0c7",
   "metadata": {},
   "outputs": [
    {
     "data": {
      "text/plain": [
       "'python programming is good , python is easy , python is popular'"
      ]
     },
     "execution_count": 8,
     "metadata": {},
     "output_type": "execute_result"
    }
   ],
   "source": [
    "a"
   ]
  },
  {
   "cell_type": "code",
   "execution_count": 9,
   "id": "57c6b5f4",
   "metadata": {},
   "outputs": [
    {
     "data": {
      "text/plain": [
       "'java programming is good , java is easy , java is popular'"
      ]
     },
     "execution_count": 9,
     "metadata": {},
     "output_type": "execute_result"
    }
   ],
   "source": [
    "a.replace('python','java')"
   ]
  },
  {
   "cell_type": "code",
   "execution_count": 10,
   "id": "ef57bf0a",
   "metadata": {},
   "outputs": [
    {
     "name": "stdout",
     "output_type": "stream",
     "text": [
      "Help on method_descriptor:\n",
      "\n",
      "replace(self, old, new, count=-1, /)\n",
      "    Return a copy with all occurrences of substring old replaced by new.\n",
      "    \n",
      "      count\n",
      "        Maximum number of occurrences to replace.\n",
      "        -1 (the default value) means replace all occurrences.\n",
      "    \n",
      "    If the optional argument count is given, only the first count occurrences are\n",
      "    replaced.\n",
      "\n",
      "None\n"
     ]
    }
   ],
   "source": [
    "print(help(str.replace))"
   ]
  },
  {
   "cell_type": "code",
   "execution_count": 11,
   "id": "fa684362",
   "metadata": {},
   "outputs": [
    {
     "data": {
      "text/plain": [
       "'python programming is good , python is easy , python is popular'"
      ]
     },
     "execution_count": 11,
     "metadata": {},
     "output_type": "execute_result"
    }
   ],
   "source": [
    "a"
   ]
  },
  {
   "cell_type": "code",
   "execution_count": 12,
   "id": "dae9fad6",
   "metadata": {},
   "outputs": [
    {
     "data": {
      "text/plain": [
       "'java programming is good , python is easy , python is popular'"
      ]
     },
     "execution_count": 12,
     "metadata": {},
     "output_type": "execute_result"
    }
   ],
   "source": [
    "a.replace('python','java',1)"
   ]
  },
  {
   "cell_type": "code",
   "execution_count": 13,
   "id": "fdf42df0",
   "metadata": {},
   "outputs": [
    {
     "data": {
      "text/plain": [
       "'java programming is good , java is easy , python is popular'"
      ]
     },
     "execution_count": 13,
     "metadata": {},
     "output_type": "execute_result"
    }
   ],
   "source": [
    "a.replace('python','java',2)"
   ]
  },
  {
   "cell_type": "markdown",
   "id": "872d0982",
   "metadata": {},
   "source": [
    "#### index ( )"
   ]
  },
  {
   "cell_type": "code",
   "execution_count": 14,
   "id": "30d816ec",
   "metadata": {},
   "outputs": [
    {
     "name": "stdout",
     "output_type": "stream",
     "text": [
      "Help on method_descriptor:\n",
      "\n",
      "index(...)\n",
      "    S.index(sub[, start[, end]]) -> int\n",
      "    \n",
      "    Return the lowest index in S where substring sub is found,\n",
      "    such that sub is contained within S[start:end].  Optional\n",
      "    arguments start and end are interpreted as in slice notation.\n",
      "    \n",
      "    Raises ValueError when the substring is not found.\n",
      "\n",
      "None\n"
     ]
    }
   ],
   "source": [
    "print(help(str.index))"
   ]
  },
  {
   "cell_type": "code",
   "execution_count": 15,
   "id": "84efa5b1",
   "metadata": {},
   "outputs": [],
   "source": [
    "a = 'programming'"
   ]
  },
  {
   "cell_type": "code",
   "execution_count": 16,
   "id": "0afe1236",
   "metadata": {},
   "outputs": [
    {
     "data": {
      "text/plain": [
       "3"
      ]
     },
     "execution_count": 16,
     "metadata": {},
     "output_type": "execute_result"
    }
   ],
   "source": [
    "a.index('g')"
   ]
  },
  {
   "cell_type": "code",
   "execution_count": 17,
   "id": "2f7a5683",
   "metadata": {},
   "outputs": [
    {
     "data": {
      "text/plain": [
       "6"
      ]
     },
     "execution_count": 17,
     "metadata": {},
     "output_type": "execute_result"
    }
   ],
   "source": [
    "a.index('m')"
   ]
  },
  {
   "cell_type": "code",
   "execution_count": 18,
   "id": "1ec3c5b8",
   "metadata": {},
   "outputs": [
    {
     "data": {
      "text/plain": [
       "0"
      ]
     },
     "execution_count": 18,
     "metadata": {},
     "output_type": "execute_result"
    }
   ],
   "source": [
    "a.index('p')"
   ]
  },
  {
   "cell_type": "code",
   "execution_count": 19,
   "id": "07679961",
   "metadata": {},
   "outputs": [
    {
     "ename": "ValueError",
     "evalue": "substring not found",
     "output_type": "error",
     "traceback": [
      "\u001b[0;31m---------------------------------------------------------------------------\u001b[0m",
      "\u001b[0;31mValueError\u001b[0m                                Traceback (most recent call last)",
      "Cell \u001b[0;32mIn[19], line 1\u001b[0m\n\u001b[0;32m----> 1\u001b[0m \u001b[43ma\u001b[49m\u001b[38;5;241;43m.\u001b[39;49m\u001b[43mindex\u001b[49m\u001b[43m(\u001b[49m\u001b[38;5;124;43m'\u001b[39;49m\u001b[38;5;124;43mx\u001b[39;49m\u001b[38;5;124;43m'\u001b[39;49m\u001b[43m)\u001b[49m\n",
      "\u001b[0;31mValueError\u001b[0m: substring not found"
     ]
    }
   ],
   "source": [
    "a.index('x')"
   ]
  },
  {
   "cell_type": "markdown",
   "id": "47e47130",
   "metadata": {},
   "source": [
    "#### rindex( )"
   ]
  },
  {
   "cell_type": "code",
   "execution_count": 20,
   "id": "044dcca4",
   "metadata": {},
   "outputs": [
    {
     "name": "stdout",
     "output_type": "stream",
     "text": [
      "Help on method_descriptor:\n",
      "\n",
      "rindex(...)\n",
      "    S.rindex(sub[, start[, end]]) -> int\n",
      "    \n",
      "    Return the highest index in S where substring sub is found,\n",
      "    such that sub is contained within S[start:end].  Optional\n",
      "    arguments start and end are interpreted as in slice notation.\n",
      "    \n",
      "    Raises ValueError when the substring is not found.\n",
      "\n",
      "None\n"
     ]
    }
   ],
   "source": [
    "print(help(str.rindex))"
   ]
  },
  {
   "cell_type": "code",
   "execution_count": 21,
   "id": "838e6b6c",
   "metadata": {},
   "outputs": [
    {
     "data": {
      "text/plain": [
       "'programming'"
      ]
     },
     "execution_count": 21,
     "metadata": {},
     "output_type": "execute_result"
    }
   ],
   "source": [
    "a"
   ]
  },
  {
   "cell_type": "code",
   "execution_count": 23,
   "id": "d6697551",
   "metadata": {},
   "outputs": [
    {
     "data": {
      "text/plain": [
       "7"
      ]
     },
     "execution_count": 23,
     "metadata": {},
     "output_type": "execute_result"
    }
   ],
   "source": [
    "a.rindex('m')"
   ]
  },
  {
   "cell_type": "code",
   "execution_count": 24,
   "id": "7ed5a934",
   "metadata": {},
   "outputs": [
    {
     "data": {
      "text/plain": [
       "10"
      ]
     },
     "execution_count": 24,
     "metadata": {},
     "output_type": "execute_result"
    }
   ],
   "source": [
    "a.rindex('g')"
   ]
  },
  {
   "cell_type": "code",
   "execution_count": 25,
   "id": "41d09bc6",
   "metadata": {},
   "outputs": [
    {
     "data": {
      "text/plain": [
       "3"
      ]
     },
     "execution_count": 25,
     "metadata": {},
     "output_type": "execute_result"
    }
   ],
   "source": [
    "a.index('g')"
   ]
  },
  {
   "cell_type": "markdown",
   "id": "43f5b26c",
   "metadata": {},
   "source": [
    "#### find ( )"
   ]
  },
  {
   "cell_type": "code",
   "execution_count": 26,
   "id": "e286d279",
   "metadata": {},
   "outputs": [
    {
     "name": "stdout",
     "output_type": "stream",
     "text": [
      "Help on method_descriptor:\n",
      "\n",
      "find(...)\n",
      "    S.find(sub[, start[, end]]) -> int\n",
      "    \n",
      "    Return the lowest index in S where substring sub is found,\n",
      "    such that sub is contained within S[start:end].  Optional\n",
      "    arguments start and end are interpreted as in slice notation.\n",
      "    \n",
      "    Return -1 on failure.\n",
      "\n",
      "None\n"
     ]
    }
   ],
   "source": [
    "print(help(str.find))"
   ]
  },
  {
   "cell_type": "code",
   "execution_count": 27,
   "id": "2030aa0b",
   "metadata": {},
   "outputs": [
    {
     "data": {
      "text/plain": [
       "'programming'"
      ]
     },
     "execution_count": 27,
     "metadata": {},
     "output_type": "execute_result"
    }
   ],
   "source": [
    "a"
   ]
  },
  {
   "cell_type": "code",
   "execution_count": 28,
   "id": "745e721d",
   "metadata": {},
   "outputs": [
    {
     "data": {
      "text/plain": [
       "6"
      ]
     },
     "execution_count": 28,
     "metadata": {},
     "output_type": "execute_result"
    }
   ],
   "source": [
    "a.find('m')"
   ]
  },
  {
   "cell_type": "code",
   "execution_count": 29,
   "id": "82331aed",
   "metadata": {},
   "outputs": [
    {
     "data": {
      "text/plain": [
       "6"
      ]
     },
     "execution_count": 29,
     "metadata": {},
     "output_type": "execute_result"
    }
   ],
   "source": [
    "a.index('m')"
   ]
  },
  {
   "cell_type": "code",
   "execution_count": 30,
   "id": "a4dd8c2e",
   "metadata": {},
   "outputs": [
    {
     "ename": "ValueError",
     "evalue": "substring not found",
     "output_type": "error",
     "traceback": [
      "\u001b[0;31m---------------------------------------------------------------------------\u001b[0m",
      "\u001b[0;31mValueError\u001b[0m                                Traceback (most recent call last)",
      "Cell \u001b[0;32mIn[30], line 1\u001b[0m\n\u001b[0;32m----> 1\u001b[0m \u001b[43ma\u001b[49m\u001b[38;5;241;43m.\u001b[39;49m\u001b[43mindex\u001b[49m\u001b[43m(\u001b[49m\u001b[38;5;124;43m'\u001b[39;49m\u001b[38;5;124;43my\u001b[39;49m\u001b[38;5;124;43m'\u001b[39;49m\u001b[43m)\u001b[49m\n",
      "\u001b[0;31mValueError\u001b[0m: substring not found"
     ]
    }
   ],
   "source": [
    "a.index('y')"
   ]
  },
  {
   "cell_type": "code",
   "execution_count": 31,
   "id": "c8205bd4",
   "metadata": {},
   "outputs": [
    {
     "data": {
      "text/plain": [
       "-1"
      ]
     },
     "execution_count": 31,
     "metadata": {},
     "output_type": "execute_result"
    }
   ],
   "source": [
    "a.find('y')"
   ]
  },
  {
   "cell_type": "markdown",
   "id": "09c482c0",
   "metadata": {},
   "source": [
    "#### rfind( )"
   ]
  },
  {
   "cell_type": "code",
   "execution_count": 32,
   "id": "38aab0c6",
   "metadata": {},
   "outputs": [
    {
     "name": "stdout",
     "output_type": "stream",
     "text": [
      "Help on method_descriptor:\n",
      "\n",
      "rfind(...)\n",
      "    S.rfind(sub[, start[, end]]) -> int\n",
      "    \n",
      "    Return the highest index in S where substring sub is found,\n",
      "    such that sub is contained within S[start:end].  Optional\n",
      "    arguments start and end are interpreted as in slice notation.\n",
      "    \n",
      "    Return -1 on failure.\n",
      "\n",
      "None\n"
     ]
    }
   ],
   "source": [
    "print(help(str.rfind))"
   ]
  },
  {
   "cell_type": "code",
   "execution_count": 33,
   "id": "c07f0498",
   "metadata": {},
   "outputs": [
    {
     "data": {
      "text/plain": [
       "'programming'"
      ]
     },
     "execution_count": 33,
     "metadata": {},
     "output_type": "execute_result"
    }
   ],
   "source": [
    "a"
   ]
  },
  {
   "cell_type": "code",
   "execution_count": 34,
   "id": "978d0cbd",
   "metadata": {},
   "outputs": [
    {
     "data": {
      "text/plain": [
       "7"
      ]
     },
     "execution_count": 34,
     "metadata": {},
     "output_type": "execute_result"
    }
   ],
   "source": [
    "a.rfind('m')"
   ]
  },
  {
   "cell_type": "code",
   "execution_count": 35,
   "id": "cfba3f1d",
   "metadata": {},
   "outputs": [
    {
     "data": {
      "text/plain": [
       "10"
      ]
     },
     "execution_count": 35,
     "metadata": {},
     "output_type": "execute_result"
    }
   ],
   "source": [
    "a.rfind('g')"
   ]
  },
  {
   "cell_type": "code",
   "execution_count": 36,
   "id": "54878d65",
   "metadata": {},
   "outputs": [
    {
     "data": {
      "text/plain": [
       "-1"
      ]
     },
     "execution_count": 36,
     "metadata": {},
     "output_type": "execute_result"
    }
   ],
   "source": [
    "a.rfind('f')"
   ]
  },
  {
   "cell_type": "markdown",
   "id": "34a6c32f",
   "metadata": {},
   "source": [
    "###### Split( )"
   ]
  },
  {
   "cell_type": "code",
   "execution_count": 37,
   "id": "39c8d0a4",
   "metadata": {},
   "outputs": [
    {
     "name": "stdout",
     "output_type": "stream",
     "text": [
      "Help on method_descriptor:\n",
      "\n",
      "split(self, /, sep=None, maxsplit=-1)\n",
      "    Return a list of the substrings in the string, using sep as the separator string.\n",
      "    \n",
      "      sep\n",
      "        The separator used to split the string.\n",
      "    \n",
      "        When set to None (the default value), will split on any whitespace\n",
      "        character (including \\\\n \\\\r \\\\t \\\\f and spaces) and will discard\n",
      "        empty strings from the result.\n",
      "      maxsplit\n",
      "        Maximum number of splits (starting from the left).\n",
      "        -1 (the default value) means no limit.\n",
      "    \n",
      "    Note, str.split() is mainly useful for data that has been intentionally\n",
      "    delimited.  With natural text that includes punctuation, consider using\n",
      "    the regular expression module.\n",
      "\n",
      "None\n"
     ]
    }
   ],
   "source": [
    "print(help(str.split))"
   ]
  },
  {
   "cell_type": "code",
   "execution_count": 38,
   "id": "2978f88d",
   "metadata": {},
   "outputs": [],
   "source": [
    "a = 'python is good programming Language'"
   ]
  },
  {
   "cell_type": "code",
   "execution_count": 39,
   "id": "58415c36",
   "metadata": {},
   "outputs": [
    {
     "data": {
      "text/plain": [
       "['python', 'is', 'good', 'programming', 'Language']"
      ]
     },
     "execution_count": 39,
     "metadata": {},
     "output_type": "execute_result"
    }
   ],
   "source": [
    "a.split()"
   ]
  },
  {
   "cell_type": "code",
   "execution_count": 40,
   "id": "cc03a224",
   "metadata": {},
   "outputs": [],
   "source": [
    "b = 'python/good/easy/learn/code'"
   ]
  },
  {
   "cell_type": "code",
   "execution_count": 41,
   "id": "5f819b41",
   "metadata": {},
   "outputs": [
    {
     "data": {
      "text/plain": [
       "'python/good/easy/learn/code'"
      ]
     },
     "execution_count": 41,
     "metadata": {},
     "output_type": "execute_result"
    }
   ],
   "source": [
    "b"
   ]
  },
  {
   "cell_type": "code",
   "execution_count": 42,
   "id": "be5a73ae",
   "metadata": {},
   "outputs": [
    {
     "data": {
      "text/plain": [
       "['python', 'good', 'easy', 'learn', 'code']"
      ]
     },
     "execution_count": 42,
     "metadata": {},
     "output_type": "execute_result"
    }
   ],
   "source": [
    "b.split('/')"
   ]
  },
  {
   "cell_type": "code",
   "execution_count": 43,
   "id": "84d43150",
   "metadata": {},
   "outputs": [],
   "source": [
    "c = 'python@good@learn@code'"
   ]
  },
  {
   "cell_type": "code",
   "execution_count": 44,
   "id": "dc548534",
   "metadata": {},
   "outputs": [
    {
     "data": {
      "text/plain": [
       "['python', 'good', 'learn', 'code']"
      ]
     },
     "execution_count": 44,
     "metadata": {},
     "output_type": "execute_result"
    }
   ],
   "source": [
    "c.split('@')"
   ]
  },
  {
   "cell_type": "code",
   "execution_count": 45,
   "id": "1bbcc5d3",
   "metadata": {},
   "outputs": [],
   "source": [
    "a = 'programming'"
   ]
  },
  {
   "cell_type": "code",
   "execution_count": 46,
   "id": "3f6f6710",
   "metadata": {},
   "outputs": [
    {
     "data": {
      "text/plain": [
       "['pr', 'gramming']"
      ]
     },
     "execution_count": 46,
     "metadata": {},
     "output_type": "execute_result"
    }
   ],
   "source": [
    "a.split('o')"
   ]
  },
  {
   "cell_type": "code",
   "execution_count": 47,
   "id": "1ce4bd60",
   "metadata": {},
   "outputs": [
    {
     "data": {
      "text/plain": [
       "'programming'"
      ]
     },
     "execution_count": 47,
     "metadata": {},
     "output_type": "execute_result"
    }
   ],
   "source": [
    "a"
   ]
  },
  {
   "cell_type": "code",
   "execution_count": 49,
   "id": "ee908ab8",
   "metadata": {},
   "outputs": [
    {
     "data": {
      "text/plain": [
       "['', 'rogramming']"
      ]
     },
     "execution_count": 49,
     "metadata": {},
     "output_type": "execute_result"
    }
   ],
   "source": [
    "a.split('p')"
   ]
  },
  {
   "cell_type": "code",
   "execution_count": 50,
   "id": "b8121fb6",
   "metadata": {},
   "outputs": [
    {
     "data": {
      "text/plain": [
       "['pro', 'rammin', '']"
      ]
     },
     "execution_count": 50,
     "metadata": {},
     "output_type": "execute_result"
    }
   ],
   "source": [
    "a.split('g')"
   ]
  },
  {
   "cell_type": "code",
   "execution_count": 51,
   "id": "4de945a3",
   "metadata": {},
   "outputs": [
    {
     "data": {
      "text/plain": [
       "['progra', '', 'ing']"
      ]
     },
     "execution_count": 51,
     "metadata": {},
     "output_type": "execute_result"
    }
   ],
   "source": [
    "a.split('m')"
   ]
  },
  {
   "cell_type": "markdown",
   "id": "6699d9b3",
   "metadata": {},
   "source": [
    "###### join( )"
   ]
  },
  {
   "cell_type": "code",
   "execution_count": 52,
   "id": "3171d70e",
   "metadata": {},
   "outputs": [
    {
     "name": "stdout",
     "output_type": "stream",
     "text": [
      "Help on method_descriptor:\n",
      "\n",
      "join(self, iterable, /)\n",
      "    Concatenate any number of strings.\n",
      "    \n",
      "    The string whose method is called is inserted in between each given string.\n",
      "    The result is returned as a new string.\n",
      "    \n",
      "    Example: '.'.join(['ab', 'pq', 'rs']) -> 'ab.pq.rs'\n",
      "\n",
      "None\n"
     ]
    }
   ],
   "source": [
    "print(help(str.join))"
   ]
  },
  {
   "cell_type": "code",
   "execution_count": 53,
   "id": "bdd493c9",
   "metadata": {},
   "outputs": [],
   "source": [
    "L = ['python','good','learn','easy','code']"
   ]
  },
  {
   "cell_type": "code",
   "execution_count": 54,
   "id": "06ccb409",
   "metadata": {},
   "outputs": [
    {
     "data": {
      "text/plain": [
       "'python good learn easy code'"
      ]
     },
     "execution_count": 54,
     "metadata": {},
     "output_type": "execute_result"
    }
   ],
   "source": [
    "' '.join(L)"
   ]
  },
  {
   "cell_type": "code",
   "execution_count": 55,
   "id": "e51ad709",
   "metadata": {},
   "outputs": [
    {
     "data": {
      "text/plain": [
       "'python/good/learn/easy/code'"
      ]
     },
     "execution_count": 55,
     "metadata": {},
     "output_type": "execute_result"
    }
   ],
   "source": [
    "'/'.join(L)"
   ]
  },
  {
   "cell_type": "code",
   "execution_count": 56,
   "id": "b1a727e4",
   "metadata": {},
   "outputs": [
    {
     "data": {
      "text/plain": [
       "'python.good.learn.easy.code'"
      ]
     },
     "execution_count": 56,
     "metadata": {},
     "output_type": "execute_result"
    }
   ],
   "source": [
    "'.'.join(L)"
   ]
  },
  {
   "cell_type": "code",
   "execution_count": 57,
   "id": "85c5ffd3",
   "metadata": {},
   "outputs": [],
   "source": [
    "a = 'programming'"
   ]
  },
  {
   "cell_type": "markdown",
   "id": "8f326f79",
   "metadata": {},
   "source": [
    "###### center( )"
   ]
  },
  {
   "cell_type": "code",
   "execution_count": 58,
   "id": "fc7f392a",
   "metadata": {},
   "outputs": [
    {
     "name": "stdout",
     "output_type": "stream",
     "text": [
      "Help on method_descriptor:\n",
      "\n",
      "center(self, width, fillchar=' ', /)\n",
      "    Return a centered string of length width.\n",
      "    \n",
      "    Padding is done using the specified fill character (default is a space).\n",
      "\n",
      "None\n"
     ]
    }
   ],
   "source": [
    "print(help(str.center))"
   ]
  },
  {
   "cell_type": "code",
   "execution_count": 59,
   "id": "c031e583",
   "metadata": {},
   "outputs": [],
   "source": [
    "a = 'python'"
   ]
  },
  {
   "cell_type": "code",
   "execution_count": 60,
   "id": "a01359bc",
   "metadata": {},
   "outputs": [
    {
     "data": {
      "text/plain": [
       "'  python  '"
      ]
     },
     "execution_count": 60,
     "metadata": {},
     "output_type": "execute_result"
    }
   ],
   "source": [
    "a.center(10)"
   ]
  },
  {
   "cell_type": "code",
   "execution_count": 61,
   "id": "3802d9f5",
   "metadata": {},
   "outputs": [],
   "source": [
    "b = 'pythons'"
   ]
  },
  {
   "cell_type": "code",
   "execution_count": 62,
   "id": "dfbba54a",
   "metadata": {},
   "outputs": [
    {
     "data": {
      "text/plain": [
       "' pythons  '"
      ]
     },
     "execution_count": 62,
     "metadata": {},
     "output_type": "execute_result"
    }
   ],
   "source": [
    "b.center(10)"
   ]
  },
  {
   "cell_type": "code",
   "execution_count": 63,
   "id": "05d135ad",
   "metadata": {},
   "outputs": [
    {
     "data": {
      "text/plain": [
       "'     python    '"
      ]
     },
     "execution_count": 63,
     "metadata": {},
     "output_type": "execute_result"
    }
   ],
   "source": [
    "a.center(15)"
   ]
  },
  {
   "cell_type": "code",
   "execution_count": 65,
   "id": "e7065bb2",
   "metadata": {},
   "outputs": [
    {
     "data": {
      "text/plain": [
       "'*****python****'"
      ]
     },
     "execution_count": 65,
     "metadata": {},
     "output_type": "execute_result"
    }
   ],
   "source": [
    "a.center(15,'*')"
   ]
  },
  {
   "cell_type": "code",
   "execution_count": 66,
   "id": "7af4a2ca",
   "metadata": {},
   "outputs": [
    {
     "data": {
      "text/plain": [
       "'&&python&&'"
      ]
     },
     "execution_count": 66,
     "metadata": {},
     "output_type": "execute_result"
    }
   ],
   "source": [
    "a.center(10,'&')"
   ]
  },
  {
   "cell_type": "markdown",
   "id": "992e4dbd",
   "metadata": {},
   "source": [
    "###### strip ( )"
   ]
  },
  {
   "cell_type": "code",
   "execution_count": 67,
   "id": "1290188c",
   "metadata": {},
   "outputs": [
    {
     "name": "stdout",
     "output_type": "stream",
     "text": [
      "Help on method_descriptor:\n",
      "\n",
      "strip(self, chars=None, /)\n",
      "    Return a copy of the string with leading and trailing whitespace removed.\n",
      "    \n",
      "    If chars is given and not None, remove characters in chars instead.\n",
      "\n",
      "None\n"
     ]
    }
   ],
   "source": [
    "print(help(str.strip))"
   ]
  },
  {
   "cell_type": "code",
   "execution_count": 68,
   "id": "0d1ee04d",
   "metadata": {},
   "outputs": [],
   "source": [
    "a = '      Programming.     '"
   ]
  },
  {
   "cell_type": "code",
   "execution_count": 69,
   "id": "0e3baff4",
   "metadata": {},
   "outputs": [
    {
     "data": {
      "text/plain": [
       "'Programming.'"
      ]
     },
     "execution_count": 69,
     "metadata": {},
     "output_type": "execute_result"
    }
   ],
   "source": [
    "a.strip()"
   ]
  },
  {
   "cell_type": "code",
   "execution_count": 70,
   "id": "17b1aafb",
   "metadata": {},
   "outputs": [],
   "source": [
    "b = '      Programming'"
   ]
  },
  {
   "cell_type": "code",
   "execution_count": 71,
   "id": "3d1a55c7",
   "metadata": {},
   "outputs": [
    {
     "data": {
      "text/plain": [
       "'Programming'"
      ]
     },
     "execution_count": 71,
     "metadata": {},
     "output_type": "execute_result"
    }
   ],
   "source": [
    "b.strip()"
   ]
  },
  {
   "cell_type": "markdown",
   "id": "55600392",
   "metadata": {},
   "source": [
    "###### lstrip ( )"
   ]
  },
  {
   "cell_type": "code",
   "execution_count": 72,
   "id": "41ace3e9",
   "metadata": {},
   "outputs": [
    {
     "name": "stdout",
     "output_type": "stream",
     "text": [
      "Help on method_descriptor:\n",
      "\n",
      "lstrip(self, chars=None, /)\n",
      "    Return a copy of the string with leading whitespace removed.\n",
      "    \n",
      "    If chars is given and not None, remove characters in chars instead.\n",
      "\n",
      "None\n"
     ]
    }
   ],
   "source": [
    "print(help(str.lstrip))"
   ]
  },
  {
   "cell_type": "code",
   "execution_count": 73,
   "id": "c040e74b",
   "metadata": {},
   "outputs": [
    {
     "data": {
      "text/plain": [
       "'      Programming.     '"
      ]
     },
     "execution_count": 73,
     "metadata": {},
     "output_type": "execute_result"
    }
   ],
   "source": [
    "a"
   ]
  },
  {
   "cell_type": "code",
   "execution_count": 74,
   "id": "88cb7d98",
   "metadata": {},
   "outputs": [
    {
     "data": {
      "text/plain": [
       "'Programming.     '"
      ]
     },
     "execution_count": 74,
     "metadata": {},
     "output_type": "execute_result"
    }
   ],
   "source": [
    "a.lstrip()"
   ]
  },
  {
   "cell_type": "markdown",
   "id": "59a7222b",
   "metadata": {},
   "source": [
    "###### rstrip( )"
   ]
  },
  {
   "cell_type": "code",
   "execution_count": 75,
   "id": "81e26ab6",
   "metadata": {},
   "outputs": [
    {
     "data": {
      "text/plain": [
       "'      Programming.     '"
      ]
     },
     "execution_count": 75,
     "metadata": {},
     "output_type": "execute_result"
    }
   ],
   "source": [
    "a"
   ]
  },
  {
   "cell_type": "code",
   "execution_count": 76,
   "id": "f7440b5e",
   "metadata": {},
   "outputs": [
    {
     "data": {
      "text/plain": [
       "'      Programming.'"
      ]
     },
     "execution_count": 76,
     "metadata": {},
     "output_type": "execute_result"
    }
   ],
   "source": [
    "a.rstrip()"
   ]
  },
  {
   "cell_type": "code",
   "execution_count": 77,
   "id": "47c8ac87",
   "metadata": {},
   "outputs": [
    {
     "name": "stdout",
     "output_type": "stream",
     "text": [
      "Help on method_descriptor:\n",
      "\n",
      "rstrip(self, chars=None, /)\n",
      "    Return a copy of the string with trailing whitespace removed.\n",
      "    \n",
      "    If chars is given and not None, remove characters in chars instead.\n",
      "\n",
      "None\n"
     ]
    }
   ],
   "source": [
    "print(help(str.rstrip))"
   ]
  },
  {
   "cell_type": "code",
   "execution_count": 78,
   "id": "95e72b0c",
   "metadata": {},
   "outputs": [],
   "source": [
    "a = 'programming'"
   ]
  },
  {
   "cell_type": "markdown",
   "id": "4718ad35",
   "metadata": {},
   "source": [
    "###### format( )"
   ]
  },
  {
   "cell_type": "code",
   "execution_count": 79,
   "id": "32439971",
   "metadata": {},
   "outputs": [
    {
     "name": "stdout",
     "output_type": "stream",
     "text": [
      "Help on method_descriptor:\n",
      "\n",
      "format(...)\n",
      "    S.format(*args, **kwargs) -> str\n",
      "    \n",
      "    Return a formatted version of S, using substitutions from args and kwargs.\n",
      "    The substitutions are identified by braces ('{' and '}').\n",
      "\n",
      "None\n"
     ]
    }
   ],
   "source": [
    "print(help(str.format))"
   ]
  },
  {
   "cell_type": "code",
   "execution_count": 80,
   "id": "8bae7b6f",
   "metadata": {},
   "outputs": [],
   "source": [
    "text = 'my name is satya kumar and my age is 34'"
   ]
  },
  {
   "cell_type": "code",
   "execution_count": 81,
   "id": "083e4285",
   "metadata": {},
   "outputs": [
    {
     "name": "stdout",
     "output_type": "stream",
     "text": [
      "my name is satya kumar and my age is 34\n"
     ]
    }
   ],
   "source": [
    "print(text)"
   ]
  },
  {
   "cell_type": "code",
   "execution_count": 82,
   "id": "5ecd3142",
   "metadata": {},
   "outputs": [],
   "source": [
    "text = 'my name is {}, my age is {}'"
   ]
  },
  {
   "cell_type": "code",
   "execution_count": 83,
   "id": "9f18f830",
   "metadata": {},
   "outputs": [
    {
     "data": {
      "text/plain": [
       "'my name is satyakumar, my age is 34'"
      ]
     },
     "execution_count": 83,
     "metadata": {},
     "output_type": "execute_result"
    }
   ],
   "source": [
    "text.format('satyakumar',34)"
   ]
  },
  {
   "cell_type": "code",
   "execution_count": 86,
   "id": "09ee7079",
   "metadata": {},
   "outputs": [],
   "source": [
    "text = 'my name is {0},my age is {1},my country is {2}'"
   ]
  },
  {
   "cell_type": "code",
   "execution_count": 85,
   "id": "67ea3a84",
   "metadata": {},
   "outputs": [
    {
     "data": {
      "text/plain": [
       "'my name is SatyaKumar,my age is 34,my country isIndia'"
      ]
     },
     "execution_count": 85,
     "metadata": {},
     "output_type": "execute_result"
    }
   ],
   "source": [
    "text.format('SatyaKumar',34,'India')"
   ]
  },
  {
   "cell_type": "code",
   "execution_count": 87,
   "id": "f27d8e20",
   "metadata": {},
   "outputs": [
    {
     "name": "stdout",
     "output_type": "stream",
     "text": [
      "My name is SatyaKumar, my age is 34\n"
     ]
    }
   ],
   "source": [
    "print('My name is {}, my age is {}'.format('SatyaKumar',34))"
   ]
  },
  {
   "cell_type": "code",
   "execution_count": 88,
   "id": "0e92c9aa",
   "metadata": {},
   "outputs": [],
   "source": [
    "text = 'my name is {name}, my age is {age}'"
   ]
  },
  {
   "cell_type": "code",
   "execution_count": 89,
   "id": "f50e985a",
   "metadata": {},
   "outputs": [
    {
     "data": {
      "text/plain": [
       "'my name is satyakumar, my age is 34'"
      ]
     },
     "execution_count": 89,
     "metadata": {},
     "output_type": "execute_result"
    }
   ],
   "source": [
    "text.format(name='satyakumar',age=34)"
   ]
  },
  {
   "cell_type": "code",
   "execution_count": 90,
   "id": "c669fb93",
   "metadata": {},
   "outputs": [
    {
     "data": {
      "text/plain": [
       "'my name is satyakumar, my age is 34'"
      ]
     },
     "execution_count": 90,
     "metadata": {},
     "output_type": "execute_result"
    }
   ],
   "source": [
    "text.format(age=34,name='satyakumar')"
   ]
  },
  {
   "cell_type": "code",
   "execution_count": 91,
   "id": "f4a87e01",
   "metadata": {},
   "outputs": [],
   "source": [
    "text = 'my name is {}, my age is {}'"
   ]
  },
  {
   "cell_type": "code",
   "execution_count": 92,
   "id": "8fb06d2f",
   "metadata": {},
   "outputs": [
    {
     "data": {
      "text/plain": [
       "'my name is 34, my age is satyakumar'"
      ]
     },
     "execution_count": 92,
     "metadata": {},
     "output_type": "execute_result"
    }
   ],
   "source": [
    "text.format(34,'satyakumar')"
   ]
  },
  {
   "cell_type": "code",
   "execution_count": 93,
   "id": "a597e6df",
   "metadata": {},
   "outputs": [],
   "source": [
    "a = 'programming'"
   ]
  },
  {
   "cell_type": "markdown",
   "id": "801531d9",
   "metadata": {},
   "source": [
    "###### islower( )"
   ]
  },
  {
   "cell_type": "code",
   "execution_count": 94,
   "id": "4270ceff",
   "metadata": {},
   "outputs": [
    {
     "name": "stdout",
     "output_type": "stream",
     "text": [
      "Help on method_descriptor:\n",
      "\n",
      "islower(self, /)\n",
      "    Return True if the string is a lowercase string, False otherwise.\n",
      "    \n",
      "    A string is lowercase if all cased characters in the string are lowercase and\n",
      "    there is at least one cased character in the string.\n",
      "\n",
      "None\n"
     ]
    }
   ],
   "source": [
    "print(help(str.islower))"
   ]
  },
  {
   "cell_type": "code",
   "execution_count": 95,
   "id": "95c28114",
   "metadata": {},
   "outputs": [
    {
     "data": {
      "text/plain": [
       "'programming'"
      ]
     },
     "execution_count": 95,
     "metadata": {},
     "output_type": "execute_result"
    }
   ],
   "source": [
    "a"
   ]
  },
  {
   "cell_type": "code",
   "execution_count": 96,
   "id": "ed7a4e0c",
   "metadata": {},
   "outputs": [
    {
     "data": {
      "text/plain": [
       "True"
      ]
     },
     "execution_count": 96,
     "metadata": {},
     "output_type": "execute_result"
    }
   ],
   "source": [
    "a.islower()"
   ]
  },
  {
   "cell_type": "code",
   "execution_count": 97,
   "id": "22a6b99b",
   "metadata": {},
   "outputs": [
    {
     "data": {
      "text/plain": [
       "False"
      ]
     },
     "execution_count": 97,
     "metadata": {},
     "output_type": "execute_result"
    }
   ],
   "source": [
    "b = 'PROgramming'\n",
    "b.islower()"
   ]
  },
  {
   "cell_type": "markdown",
   "id": "20911f0a",
   "metadata": {},
   "source": [
    "###### isupper( )"
   ]
  },
  {
   "cell_type": "code",
   "execution_count": 98,
   "id": "2028266d",
   "metadata": {},
   "outputs": [],
   "source": [
    "a = 'PROGRAMMING'"
   ]
  },
  {
   "cell_type": "code",
   "execution_count": 99,
   "id": "ddc1320c",
   "metadata": {},
   "outputs": [
    {
     "data": {
      "text/plain": [
       "True"
      ]
     },
     "execution_count": 99,
     "metadata": {},
     "output_type": "execute_result"
    }
   ],
   "source": [
    "a.isupper()"
   ]
  },
  {
   "cell_type": "code",
   "execution_count": 100,
   "id": "58e051ce",
   "metadata": {},
   "outputs": [
    {
     "data": {
      "text/plain": [
       "False"
      ]
     },
     "execution_count": 100,
     "metadata": {},
     "output_type": "execute_result"
    }
   ],
   "source": [
    "b = \"PROGRamming\"\n",
    "b.isupper()"
   ]
  },
  {
   "cell_type": "code",
   "execution_count": 101,
   "id": "fbf030d8",
   "metadata": {},
   "outputs": [
    {
     "data": {
      "text/plain": [
       "False"
      ]
     },
     "execution_count": 101,
     "metadata": {},
     "output_type": "execute_result"
    }
   ],
   "source": [
    "b.isupper()"
   ]
  },
  {
   "cell_type": "markdown",
   "id": "feb50345",
   "metadata": {},
   "source": [
    "###### isdigit( )"
   ]
  },
  {
   "cell_type": "code",
   "execution_count": 102,
   "id": "afb547ad",
   "metadata": {},
   "outputs": [
    {
     "data": {
      "text/plain": [
       "True"
      ]
     },
     "execution_count": 102,
     "metadata": {},
     "output_type": "execute_result"
    }
   ],
   "source": [
    "a = '1234'\n",
    "a.isdigit()"
   ]
  },
  {
   "cell_type": "code",
   "execution_count": 103,
   "id": "4c275b15",
   "metadata": {},
   "outputs": [
    {
     "data": {
      "text/plain": [
       "False"
      ]
     },
     "execution_count": 103,
     "metadata": {},
     "output_type": "execute_result"
    }
   ],
   "source": [
    "a = '12abc'\n",
    "a.isdigit()"
   ]
  },
  {
   "cell_type": "markdown",
   "id": "2020d2e0",
   "metadata": {},
   "source": [
    "##### isalnum( )"
   ]
  },
  {
   "cell_type": "code",
   "execution_count": 104,
   "id": "80aa74c7",
   "metadata": {},
   "outputs": [
    {
     "data": {
      "text/plain": [
       "True"
      ]
     },
     "execution_count": 104,
     "metadata": {},
     "output_type": "execute_result"
    }
   ],
   "source": [
    "a = 'Programming'\n",
    "a.isalnum()"
   ]
  },
  {
   "cell_type": "code",
   "execution_count": 105,
   "id": "f45e8da3",
   "metadata": {},
   "outputs": [
    {
     "data": {
      "text/plain": [
       "True"
      ]
     },
     "execution_count": 105,
     "metadata": {},
     "output_type": "execute_result"
    }
   ],
   "source": [
    "b = 'PROGramminG4'\n",
    "a.isalnum()"
   ]
  },
  {
   "cell_type": "code",
   "execution_count": 106,
   "id": "cdd00853",
   "metadata": {},
   "outputs": [
    {
     "data": {
      "text/plain": [
       "True"
      ]
     },
     "execution_count": 106,
     "metadata": {},
     "output_type": "execute_result"
    }
   ],
   "source": [
    "b = '3456'\n",
    "a.isalnum()"
   ]
  },
  {
   "cell_type": "markdown",
   "id": "bde71a66",
   "metadata": {},
   "source": [
    "##### isalpha( )"
   ]
  },
  {
   "cell_type": "code",
   "execution_count": 107,
   "id": "394d4a9e",
   "metadata": {},
   "outputs": [
    {
     "name": "stdout",
     "output_type": "stream",
     "text": [
      "Help on method_descriptor:\n",
      "\n",
      "isalpha(self, /)\n",
      "    Return True if the string is an alphabetic string, False otherwise.\n",
      "    \n",
      "    A string is alphabetic if all characters in the string are alphabetic and there\n",
      "    is at least one character in the string.\n",
      "\n",
      "None\n"
     ]
    }
   ],
   "source": [
    "print(help(str.isalpha))"
   ]
  },
  {
   "cell_type": "code",
   "execution_count": 108,
   "id": "5de03104",
   "metadata": {},
   "outputs": [
    {
     "data": {
      "text/plain": [
       "'Programming'"
      ]
     },
     "execution_count": 108,
     "metadata": {},
     "output_type": "execute_result"
    }
   ],
   "source": [
    "a"
   ]
  },
  {
   "cell_type": "code",
   "execution_count": 109,
   "id": "2c8bb949",
   "metadata": {},
   "outputs": [
    {
     "data": {
      "text/plain": [
       "True"
      ]
     },
     "execution_count": 109,
     "metadata": {},
     "output_type": "execute_result"
    }
   ],
   "source": [
    "a.isalpha()"
   ]
  },
  {
   "cell_type": "code",
   "execution_count": 110,
   "id": "440553b6",
   "metadata": {},
   "outputs": [
    {
     "data": {
      "text/plain": [
       "'3456'"
      ]
     },
     "execution_count": 110,
     "metadata": {},
     "output_type": "execute_result"
    }
   ],
   "source": [
    "b"
   ]
  },
  {
   "cell_type": "code",
   "execution_count": 111,
   "id": "981b5540",
   "metadata": {},
   "outputs": [
    {
     "data": {
      "text/plain": [
       "False"
      ]
     },
     "execution_count": 111,
     "metadata": {},
     "output_type": "execute_result"
    }
   ],
   "source": [
    "b.isalpha()"
   ]
  },
  {
   "cell_type": "markdown",
   "id": "e30b5923",
   "metadata": {},
   "source": [
    "##### isspace( )"
   ]
  },
  {
   "cell_type": "code",
   "execution_count": 112,
   "id": "a1c1d41f",
   "metadata": {},
   "outputs": [],
   "source": [
    "a = ' '"
   ]
  },
  {
   "cell_type": "code",
   "execution_count": 113,
   "id": "3a853462",
   "metadata": {},
   "outputs": [
    {
     "data": {
      "text/plain": [
       "True"
      ]
     },
     "execution_count": 113,
     "metadata": {},
     "output_type": "execute_result"
    }
   ],
   "source": [
    "a.isspace()"
   ]
  },
  {
   "cell_type": "code",
   "execution_count": 114,
   "id": "0bb374ad",
   "metadata": {},
   "outputs": [
    {
     "data": {
      "text/plain": [
       "False"
      ]
     },
     "execution_count": 114,
     "metadata": {},
     "output_type": "execute_result"
    }
   ],
   "source": [
    "a = 'python '\n",
    "a.isspace()"
   ]
  },
  {
   "cell_type": "markdown",
   "id": "df010033",
   "metadata": {},
   "source": [
    "##### istitle( )"
   ]
  },
  {
   "cell_type": "code",
   "execution_count": 115,
   "id": "8637ae0b",
   "metadata": {},
   "outputs": [],
   "source": [
    "a = 'Python Is Good Programming Language'"
   ]
  },
  {
   "cell_type": "code",
   "execution_count": 116,
   "id": "e31bc031",
   "metadata": {},
   "outputs": [
    {
     "data": {
      "text/plain": [
       "True"
      ]
     },
     "execution_count": 116,
     "metadata": {},
     "output_type": "execute_result"
    }
   ],
   "source": [
    "a.istitle()"
   ]
  },
  {
   "cell_type": "code",
   "execution_count": 117,
   "id": "08a11803",
   "metadata": {},
   "outputs": [
    {
     "data": {
      "text/plain": [
       "False"
      ]
     },
     "execution_count": 117,
     "metadata": {},
     "output_type": "execute_result"
    }
   ],
   "source": [
    "b ='python is good'\n",
    "b.istitle()"
   ]
  },
  {
   "cell_type": "markdown",
   "id": "76863b14",
   "metadata": {},
   "source": [
    "##### isdecimal( )"
   ]
  },
  {
   "cell_type": "code",
   "execution_count": 118,
   "id": "6a80e017",
   "metadata": {},
   "outputs": [
    {
     "name": "stdout",
     "output_type": "stream",
     "text": [
      "Help on method_descriptor:\n",
      "\n",
      "isdecimal(self, /)\n",
      "    Return True if the string is a decimal string, False otherwise.\n",
      "    \n",
      "    A string is a decimal string if all characters in the string are decimal and\n",
      "    there is at least one character in the string.\n",
      "\n",
      "None\n"
     ]
    }
   ],
   "source": [
    "print(help(str.isdecimal))"
   ]
  },
  {
   "cell_type": "code",
   "execution_count": 119,
   "id": "f4d318ad",
   "metadata": {},
   "outputs": [
    {
     "data": {
      "text/plain": [
       "True"
      ]
     },
     "execution_count": 119,
     "metadata": {},
     "output_type": "execute_result"
    }
   ],
   "source": [
    "a = '345678'\n",
    "a.isdecimal()"
   ]
  },
  {
   "cell_type": "code",
   "execution_count": 120,
   "id": "6a8ca138",
   "metadata": {},
   "outputs": [
    {
     "data": {
      "text/plain": [
       "True"
      ]
     },
     "execution_count": 120,
     "metadata": {},
     "output_type": "execute_result"
    }
   ],
   "source": [
    "b = '20.56'\n",
    "a.isdecimal()"
   ]
  },
  {
   "cell_type": "code",
   "execution_count": 121,
   "id": "b31c24b5",
   "metadata": {},
   "outputs": [
    {
     "data": {
      "text/plain": [
       "False"
      ]
     },
     "execution_count": 121,
     "metadata": {},
     "output_type": "execute_result"
    }
   ],
   "source": [
    "b.isdigit()"
   ]
  },
  {
   "cell_type": "code",
   "execution_count": 122,
   "id": "17bec512",
   "metadata": {},
   "outputs": [],
   "source": [
    "a = '''This is python programming class and \n",
    "we are learning strings in python\n",
    "next module is List'''"
   ]
  },
  {
   "cell_type": "code",
   "execution_count": 123,
   "id": "c82b37eb",
   "metadata": {},
   "outputs": [
    {
     "data": {
      "text/plain": [
       "'This is python programming class and \\nwe are learning strings in python\\nnext module is List'"
      ]
     },
     "execution_count": 123,
     "metadata": {},
     "output_type": "execute_result"
    }
   ],
   "source": [
    "a"
   ]
  },
  {
   "cell_type": "code",
   "execution_count": null,
   "id": "30c56de5",
   "metadata": {},
   "outputs": [],
   "source": []
  }
 ],
 "metadata": {
  "kernelspec": {
   "display_name": "Python 3 (ipykernel)",
   "language": "python",
   "name": "python3"
  },
  "language_info": {
   "codemirror_mode": {
    "name": "ipython",
    "version": 3
   },
   "file_extension": ".py",
   "mimetype": "text/x-python",
   "name": "python",
   "nbconvert_exporter": "python",
   "pygments_lexer": "ipython3",
   "version": "3.10.9"
  }
 },
 "nbformat": 4,
 "nbformat_minor": 5
}
