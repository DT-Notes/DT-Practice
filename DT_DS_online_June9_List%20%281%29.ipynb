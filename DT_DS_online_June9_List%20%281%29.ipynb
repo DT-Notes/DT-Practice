{
 "cells": [
  {
   "cell_type": "markdown",
   "id": "01e74eb0",
   "metadata": {},
   "source": [
    "## List"
   ]
  },
  {
   "cell_type": "raw",
   "id": "cb4b75f7",
   "metadata": {},
   "source": [
    "1. List is a collection of Hetrogeneoud data items which are indexed and mutable\n",
    "\n",
    "hetrogeneous : Different data type Items\n",
    "Indexed : Ordered \n",
    "Mutable : Changable \n",
    "\n",
    "2. List Items are written inside [ ]\n",
    "3. List Items can be accessed by referring to their index values"
   ]
  },
  {
   "cell_type": "code",
   "execution_count": 1,
   "id": "0becb49e",
   "metadata": {},
   "outputs": [],
   "source": [
    "#creating an empty list\n",
    "\n",
    "L = []"
   ]
  },
  {
   "cell_type": "code",
   "execution_count": 2,
   "id": "af9f75dd",
   "metadata": {},
   "outputs": [
    {
     "data": {
      "text/plain": [
       "list"
      ]
     },
     "execution_count": 2,
     "metadata": {},
     "output_type": "execute_result"
    }
   ],
   "source": [
    "type(L)"
   ]
  },
  {
   "cell_type": "code",
   "execution_count": 3,
   "id": "4d92973c",
   "metadata": {},
   "outputs": [],
   "source": [
    "L = list()"
   ]
  },
  {
   "cell_type": "code",
   "execution_count": 4,
   "id": "d3246911",
   "metadata": {},
   "outputs": [
    {
     "data": {
      "text/plain": [
       "list"
      ]
     },
     "execution_count": 4,
     "metadata": {},
     "output_type": "execute_result"
    }
   ],
   "source": [
    "type(L)"
   ]
  },
  {
   "cell_type": "code",
   "execution_count": 5,
   "id": "90945b16",
   "metadata": {},
   "outputs": [],
   "source": [
    "L = [12,45,67,89,23,46,34.89,'python',4+8j]"
   ]
  },
  {
   "cell_type": "code",
   "execution_count": 6,
   "id": "eb8e7a08",
   "metadata": {},
   "outputs": [
    {
     "data": {
      "text/plain": [
       "[12, 45, 67, 89, 23, 46, 34.89, 'python', (4+8j)]"
      ]
     },
     "execution_count": 6,
     "metadata": {},
     "output_type": "execute_result"
    }
   ],
   "source": [
    "L"
   ]
  },
  {
   "cell_type": "code",
   "execution_count": 7,
   "id": "565185dd",
   "metadata": {},
   "outputs": [],
   "source": [
    "L1 = ['india','Nepal','Japan','Thailand','Indonesia']"
   ]
  },
  {
   "cell_type": "code",
   "execution_count": 8,
   "id": "4bc3b33c",
   "metadata": {},
   "outputs": [
    {
     "data": {
      "text/plain": [
       "['india', 'Nepal', 'Japan', 'Thailand', 'Indonesia']"
      ]
     },
     "execution_count": 8,
     "metadata": {},
     "output_type": "execute_result"
    }
   ],
   "source": [
    "L1"
   ]
  },
  {
   "cell_type": "code",
   "execution_count": 9,
   "id": "abfc3d81",
   "metadata": {},
   "outputs": [],
   "source": [
    "# list items can be accessed by referring to their index values"
   ]
  },
  {
   "cell_type": "code",
   "execution_count": 10,
   "id": "530ba57c",
   "metadata": {},
   "outputs": [
    {
     "data": {
      "text/plain": [
       "[12, 45, 67, 89, 23, 46, 34.89, 'python', (4+8j)]"
      ]
     },
     "execution_count": 10,
     "metadata": {},
     "output_type": "execute_result"
    }
   ],
   "source": [
    "L"
   ]
  },
  {
   "cell_type": "code",
   "execution_count": 11,
   "id": "5a300ed5",
   "metadata": {},
   "outputs": [
    {
     "data": {
      "text/plain": [
       "45"
      ]
     },
     "execution_count": 11,
     "metadata": {},
     "output_type": "execute_result"
    }
   ],
   "source": [
    "L[1]"
   ]
  },
  {
   "cell_type": "code",
   "execution_count": 12,
   "id": "a3df614b",
   "metadata": {},
   "outputs": [
    {
     "data": {
      "text/plain": [
       "12"
      ]
     },
     "execution_count": 12,
     "metadata": {},
     "output_type": "execute_result"
    }
   ],
   "source": [
    "L[0]"
   ]
  },
  {
   "cell_type": "code",
   "execution_count": 13,
   "id": "4d989711",
   "metadata": {},
   "outputs": [
    {
     "data": {
      "text/plain": [
       "23"
      ]
     },
     "execution_count": 13,
     "metadata": {},
     "output_type": "execute_result"
    }
   ],
   "source": [
    "L[4]"
   ]
  },
  {
   "cell_type": "code",
   "execution_count": 14,
   "id": "f9af37df",
   "metadata": {},
   "outputs": [
    {
     "data": {
      "text/plain": [
       "(4+8j)"
      ]
     },
     "execution_count": 14,
     "metadata": {},
     "output_type": "execute_result"
    }
   ],
   "source": [
    "L[-1]"
   ]
  },
  {
   "cell_type": "code",
   "execution_count": 15,
   "id": "e036a97e",
   "metadata": {},
   "outputs": [
    {
     "data": {
      "text/plain": [
       "23"
      ]
     },
     "execution_count": 15,
     "metadata": {},
     "output_type": "execute_result"
    }
   ],
   "source": [
    "L[-5]"
   ]
  },
  {
   "cell_type": "code",
   "execution_count": 16,
   "id": "0e300018",
   "metadata": {},
   "outputs": [
    {
     "data": {
      "text/plain": [
       "12"
      ]
     },
     "execution_count": 16,
     "metadata": {},
     "output_type": "execute_result"
    }
   ],
   "source": [
    "L[-9]"
   ]
  },
  {
   "cell_type": "code",
   "execution_count": 17,
   "id": "376cef67",
   "metadata": {},
   "outputs": [
    {
     "data": {
      "text/plain": [
       "[12, 45, 67, 89, 23, 46, 34.89, 'python', (4+8j)]"
      ]
     },
     "execution_count": 17,
     "metadata": {},
     "output_type": "execute_result"
    }
   ],
   "source": [
    "L[:]"
   ]
  },
  {
   "cell_type": "code",
   "execution_count": 18,
   "id": "da3fcca0",
   "metadata": {},
   "outputs": [
    {
     "data": {
      "text/plain": [
       "[12, 45, 67, 89, 23, 46, 34.89, 'python', (4+8j)]"
      ]
     },
     "execution_count": 18,
     "metadata": {},
     "output_type": "execute_result"
    }
   ],
   "source": [
    "L[::]"
   ]
  },
  {
   "cell_type": "code",
   "execution_count": 19,
   "id": "c422032d",
   "metadata": {},
   "outputs": [
    {
     "data": {
      "text/plain": [
       "[(4+8j), 'python', 34.89, 46, 23, 89, 67, 45, 12]"
      ]
     },
     "execution_count": 19,
     "metadata": {},
     "output_type": "execute_result"
    }
   ],
   "source": [
    "L[::-1]"
   ]
  },
  {
   "cell_type": "markdown",
   "id": "ca27421f",
   "metadata": {},
   "source": [
    "###### list Slicing"
   ]
  },
  {
   "cell_type": "code",
   "execution_count": 20,
   "id": "7221456c",
   "metadata": {},
   "outputs": [
    {
     "data": {
      "text/plain": [
       "['india', 'Nepal', 'Japan', 'Thailand', 'Indonesia']"
      ]
     },
     "execution_count": 20,
     "metadata": {},
     "output_type": "execute_result"
    }
   ],
   "source": [
    "L1"
   ]
  },
  {
   "cell_type": "code",
   "execution_count": 21,
   "id": "cbced6c4",
   "metadata": {},
   "outputs": [
    {
     "data": {
      "text/plain": [
       "['india', 'Nepal', 'Japan']"
      ]
     },
     "execution_count": 21,
     "metadata": {},
     "output_type": "execute_result"
    }
   ],
   "source": [
    "L1[0:3]"
   ]
  },
  {
   "cell_type": "code",
   "execution_count": 22,
   "id": "16d7be10",
   "metadata": {},
   "outputs": [
    {
     "data": {
      "text/plain": [
       "['Indonesia']"
      ]
     },
     "execution_count": 22,
     "metadata": {},
     "output_type": "execute_result"
    }
   ],
   "source": [
    "L1[4:5]"
   ]
  },
  {
   "cell_type": "code",
   "execution_count": 23,
   "id": "af81fa0c",
   "metadata": {},
   "outputs": [
    {
     "data": {
      "text/plain": [
       "['india', 'Nepal']"
      ]
     },
     "execution_count": 23,
     "metadata": {},
     "output_type": "execute_result"
    }
   ],
   "source": [
    "L1[-5:-3]"
   ]
  },
  {
   "cell_type": "code",
   "execution_count": 24,
   "id": "29441861",
   "metadata": {},
   "outputs": [
    {
     "data": {
      "text/plain": [
       "[12, 45, 67, 89, 23, 46, 34.89, 'python', (4+8j)]"
      ]
     },
     "execution_count": 24,
     "metadata": {},
     "output_type": "execute_result"
    }
   ],
   "source": [
    "L"
   ]
  },
  {
   "cell_type": "code",
   "execution_count": 25,
   "id": "e02aac73",
   "metadata": {},
   "outputs": [
    {
     "data": {
      "text/plain": [
       "[12, 45, 67, 89, 23, 46]"
      ]
     },
     "execution_count": 25,
     "metadata": {},
     "output_type": "execute_result"
    }
   ],
   "source": [
    "L[0:6]"
   ]
  },
  {
   "cell_type": "code",
   "execution_count": 27,
   "id": "a5334ad1",
   "metadata": {},
   "outputs": [
    {
     "data": {
      "text/plain": [
       "[12, 45, 67, 89, 23, 46]"
      ]
     },
     "execution_count": 27,
     "metadata": {},
     "output_type": "execute_result"
    }
   ],
   "source": [
    "L[-10:-3]"
   ]
  },
  {
   "cell_type": "markdown",
   "id": "cada794b",
   "metadata": {},
   "source": [
    "##### list Methods"
   ]
  },
  {
   "cell_type": "code",
   "execution_count": 28,
   "id": "7d802efa",
   "metadata": {},
   "outputs": [
    {
     "data": {
      "text/plain": [
       "[12, 45, 67, 89, 23, 46, 34.89, 'python', (4+8j)]"
      ]
     },
     "execution_count": 28,
     "metadata": {},
     "output_type": "execute_result"
    }
   ],
   "source": [
    "L"
   ]
  },
  {
   "cell_type": "code",
   "execution_count": 29,
   "id": "38b9c8a6",
   "metadata": {},
   "outputs": [],
   "source": [
    "#adding item at the end of the list \n",
    "\n"
   ]
  },
  {
   "cell_type": "markdown",
   "id": "94fd87a5",
   "metadata": {},
   "source": [
    "#### append( )"
   ]
  },
  {
   "cell_type": "code",
   "execution_count": 31,
   "id": "4ce30f60",
   "metadata": {},
   "outputs": [
    {
     "data": {
      "text/plain": [
       "[12, 45, 67, 89, 23, 46, 34.89, 'python', (4+8j)]"
      ]
     },
     "execution_count": 31,
     "metadata": {},
     "output_type": "execute_result"
    }
   ],
   "source": [
    "L"
   ]
  },
  {
   "cell_type": "code",
   "execution_count": 32,
   "id": "d9092050",
   "metadata": {},
   "outputs": [],
   "source": [
    "L.append(1000)"
   ]
  },
  {
   "cell_type": "code",
   "execution_count": 33,
   "id": "bb5d3e02",
   "metadata": {},
   "outputs": [
    {
     "data": {
      "text/plain": [
       "[12, 45, 67, 89, 23, 46, 34.89, 'python', (4+8j), 1000]"
      ]
     },
     "execution_count": 33,
     "metadata": {},
     "output_type": "execute_result"
    }
   ],
   "source": [
    "L"
   ]
  },
  {
   "cell_type": "code",
   "execution_count": 34,
   "id": "f2c014f0",
   "metadata": {},
   "outputs": [],
   "source": [
    "L.append(2000)"
   ]
  },
  {
   "cell_type": "code",
   "execution_count": 35,
   "id": "35094f03",
   "metadata": {},
   "outputs": [
    {
     "data": {
      "text/plain": [
       "[12, 45, 67, 89, 23, 46, 34.89, 'python', (4+8j), 1000, 2000]"
      ]
     },
     "execution_count": 35,
     "metadata": {},
     "output_type": "execute_result"
    }
   ],
   "source": [
    "L"
   ]
  },
  {
   "cell_type": "code",
   "execution_count": 36,
   "id": "54cc4d2e",
   "metadata": {},
   "outputs": [
    {
     "data": {
      "text/plain": [
       "['india', 'Nepal', 'Japan', 'Thailand', 'Indonesia']"
      ]
     },
     "execution_count": 36,
     "metadata": {},
     "output_type": "execute_result"
    }
   ],
   "source": [
    "L1"
   ]
  },
  {
   "cell_type": "code",
   "execution_count": 37,
   "id": "b1174cb9",
   "metadata": {},
   "outputs": [],
   "source": [
    "L1.append('USA')"
   ]
  },
  {
   "cell_type": "code",
   "execution_count": 38,
   "id": "ed63dd57",
   "metadata": {},
   "outputs": [
    {
     "data": {
      "text/plain": [
       "['india', 'Nepal', 'Japan', 'Thailand', 'Indonesia', 'USA']"
      ]
     },
     "execution_count": 38,
     "metadata": {},
     "output_type": "execute_result"
    }
   ],
   "source": [
    "L1"
   ]
  },
  {
   "cell_type": "code",
   "execution_count": 39,
   "id": "127e5055",
   "metadata": {},
   "outputs": [],
   "source": [
    "# add mutiple items to a list \n"
   ]
  },
  {
   "cell_type": "markdown",
   "id": "46472061",
   "metadata": {},
   "source": [
    "##### extend( )"
   ]
  },
  {
   "cell_type": "code",
   "execution_count": 40,
   "id": "e34da11f",
   "metadata": {},
   "outputs": [
    {
     "name": "stdout",
     "output_type": "stream",
     "text": [
      "Help on method_descriptor:\n",
      "\n",
      "extend(self, iterable, /)\n",
      "    Extend list by appending elements from the iterable.\n",
      "\n",
      "None\n"
     ]
    }
   ],
   "source": [
    "print(help(list.extend))"
   ]
  },
  {
   "cell_type": "code",
   "execution_count": 41,
   "id": "77d27445",
   "metadata": {},
   "outputs": [],
   "source": [
    "L2 = [12,23,45,67]"
   ]
  },
  {
   "cell_type": "code",
   "execution_count": 42,
   "id": "3238f87b",
   "metadata": {},
   "outputs": [],
   "source": [
    "L2.extend([100,200,300,400])"
   ]
  },
  {
   "cell_type": "code",
   "execution_count": 43,
   "id": "f5f746a4",
   "metadata": {},
   "outputs": [
    {
     "data": {
      "text/plain": [
       "[12, 23, 45, 67, 100, 200, 300, 400]"
      ]
     },
     "execution_count": 43,
     "metadata": {},
     "output_type": "execute_result"
    }
   ],
   "source": [
    "L2"
   ]
  },
  {
   "cell_type": "code",
   "execution_count": 44,
   "id": "87dc4a78",
   "metadata": {},
   "outputs": [],
   "source": [
    "L2.extend(['python','java'])"
   ]
  },
  {
   "cell_type": "code",
   "execution_count": 45,
   "id": "c92da21d",
   "metadata": {},
   "outputs": [
    {
     "data": {
      "text/plain": [
       "[12, 23, 45, 67, 100, 200, 300, 400, 'python', 'java']"
      ]
     },
     "execution_count": 45,
     "metadata": {},
     "output_type": "execute_result"
    }
   ],
   "source": [
    "L2"
   ]
  },
  {
   "cell_type": "code",
   "execution_count": 46,
   "id": "5d94483c",
   "metadata": {},
   "outputs": [
    {
     "data": {
      "text/plain": [
       "[12, 23, 45, 67, 100, 200, 300, 400, 'python', 'java']"
      ]
     },
     "execution_count": 46,
     "metadata": {},
     "output_type": "execute_result"
    }
   ],
   "source": [
    "L2"
   ]
  },
  {
   "cell_type": "code",
   "execution_count": 47,
   "id": "40aedfc3",
   "metadata": {},
   "outputs": [
    {
     "data": {
      "text/plain": [
       "['india', 'Nepal', 'Japan', 'Thailand', 'Indonesia', 'USA']"
      ]
     },
     "execution_count": 47,
     "metadata": {},
     "output_type": "execute_result"
    }
   ],
   "source": [
    "L1"
   ]
  },
  {
   "cell_type": "code",
   "execution_count": 48,
   "id": "e83f771a",
   "metadata": {},
   "outputs": [],
   "source": [
    "# adding an item in index position "
   ]
  },
  {
   "cell_type": "code",
   "execution_count": 49,
   "id": "fee4f6a2",
   "metadata": {},
   "outputs": [],
   "source": [
    "L1.insert(2,'Canada')"
   ]
  },
  {
   "cell_type": "code",
   "execution_count": 50,
   "id": "86c5ef5c",
   "metadata": {},
   "outputs": [
    {
     "data": {
      "text/plain": [
       "['india', 'Nepal', 'Canada', 'Japan', 'Thailand', 'Indonesia', 'USA']"
      ]
     },
     "execution_count": 50,
     "metadata": {},
     "output_type": "execute_result"
    }
   ],
   "source": [
    "L1"
   ]
  },
  {
   "cell_type": "code",
   "execution_count": 1,
   "id": "3de0ef3f",
   "metadata": {},
   "outputs": [],
   "source": [
    "L = [12,45,67,89,12,67]"
   ]
  },
  {
   "cell_type": "code",
   "execution_count": 2,
   "id": "8d02b5a6",
   "metadata": {},
   "outputs": [
    {
     "data": {
      "text/plain": [
       "[12, 45, 67, 89, 12, 67]"
      ]
     },
     "execution_count": 2,
     "metadata": {},
     "output_type": "execute_result"
    }
   ],
   "source": [
    "L"
   ]
  },
  {
   "cell_type": "code",
   "execution_count": 3,
   "id": "d19daff7",
   "metadata": {},
   "outputs": [
    {
     "data": {
      "text/plain": [
       "list"
      ]
     },
     "execution_count": 3,
     "metadata": {},
     "output_type": "execute_result"
    }
   ],
   "source": [
    "type(L)"
   ]
  },
  {
   "cell_type": "code",
   "execution_count": 4,
   "id": "924f49d4",
   "metadata": {},
   "outputs": [],
   "source": [
    "L = [34.89,23,'python']"
   ]
  },
  {
   "cell_type": "code",
   "execution_count": 5,
   "id": "aba55ded",
   "metadata": {},
   "outputs": [
    {
     "data": {
      "text/plain": [
       "[34.89, 23, 'python']"
      ]
     },
     "execution_count": 5,
     "metadata": {},
     "output_type": "execute_result"
    }
   ],
   "source": [
    "L"
   ]
  },
  {
   "cell_type": "code",
   "execution_count": 6,
   "id": "462f18d7",
   "metadata": {},
   "outputs": [
    {
     "data": {
      "text/plain": [
       "34.89"
      ]
     },
     "execution_count": 6,
     "metadata": {},
     "output_type": "execute_result"
    }
   ],
   "source": [
    "L[0]"
   ]
  },
  {
   "cell_type": "code",
   "execution_count": 7,
   "id": "4fd105cf",
   "metadata": {},
   "outputs": [
    {
     "data": {
      "text/plain": [
       "'python'"
      ]
     },
     "execution_count": 7,
     "metadata": {},
     "output_type": "execute_result"
    }
   ],
   "source": [
    "L[-1]"
   ]
  },
  {
   "cell_type": "code",
   "execution_count": 8,
   "id": "61c8b4cd",
   "metadata": {},
   "outputs": [
    {
     "data": {
      "text/plain": [
       "[34.89, 23]"
      ]
     },
     "execution_count": 8,
     "metadata": {},
     "output_type": "execute_result"
    }
   ],
   "source": [
    "L[0:2]"
   ]
  },
  {
   "cell_type": "markdown",
   "id": "2c2e454f",
   "metadata": {},
   "source": [
    "##### insert ( )"
   ]
  },
  {
   "cell_type": "code",
   "execution_count": 9,
   "id": "83f77b66",
   "metadata": {},
   "outputs": [
    {
     "name": "stdout",
     "output_type": "stream",
     "text": [
      "Help on method_descriptor:\n",
      "\n",
      "insert(self, index, object, /)\n",
      "    Insert object before index.\n",
      "\n",
      "None\n"
     ]
    }
   ],
   "source": [
    "print(help(list.insert))"
   ]
  },
  {
   "cell_type": "code",
   "execution_count": 10,
   "id": "0e824928",
   "metadata": {},
   "outputs": [],
   "source": [
    "L = ['india','Nepal','Japan','Thailand','Indonesia']"
   ]
  },
  {
   "cell_type": "code",
   "execution_count": 11,
   "id": "41bb990b",
   "metadata": {},
   "outputs": [
    {
     "data": {
      "text/plain": [
       "['india', 'Nepal', 'Japan', 'Thailand', 'Indonesia']"
      ]
     },
     "execution_count": 11,
     "metadata": {},
     "output_type": "execute_result"
    }
   ],
   "source": [
    "L"
   ]
  },
  {
   "cell_type": "code",
   "execution_count": 12,
   "id": "7dc14ce4",
   "metadata": {},
   "outputs": [],
   "source": [
    "L.insert(1,'Bhutan')"
   ]
  },
  {
   "cell_type": "code",
   "execution_count": 13,
   "id": "e0a966c6",
   "metadata": {},
   "outputs": [
    {
     "data": {
      "text/plain": [
       "['india', 'Bhutan', 'Nepal', 'Japan', 'Thailand', 'Indonesia']"
      ]
     },
     "execution_count": 13,
     "metadata": {},
     "output_type": "execute_result"
    }
   ],
   "source": [
    "L"
   ]
  },
  {
   "cell_type": "code",
   "execution_count": 14,
   "id": "8a6ff58d",
   "metadata": {},
   "outputs": [],
   "source": [
    "L1 = [12,45,67,89,23,46,77,99,88,35,67]"
   ]
  },
  {
   "cell_type": "markdown",
   "id": "105e4d38",
   "metadata": {},
   "source": [
    "##### clear ( )"
   ]
  },
  {
   "cell_type": "code",
   "execution_count": 16,
   "id": "5d02d8e4",
   "metadata": {},
   "outputs": [
    {
     "name": "stdout",
     "output_type": "stream",
     "text": [
      "Help on method_descriptor:\n",
      "\n",
      "clear(self, /)\n",
      "    Remove all items from list.\n",
      "\n",
      "None\n"
     ]
    }
   ],
   "source": [
    "print(help(list.clear))"
   ]
  },
  {
   "cell_type": "code",
   "execution_count": 18,
   "id": "d93d3ae6",
   "metadata": {},
   "outputs": [
    {
     "data": {
      "text/plain": [
       "[12, 45, 67, 89, 23, 46, 77, 99, 88, 35, 67]"
      ]
     },
     "execution_count": 18,
     "metadata": {},
     "output_type": "execute_result"
    }
   ],
   "source": [
    "L1"
   ]
  },
  {
   "cell_type": "code",
   "execution_count": 19,
   "id": "ce95fd08",
   "metadata": {},
   "outputs": [],
   "source": [
    "L1.clear()"
   ]
  },
  {
   "cell_type": "code",
   "execution_count": 20,
   "id": "c7aa2cbd",
   "metadata": {},
   "outputs": [
    {
     "data": {
      "text/plain": [
       "[]"
      ]
     },
     "execution_count": 20,
     "metadata": {},
     "output_type": "execute_result"
    }
   ],
   "source": [
    "L1"
   ]
  },
  {
   "cell_type": "markdown",
   "id": "1c4b5462",
   "metadata": {},
   "source": [
    "##### copy( )"
   ]
  },
  {
   "cell_type": "code",
   "execution_count": 21,
   "id": "2dd242c8",
   "metadata": {},
   "outputs": [
    {
     "name": "stdout",
     "output_type": "stream",
     "text": [
      "Help on method_descriptor:\n",
      "\n",
      "copy(self, /)\n",
      "    Return a shallow copy of the list.\n",
      "\n",
      "None\n"
     ]
    }
   ],
   "source": [
    "print(help(list.copy))"
   ]
  },
  {
   "cell_type": "code",
   "execution_count": 22,
   "id": "66e51919",
   "metadata": {},
   "outputs": [],
   "source": [
    "L1 = [12,45,67,89,23,46,77,99,88,35,67]"
   ]
  },
  {
   "cell_type": "code",
   "execution_count": 23,
   "id": "c26ff911",
   "metadata": {},
   "outputs": [],
   "source": [
    "L2 = L1.copy()"
   ]
  },
  {
   "cell_type": "code",
   "execution_count": 24,
   "id": "fa4a88da",
   "metadata": {},
   "outputs": [
    {
     "data": {
      "text/plain": [
       "([12, 45, 67, 89, 23, 46, 77, 99, 88, 35, 67],\n",
       " [12, 45, 67, 89, 23, 46, 77, 99, 88, 35, 67])"
      ]
     },
     "execution_count": 24,
     "metadata": {},
     "output_type": "execute_result"
    }
   ],
   "source": [
    "L1,L2"
   ]
  },
  {
   "cell_type": "markdown",
   "id": "d2a97772",
   "metadata": {},
   "source": [
    "##### count ( )"
   ]
  },
  {
   "cell_type": "code",
   "execution_count": 25,
   "id": "ff4a02b2",
   "metadata": {},
   "outputs": [],
   "source": [
    "L3 = [10,23,10,45,10,23,45,10,20,34,23,89]"
   ]
  },
  {
   "cell_type": "code",
   "execution_count": 26,
   "id": "ca0a4f87",
   "metadata": {},
   "outputs": [
    {
     "data": {
      "text/plain": [
       "[10, 23, 10, 45, 10, 23, 45, 10, 20, 34, 23, 89]"
      ]
     },
     "execution_count": 26,
     "metadata": {},
     "output_type": "execute_result"
    }
   ],
   "source": [
    "L3"
   ]
  },
  {
   "cell_type": "code",
   "execution_count": 27,
   "id": "fb04a196",
   "metadata": {},
   "outputs": [
    {
     "name": "stdout",
     "output_type": "stream",
     "text": [
      "Help on method_descriptor:\n",
      "\n",
      "count(self, value, /)\n",
      "    Return number of occurrences of value.\n",
      "\n",
      "None\n"
     ]
    }
   ],
   "source": [
    "print(help(list.count))"
   ]
  },
  {
   "cell_type": "code",
   "execution_count": 28,
   "id": "31c68257",
   "metadata": {},
   "outputs": [
    {
     "data": {
      "text/plain": [
       "4"
      ]
     },
     "execution_count": 28,
     "metadata": {},
     "output_type": "execute_result"
    }
   ],
   "source": [
    "L3.count(10)"
   ]
  },
  {
   "cell_type": "code",
   "execution_count": 29,
   "id": "0577acf2",
   "metadata": {},
   "outputs": [
    {
     "data": {
      "text/plain": [
       "3"
      ]
     },
     "execution_count": 29,
     "metadata": {},
     "output_type": "execute_result"
    }
   ],
   "source": [
    "L3.count(23)"
   ]
  },
  {
   "cell_type": "markdown",
   "id": "9fbbaf6c",
   "metadata": {},
   "source": [
    "##### index( )"
   ]
  },
  {
   "cell_type": "code",
   "execution_count": 30,
   "id": "ac41f459",
   "metadata": {},
   "outputs": [
    {
     "name": "stdout",
     "output_type": "stream",
     "text": [
      "Help on method_descriptor:\n",
      "\n",
      "index(self, value, start=0, stop=9223372036854775807, /)\n",
      "    Return first index of value.\n",
      "    \n",
      "    Raises ValueError if the value is not present.\n",
      "\n",
      "None\n"
     ]
    }
   ],
   "source": [
    "print(help(list.index))"
   ]
  },
  {
   "cell_type": "code",
   "execution_count": 32,
   "id": "5afcf29f",
   "metadata": {},
   "outputs": [
    {
     "data": {
      "text/plain": [
       "[10, 23, 10, 45, 10, 23, 45, 10, 20, 34, 23, 89]"
      ]
     },
     "execution_count": 32,
     "metadata": {},
     "output_type": "execute_result"
    }
   ],
   "source": [
    "L3"
   ]
  },
  {
   "cell_type": "code",
   "execution_count": 33,
   "id": "a795d1d8",
   "metadata": {},
   "outputs": [
    {
     "data": {
      "text/plain": [
       "1"
      ]
     },
     "execution_count": 33,
     "metadata": {},
     "output_type": "execute_result"
    }
   ],
   "source": [
    "L3.index(23)"
   ]
  },
  {
   "cell_type": "code",
   "execution_count": 34,
   "id": "4abf3aaa",
   "metadata": {},
   "outputs": [
    {
     "data": {
      "text/plain": [
       "0"
      ]
     },
     "execution_count": 34,
     "metadata": {},
     "output_type": "execute_result"
    }
   ],
   "source": [
    "L3.index(10)"
   ]
  },
  {
   "cell_type": "code",
   "execution_count": 35,
   "id": "a26e757a",
   "metadata": {},
   "outputs": [
    {
     "data": {
      "text/plain": [
       "3"
      ]
     },
     "execution_count": 35,
     "metadata": {},
     "output_type": "execute_result"
    }
   ],
   "source": [
    "L3.index(45)"
   ]
  },
  {
   "cell_type": "markdown",
   "id": "9522a8ea",
   "metadata": {},
   "source": [
    "##### remove ( )"
   ]
  },
  {
   "cell_type": "code",
   "execution_count": 36,
   "id": "39aafb0f",
   "metadata": {},
   "outputs": [
    {
     "data": {
      "text/plain": [
       "[10, 23, 10, 45, 10, 23, 45, 10, 20, 34, 23, 89]"
      ]
     },
     "execution_count": 36,
     "metadata": {},
     "output_type": "execute_result"
    }
   ],
   "source": [
    "L3"
   ]
  },
  {
   "cell_type": "code",
   "execution_count": 37,
   "id": "a334eb2a",
   "metadata": {},
   "outputs": [
    {
     "name": "stdout",
     "output_type": "stream",
     "text": [
      "Help on method_descriptor:\n",
      "\n",
      "remove(self, value, /)\n",
      "    Remove first occurrence of value.\n",
      "    \n",
      "    Raises ValueError if the value is not present.\n",
      "\n",
      "None\n"
     ]
    }
   ],
   "source": [
    "print(help(list.remove))"
   ]
  },
  {
   "cell_type": "code",
   "execution_count": 38,
   "id": "2221e44b",
   "metadata": {},
   "outputs": [],
   "source": [
    "L3.remove(10)"
   ]
  },
  {
   "cell_type": "code",
   "execution_count": 39,
   "id": "3cf3a57b",
   "metadata": {},
   "outputs": [
    {
     "data": {
      "text/plain": [
       "[23, 10, 45, 10, 23, 45, 10, 20, 34, 23, 89]"
      ]
     },
     "execution_count": 39,
     "metadata": {},
     "output_type": "execute_result"
    }
   ],
   "source": [
    "L3"
   ]
  },
  {
   "cell_type": "code",
   "execution_count": 40,
   "id": "890fca82",
   "metadata": {},
   "outputs": [],
   "source": [
    "L3.remove(45)"
   ]
  },
  {
   "cell_type": "code",
   "execution_count": 41,
   "id": "a25da793",
   "metadata": {},
   "outputs": [
    {
     "data": {
      "text/plain": [
       "[23, 10, 10, 23, 45, 10, 20, 34, 23, 89]"
      ]
     },
     "execution_count": 41,
     "metadata": {},
     "output_type": "execute_result"
    }
   ],
   "source": [
    "L3"
   ]
  },
  {
   "cell_type": "code",
   "execution_count": 42,
   "id": "75ecc423",
   "metadata": {},
   "outputs": [
    {
     "data": {
      "text/plain": [
       "[12, 45, 67, 89, 23, 46, 77, 99, 88, 35, 67]"
      ]
     },
     "execution_count": 42,
     "metadata": {},
     "output_type": "execute_result"
    }
   ],
   "source": [
    "L1"
   ]
  },
  {
   "cell_type": "code",
   "execution_count": 43,
   "id": "881d6c3b",
   "metadata": {},
   "outputs": [],
   "source": [
    "L1.remove(23)"
   ]
  },
  {
   "cell_type": "code",
   "execution_count": 44,
   "id": "7bc68534",
   "metadata": {},
   "outputs": [
    {
     "data": {
      "text/plain": [
       "[12, 45, 67, 89, 46, 77, 99, 88, 35, 67]"
      ]
     },
     "execution_count": 44,
     "metadata": {},
     "output_type": "execute_result"
    }
   ],
   "source": [
    "L1"
   ]
  },
  {
   "cell_type": "code",
   "execution_count": 45,
   "id": "cbb0bd5e",
   "metadata": {},
   "outputs": [
    {
     "data": {
      "text/plain": [
       "[12, 45, 67, 89, 46, 77, 99, 88, 35, 67]"
      ]
     },
     "execution_count": 45,
     "metadata": {},
     "output_type": "execute_result"
    }
   ],
   "source": [
    "L1"
   ]
  },
  {
   "cell_type": "code",
   "execution_count": 46,
   "id": "0456a4fa",
   "metadata": {},
   "outputs": [
    {
     "ename": "ValueError",
     "evalue": "list.remove(x): x not in list",
     "output_type": "error",
     "traceback": [
      "\u001b[0;31m---------------------------------------------------------------------------\u001b[0m",
      "\u001b[0;31mValueError\u001b[0m                                Traceback (most recent call last)",
      "Cell \u001b[0;32mIn[46], line 1\u001b[0m\n\u001b[0;32m----> 1\u001b[0m \u001b[43mL1\u001b[49m\u001b[38;5;241;43m.\u001b[39;49m\u001b[43mremove\u001b[49m\u001b[43m(\u001b[49m\u001b[38;5;241;43m100\u001b[39;49m\u001b[43m)\u001b[49m\n",
      "\u001b[0;31mValueError\u001b[0m: list.remove(x): x not in list"
     ]
    }
   ],
   "source": [
    "L1.remove(100)"
   ]
  },
  {
   "cell_type": "markdown",
   "id": "36d9d0fd",
   "metadata": {},
   "source": [
    "##### pop ( )"
   ]
  },
  {
   "cell_type": "code",
   "execution_count": 47,
   "id": "f88efed1",
   "metadata": {},
   "outputs": [
    {
     "data": {
      "text/plain": [
       "['india', 'Bhutan', 'Nepal', 'Japan', 'Thailand', 'Indonesia']"
      ]
     },
     "execution_count": 47,
     "metadata": {},
     "output_type": "execute_result"
    }
   ],
   "source": [
    "L"
   ]
  },
  {
   "cell_type": "code",
   "execution_count": 48,
   "id": "7fab563b",
   "metadata": {},
   "outputs": [
    {
     "data": {
      "text/plain": [
       "'Indonesia'"
      ]
     },
     "execution_count": 48,
     "metadata": {},
     "output_type": "execute_result"
    }
   ],
   "source": [
    "L.pop()"
   ]
  },
  {
   "cell_type": "code",
   "execution_count": 49,
   "id": "358c0116",
   "metadata": {},
   "outputs": [
    {
     "data": {
      "text/plain": [
       "['india', 'Bhutan', 'Nepal', 'Japan', 'Thailand']"
      ]
     },
     "execution_count": 49,
     "metadata": {},
     "output_type": "execute_result"
    }
   ],
   "source": [
    "L"
   ]
  },
  {
   "cell_type": "code",
   "execution_count": 50,
   "id": "555dd9c7",
   "metadata": {},
   "outputs": [
    {
     "data": {
      "text/plain": [
       "'Thailand'"
      ]
     },
     "execution_count": 50,
     "metadata": {},
     "output_type": "execute_result"
    }
   ],
   "source": [
    "L.pop()"
   ]
  },
  {
   "cell_type": "code",
   "execution_count": 51,
   "id": "9085419b",
   "metadata": {},
   "outputs": [
    {
     "data": {
      "text/plain": [
       "['india', 'Bhutan', 'Nepal', 'Japan']"
      ]
     },
     "execution_count": 51,
     "metadata": {},
     "output_type": "execute_result"
    }
   ],
   "source": [
    "L"
   ]
  },
  {
   "cell_type": "code",
   "execution_count": 53,
   "id": "03aca1cb",
   "metadata": {},
   "outputs": [
    {
     "data": {
      "text/plain": [
       "'Bhutan'"
      ]
     },
     "execution_count": 53,
     "metadata": {},
     "output_type": "execute_result"
    }
   ],
   "source": [
    "L.pop(1)"
   ]
  },
  {
   "cell_type": "code",
   "execution_count": 54,
   "id": "a976686d",
   "metadata": {},
   "outputs": [
    {
     "data": {
      "text/plain": [
       "[12, 45, 67, 89, 46, 77, 99, 88, 35, 67]"
      ]
     },
     "execution_count": 54,
     "metadata": {},
     "output_type": "execute_result"
    }
   ],
   "source": [
    "L1"
   ]
  },
  {
   "cell_type": "code",
   "execution_count": 55,
   "id": "9d910fa5",
   "metadata": {},
   "outputs": [
    {
     "data": {
      "text/plain": [
       "67"
      ]
     },
     "execution_count": 55,
     "metadata": {},
     "output_type": "execute_result"
    }
   ],
   "source": [
    "L1.pop()"
   ]
  },
  {
   "cell_type": "code",
   "execution_count": 56,
   "id": "329b2e4c",
   "metadata": {},
   "outputs": [
    {
     "data": {
      "text/plain": [
       "67"
      ]
     },
     "execution_count": 56,
     "metadata": {},
     "output_type": "execute_result"
    }
   ],
   "source": [
    "L1.pop(2)"
   ]
  },
  {
   "cell_type": "code",
   "execution_count": 57,
   "id": "6132c4f0",
   "metadata": {},
   "outputs": [
    {
     "data": {
      "text/plain": [
       "[12, 45, 89, 46, 77, 99, 88, 35]"
      ]
     },
     "execution_count": 57,
     "metadata": {},
     "output_type": "execute_result"
    }
   ],
   "source": [
    "L1"
   ]
  },
  {
   "cell_type": "markdown",
   "id": "3efef08f",
   "metadata": {},
   "source": [
    "##### sort( )"
   ]
  },
  {
   "cell_type": "code",
   "execution_count": 58,
   "id": "12aa3691",
   "metadata": {},
   "outputs": [],
   "source": [
    "L1.sort()"
   ]
  },
  {
   "cell_type": "code",
   "execution_count": 59,
   "id": "2febdd96",
   "metadata": {},
   "outputs": [
    {
     "data": {
      "text/plain": [
       "[12, 35, 45, 46, 77, 88, 89, 99]"
      ]
     },
     "execution_count": 59,
     "metadata": {},
     "output_type": "execute_result"
    }
   ],
   "source": [
    "L1"
   ]
  },
  {
   "cell_type": "code",
   "execution_count": 60,
   "id": "55170894",
   "metadata": {},
   "outputs": [],
   "source": [
    "L1.sort(reverse=True)"
   ]
  },
  {
   "cell_type": "code",
   "execution_count": 61,
   "id": "f7b68028",
   "metadata": {},
   "outputs": [
    {
     "data": {
      "text/plain": [
       "[99, 89, 88, 77, 46, 45, 35, 12]"
      ]
     },
     "execution_count": 61,
     "metadata": {},
     "output_type": "execute_result"
    }
   ],
   "source": [
    "L1"
   ]
  },
  {
   "cell_type": "markdown",
   "id": "943df8e6",
   "metadata": {},
   "source": [
    "##### reverse( )"
   ]
  },
  {
   "cell_type": "code",
   "execution_count": 62,
   "id": "cf85fc97",
   "metadata": {},
   "outputs": [
    {
     "name": "stdout",
     "output_type": "stream",
     "text": [
      "Help on method_descriptor:\n",
      "\n",
      "reverse(self, /)\n",
      "    Reverse *IN PLACE*.\n",
      "\n",
      "None\n"
     ]
    }
   ],
   "source": [
    "print(help(list.reverse))"
   ]
  },
  {
   "cell_type": "code",
   "execution_count": 63,
   "id": "03a57188",
   "metadata": {},
   "outputs": [
    {
     "data": {
      "text/plain": [
       "['india', 'Nepal', 'Japan']"
      ]
     },
     "execution_count": 63,
     "metadata": {},
     "output_type": "execute_result"
    }
   ],
   "source": [
    "L"
   ]
  },
  {
   "cell_type": "code",
   "execution_count": 64,
   "id": "a6478d05",
   "metadata": {},
   "outputs": [],
   "source": [
    "L.reverse()"
   ]
  },
  {
   "cell_type": "code",
   "execution_count": 65,
   "id": "da6034e3",
   "metadata": {},
   "outputs": [
    {
     "data": {
      "text/plain": [
       "['Japan', 'Nepal', 'india']"
      ]
     },
     "execution_count": 65,
     "metadata": {},
     "output_type": "execute_result"
    }
   ],
   "source": [
    "L"
   ]
  },
  {
   "cell_type": "code",
   "execution_count": 66,
   "id": "f3e7b407",
   "metadata": {},
   "outputs": [
    {
     "data": {
      "text/plain": [
       "[99, 89, 88, 77, 46, 45, 35, 12]"
      ]
     },
     "execution_count": 66,
     "metadata": {},
     "output_type": "execute_result"
    }
   ],
   "source": [
    "L1"
   ]
  },
  {
   "cell_type": "code",
   "execution_count": 67,
   "id": "3d675fc0",
   "metadata": {},
   "outputs": [],
   "source": [
    "L1[1] = 100"
   ]
  },
  {
   "cell_type": "code",
   "execution_count": 70,
   "id": "5e2a5594",
   "metadata": {},
   "outputs": [
    {
     "data": {
      "text/plain": [
       "[99, 100, 88, 77, 46, 45, 35, 12]"
      ]
     },
     "execution_count": 70,
     "metadata": {},
     "output_type": "execute_result"
    }
   ],
   "source": [
    "L1"
   ]
  },
  {
   "cell_type": "markdown",
   "id": "248122de",
   "metadata": {},
   "source": [
    "# tuple"
   ]
  },
  {
   "cell_type": "markdown",
   "id": "99b5f3a8",
   "metadata": {},
   "source": [
    "1. Tuple is collection of hetrogeneous data items which are Indexed and Immutable\n",
    "2. Tuple Items are written with ( )\n",
    "3. Tuple Items can be accessed by referring to their index values\n",
    "4. We can not add / remove items to/from tuple "
   ]
  },
  {
   "cell_type": "code",
   "execution_count": 71,
   "id": "fdde18bb",
   "metadata": {},
   "outputs": [],
   "source": [
    "T = ()"
   ]
  },
  {
   "cell_type": "code",
   "execution_count": 72,
   "id": "5206ce86",
   "metadata": {},
   "outputs": [
    {
     "data": {
      "text/plain": [
       "tuple"
      ]
     },
     "execution_count": 72,
     "metadata": {},
     "output_type": "execute_result"
    }
   ],
   "source": [
    "type(T)"
   ]
  },
  {
   "cell_type": "code",
   "execution_count": 73,
   "id": "4a9c0bea",
   "metadata": {},
   "outputs": [],
   "source": [
    "T = tuple()"
   ]
  },
  {
   "cell_type": "code",
   "execution_count": 74,
   "id": "ae869385",
   "metadata": {},
   "outputs": [
    {
     "data": {
      "text/plain": [
       "tuple"
      ]
     },
     "execution_count": 74,
     "metadata": {},
     "output_type": "execute_result"
    }
   ],
   "source": [
    "type(T)"
   ]
  },
  {
   "cell_type": "code",
   "execution_count": 76,
   "id": "b725dd5f",
   "metadata": {},
   "outputs": [],
   "source": [
    "# tuple with a single Item"
   ]
  },
  {
   "cell_type": "code",
   "execution_count": 77,
   "id": "44b506dc",
   "metadata": {},
   "outputs": [],
   "source": [
    "T = (3)"
   ]
  },
  {
   "cell_type": "code",
   "execution_count": 78,
   "id": "9888a001",
   "metadata": {},
   "outputs": [
    {
     "data": {
      "text/plain": [
       "int"
      ]
     },
     "execution_count": 78,
     "metadata": {},
     "output_type": "execute_result"
    }
   ],
   "source": [
    "type(T)"
   ]
  },
  {
   "cell_type": "code",
   "execution_count": 79,
   "id": "d5fd13a8",
   "metadata": {},
   "outputs": [],
   "source": [
    "T = (3,)"
   ]
  },
  {
   "cell_type": "code",
   "execution_count": 80,
   "id": "e8151ca0",
   "metadata": {},
   "outputs": [
    {
     "data": {
      "text/plain": [
       "tuple"
      ]
     },
     "execution_count": 80,
     "metadata": {},
     "output_type": "execute_result"
    }
   ],
   "source": [
    "type(T)"
   ]
  },
  {
   "cell_type": "code",
   "execution_count": 81,
   "id": "ee24f016",
   "metadata": {},
   "outputs": [],
   "source": [
    "T = (12,45,36,78,98,123,45,67,77,88)"
   ]
  },
  {
   "cell_type": "code",
   "execution_count": 82,
   "id": "c602fdba",
   "metadata": {},
   "outputs": [
    {
     "data": {
      "text/plain": [
       "(12, 45, 36, 78, 98, 123, 45, 67, 77, 88)"
      ]
     },
     "execution_count": 82,
     "metadata": {},
     "output_type": "execute_result"
    }
   ],
   "source": [
    "T"
   ]
  },
  {
   "cell_type": "code",
   "execution_count": 83,
   "id": "827c2fca",
   "metadata": {},
   "outputs": [
    {
     "ename": "TypeError",
     "evalue": "'tuple' object does not support item assignment",
     "output_type": "error",
     "traceback": [
      "\u001b[0;31m---------------------------------------------------------------------------\u001b[0m",
      "\u001b[0;31mTypeError\u001b[0m                                 Traceback (most recent call last)",
      "Cell \u001b[0;32mIn[83], line 1\u001b[0m\n\u001b[0;32m----> 1\u001b[0m T[\u001b[38;5;241m0\u001b[39m] \u001b[38;5;241m=\u001b[39m \u001b[38;5;241m123\u001b[39m\n",
      "\u001b[0;31mTypeError\u001b[0m: 'tuple' object does not support item assignment"
     ]
    }
   ],
   "source": [
    "T[0] = 123"
   ]
  },
  {
   "cell_type": "code",
   "execution_count": 84,
   "id": "a42b5a97",
   "metadata": {},
   "outputs": [
    {
     "data": {
      "text/plain": [
       "12"
      ]
     },
     "execution_count": 84,
     "metadata": {},
     "output_type": "execute_result"
    }
   ],
   "source": [
    "T[0]"
   ]
  },
  {
   "cell_type": "code",
   "execution_count": 85,
   "id": "4431fa24",
   "metadata": {},
   "outputs": [
    {
     "data": {
      "text/plain": [
       "45"
      ]
     },
     "execution_count": 85,
     "metadata": {},
     "output_type": "execute_result"
    }
   ],
   "source": [
    "T[1]"
   ]
  },
  {
   "cell_type": "code",
   "execution_count": 86,
   "id": "69ce40a6",
   "metadata": {},
   "outputs": [
    {
     "data": {
      "text/plain": [
       "88"
      ]
     },
     "execution_count": 86,
     "metadata": {},
     "output_type": "execute_result"
    }
   ],
   "source": [
    "T[-1]"
   ]
  },
  {
   "cell_type": "code",
   "execution_count": 87,
   "id": "517eaf55",
   "metadata": {},
   "outputs": [
    {
     "data": {
      "text/plain": [
       "45"
      ]
     },
     "execution_count": 87,
     "metadata": {},
     "output_type": "execute_result"
    }
   ],
   "source": [
    "T[-4]"
   ]
  },
  {
   "cell_type": "code",
   "execution_count": 88,
   "id": "9fb29707",
   "metadata": {},
   "outputs": [
    {
     "data": {
      "text/plain": [
       "(12, 45, 36, 78, 98, 123, 45, 67, 77, 88)"
      ]
     },
     "execution_count": 88,
     "metadata": {},
     "output_type": "execute_result"
    }
   ],
   "source": [
    "T[:] # all items"
   ]
  },
  {
   "cell_type": "code",
   "execution_count": 89,
   "id": "1f85d023",
   "metadata": {},
   "outputs": [
    {
     "data": {
      "text/plain": [
       "(12, 45, 36, 78, 98, 123, 45, 67, 77, 88)"
      ]
     },
     "execution_count": 89,
     "metadata": {},
     "output_type": "execute_result"
    }
   ],
   "source": [
    "T[::] # all Items"
   ]
  },
  {
   "cell_type": "code",
   "execution_count": 90,
   "id": "7b85ca0b",
   "metadata": {},
   "outputs": [
    {
     "data": {
      "text/plain": [
       "(88, 77, 67, 45, 123, 98, 78, 36, 45, 12)"
      ]
     },
     "execution_count": 90,
     "metadata": {},
     "output_type": "execute_result"
    }
   ],
   "source": [
    "T[::-1] # all items in reverse order"
   ]
  },
  {
   "cell_type": "markdown",
   "id": "9ce56805",
   "metadata": {},
   "source": [
    "##### tuple slicing"
   ]
  },
  {
   "cell_type": "code",
   "execution_count": 91,
   "id": "f1418d72",
   "metadata": {},
   "outputs": [
    {
     "data": {
      "text/plain": [
       "(12, 45, 36, 78, 98, 123, 45, 67, 77, 88)"
      ]
     },
     "execution_count": 91,
     "metadata": {},
     "output_type": "execute_result"
    }
   ],
   "source": [
    "T"
   ]
  },
  {
   "cell_type": "code",
   "execution_count": 92,
   "id": "3af6fa50",
   "metadata": {},
   "outputs": [
    {
     "data": {
      "text/plain": [
       "(12, 45, 36, 78)"
      ]
     },
     "execution_count": 92,
     "metadata": {},
     "output_type": "execute_result"
    }
   ],
   "source": [
    "T[0:4]"
   ]
  },
  {
   "cell_type": "code",
   "execution_count": 93,
   "id": "17a681ec",
   "metadata": {},
   "outputs": [
    {
     "data": {
      "text/plain": [
       "(12, 45, 36, 78, 98)"
      ]
     },
     "execution_count": 93,
     "metadata": {},
     "output_type": "execute_result"
    }
   ],
   "source": [
    "T[:5]"
   ]
  },
  {
   "cell_type": "code",
   "execution_count": 94,
   "id": "77252782",
   "metadata": {},
   "outputs": [
    {
     "data": {
      "text/plain": [
       "(98, 123, 45)"
      ]
     },
     "execution_count": 94,
     "metadata": {},
     "output_type": "execute_result"
    }
   ],
   "source": [
    "T[-6:-3]"
   ]
  },
  {
   "cell_type": "markdown",
   "id": "06d537d3",
   "metadata": {},
   "source": [
    "## Tuple Methods"
   ]
  },
  {
   "cell_type": "code",
   "execution_count": 95,
   "id": "a0e48c67",
   "metadata": {},
   "outputs": [
    {
     "data": {
      "text/plain": [
       "(12, 45, 36, 78, 98, 123, 45, 67, 77, 88)"
      ]
     },
     "execution_count": 95,
     "metadata": {},
     "output_type": "execute_result"
    }
   ],
   "source": [
    "T"
   ]
  },
  {
   "cell_type": "code",
   "execution_count": 96,
   "id": "fefc0923",
   "metadata": {},
   "outputs": [
    {
     "data": {
      "text/plain": [
       "1"
      ]
     },
     "execution_count": 96,
     "metadata": {},
     "output_type": "execute_result"
    }
   ],
   "source": [
    "T.count(12)"
   ]
  },
  {
   "cell_type": "code",
   "execution_count": 97,
   "id": "fc5fb3a8",
   "metadata": {},
   "outputs": [
    {
     "data": {
      "text/plain": [
       "1"
      ]
     },
     "execution_count": 97,
     "metadata": {},
     "output_type": "execute_result"
    }
   ],
   "source": [
    "T.count(123)"
   ]
  },
  {
   "cell_type": "code",
   "execution_count": 98,
   "id": "8d8e25af",
   "metadata": {},
   "outputs": [
    {
     "data": {
      "text/plain": [
       "1"
      ]
     },
     "execution_count": 98,
     "metadata": {},
     "output_type": "execute_result"
    }
   ],
   "source": [
    "T.count(77)"
   ]
  },
  {
   "cell_type": "code",
   "execution_count": 99,
   "id": "c5baff88",
   "metadata": {},
   "outputs": [
    {
     "data": {
      "text/plain": [
       "0"
      ]
     },
     "execution_count": 99,
     "metadata": {},
     "output_type": "execute_result"
    }
   ],
   "source": [
    "T.index(12)"
   ]
  },
  {
   "cell_type": "code",
   "execution_count": 100,
   "id": "e58f62a1",
   "metadata": {},
   "outputs": [
    {
     "data": {
      "text/plain": [
       "1"
      ]
     },
     "execution_count": 100,
     "metadata": {},
     "output_type": "execute_result"
    }
   ],
   "source": [
    "T.index(45)"
   ]
  },
  {
   "cell_type": "code",
   "execution_count": 101,
   "id": "3b59b76a",
   "metadata": {},
   "outputs": [
    {
     "data": {
      "text/plain": [
       "2"
      ]
     },
     "execution_count": 101,
     "metadata": {},
     "output_type": "execute_result"
    }
   ],
   "source": [
    "T.count(45)"
   ]
  },
  {
   "cell_type": "markdown",
   "id": "c25d6ff0",
   "metadata": {},
   "source": [
    "# Set "
   ]
  },
  {
   "cell_type": "raw",
   "id": "db0dce68",
   "metadata": {},
   "source": [
    "1. Set is a collection of unorderd items \n",
    "2. Set items are written with { }\n",
    "3. Set do not allow duplicate values \n",
    "4. Set is mutable , but set items are immutable \n",
    "\n",
    "** we can add items to set / remove items from a set , but we can not change items of a set"
   ]
  },
  {
   "cell_type": "code",
   "execution_count": 102,
   "id": "46d89d7c",
   "metadata": {},
   "outputs": [],
   "source": [
    "S = {12,45,67,89,12,34,56,78,90,22,33,44}"
   ]
  },
  {
   "cell_type": "code",
   "execution_count": 103,
   "id": "fa03308a",
   "metadata": {},
   "outputs": [
    {
     "data": {
      "text/plain": [
       "{12, 22, 33, 34, 44, 45, 56, 67, 78, 89, 90}"
      ]
     },
     "execution_count": 103,
     "metadata": {},
     "output_type": "execute_result"
    }
   ],
   "source": [
    "S"
   ]
  },
  {
   "cell_type": "code",
   "execution_count": 104,
   "id": "63bed5f2",
   "metadata": {},
   "outputs": [],
   "source": [
    "S.add('python')"
   ]
  },
  {
   "cell_type": "code",
   "execution_count": 105,
   "id": "8373603e",
   "metadata": {},
   "outputs": [
    {
     "data": {
      "text/plain": [
       "{12, 22, 33, 34, 44, 45, 56, 67, 78, 89, 90, 'python'}"
      ]
     },
     "execution_count": 105,
     "metadata": {},
     "output_type": "execute_result"
    }
   ],
   "source": [
    "S"
   ]
  },
  {
   "cell_type": "code",
   "execution_count": 106,
   "id": "7eadd363",
   "metadata": {},
   "outputs": [],
   "source": [
    "S.add(111)"
   ]
  },
  {
   "cell_type": "code",
   "execution_count": null,
   "id": "2939ac2c",
   "metadata": {},
   "outputs": [],
   "source": [
    "S"
   ]
  },
  {
   "cell_type": "markdown",
   "id": "e829cb76",
   "metadata": {},
   "source": [
    "#### set methods"
   ]
  },
  {
   "cell_type": "code",
   "execution_count": null,
   "id": "1fcc7489",
   "metadata": {},
   "outputs": [],
   "source": [
    "S."
   ]
  }
 ],
 "metadata": {
  "kernelspec": {
   "display_name": "Python 3 (ipykernel)",
   "language": "python",
   "name": "python3"
  },
  "language_info": {
   "codemirror_mode": {
    "name": "ipython",
    "version": 3
   },
   "file_extension": ".py",
   "mimetype": "text/x-python",
   "name": "python",
   "nbconvert_exporter": "python",
   "pygments_lexer": "ipython3",
   "version": "3.10.9"
  }
 },
 "nbformat": 4,
 "nbformat_minor": 5
}
